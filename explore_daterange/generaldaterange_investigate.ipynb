{
 "cells": [
  {
   "cell_type": "markdown",
   "metadata": {},
   "source": [
    "Investigate changes in tags between SkySpark and InfluxDB"
   ]
  },
  {
   "cell_type": "code",
   "execution_count": 35,
   "metadata": {},
   "outputs": [
    {
     "name": "stdout",
     "output_type": "stream",
     "text": [
      "5.2.3\n"
     ]
    }
   ],
   "source": [
    "import pandas as pd\n",
    "import influxdb\n",
    "from datetime import timezone, datetime\n",
    "import pytz\n",
    "import matplotlib.pyplot as plt\n",
    "import certifi\n",
    "\n",
    "%matplotlib inline\n",
    "plt.rcParams['figure.figsize'] = [15, 5]\n",
    "\n",
    "print(influxdb.__version__)\n",
    "\n",
    "client = influxdb.InfluxDBClient(host='206.12.92.81',port=8086, \n",
    "                                  username='public', password='public',database='SKYSPARK')\n",
    "\n",
    "\n",
    "#SELECT last(value), last(time) FROM \"SKYSPARK\".\"autogen\".\"UBC_EWS\" where (\"siteRef\"='Pharmacy') GROUP BY \"groupRef\", \"equipRef\", \"navName\", \"typeRef\"\n"
   ]
  },
  {
   "cell_type": "markdown",
   "metadata": {},
   "source": [
    "## 1. First let's look at the \"metadata\" for the Pharmacy building stored in SkySpark   \n",
    "These are the exported \"points\" from SkySpark (morning of 2020-06-05)\n",
    "\n",
    "### Specifically investigating the following in this data:   \n",
    "#### a. Is the combination of groupRef, equipRef, siteRef, typeRef (BMS name), navName, and unit unique? \n",
    "#### b. What does the \"mod\" field tell us about when metadata was last modified?\n",
    "\n",
    "***\n",
    "***\n",
    "\n"
   ]
  },
  {
   "cell_type": "markdown",
   "metadata": {},
   "source": [
    "### 1a) Is the combination of groupRef, equipRef, siteRef, typeRef (BMS name), navName, and unit unique? \n",
    "\n",
    "No. It is not. There are 185 entries that conflict. i.e. using the above fields, there are 185 sensors that can not be uniquely referenced.\n",
    "All of these sensors will need to re-queried to tie them to the unique `id` field in the SkySpark database.\n"
   ]
  },
  {
   "cell_type": "code",
   "execution_count": 2,
   "metadata": {},
   "outputs": [
    {
     "name": "stderr",
     "output_type": "stream",
     "text": [
      "C:\\Users\\Alex\\Anaconda3\\lib\\site-packages\\IPython\\core\\interactiveshell.py:3020: DtypeWarning: Columns (2,54,81,118,133,140,149) have mixed types. Specify dtype option on import or set low_memory=False.\n",
      "  interactivity=interactivity, compiler=compiler, result=result)\n"
     ]
    },
    {
     "name": "stdout",
     "output_type": "stream",
     "text": [
      "There are 7938 sensors in the Pharmacy building's skyspark metadata\n",
      "185 conflicting entries in the dataframe of skyspark data. Saving as 'metad-dups.csv'\n"
     ]
    }
   ],
   "source": [
    "#Load export of \"metadata\" from skyspark for Pharmacy building (performed morning of 2020-06-05)\n",
    "metadata = pd.read_csv(\"skyspark-pharmacy-2020-06-05-query.csv\")\n",
    "#Update some tags to remove the @id from them to make them play nice with the data stored in the influxDB\n",
    "metadata['equipRefclean']=metadata['equipRef'].str.extract('[^ ]* (.*)', expand=True)\n",
    "metadata['groupRefclean']=metadata['groupRef'].str.extract('[^ ]* (.*)', expand=True)\n",
    "metadata['siteRefclean']=metadata['siteRef'].str.extract('[^ ]* (.*)', expand=True)\n",
    "#metadata['connRef']=metadata['connRef'].str.extract('[^ ]* (.*)', expand=True)\n",
    "\n",
    "#Create a uniqueID by concatenating the equipRef, groupRef, navName, siteRef, bmsName (aka typeRef), and unit\n",
    "metadata['uniqueId']=metadata['equipRefclean'].fillna('')+' '+metadata['groupRefclean'].fillna('')+' '+metadata['navName'].fillna('')+ \\\n",
    "' '+metadata['siteRefclean'].fillna('')+' '+metadata['bmsName'].fillna('')+metadata['unit'].fillna('')\n",
    "\n",
    "#Confirm that the unique ID in each data frame is actually unique!\n",
    "print(\"There are\",len(metadata),\"sensors in the Pharmacy building's skyspark metadata\")\n",
    "print(sum(metadata.duplicated(subset=[\"uniqueId\"], keep=False)), \"conflicting entries in the dataframe of skyspark data. Saving as 'metad-dups.csv'\")\n",
    "(metadata[:][metadata.duplicated(subset=[\"uniqueId\"], keep=False)]).to_csv(\"metad-dups.csv\")\n",
    "\n",
    "\n",
    "#Also create a uniqueId without a unit for later checks\n",
    "metadata['uniqueId_nounit']=metadata['equipRefclean'].fillna('')+' '+metadata['groupRefclean'].fillna('')+' '+metadata['navName'].fillna('')+ \\\n",
    "' '+metadata['siteRefclean'].fillna('')+' '+metadata['bmsName'].fillna('')+metadata['unit'].fillna('')"
   ]
  },
  {
   "cell_type": "markdown",
   "metadata": {},
   "source": [
    "### 1b) Counts based on skyspark 'mod' field \n",
    "\n",
    "Can we use the `mod` field to determine when sensors were last modifed? Not reliably. Several sensors have some sort of \"last value\" field updated in the metadata and others may have had various fields updated, but not the ones of concern to us when trying to link the influxDB-housed data back to a unique `id` field in SkySpark. Still, we can see when some changes occured."
   ]
  },
  {
   "cell_type": "code",
   "execution_count": 3,
   "metadata": {},
   "outputs": [
    {
     "name": "stdout",
     "output_type": "stream",
     "text": [
      "              id\n",
      "mod             \n",
      "2019-11-01    14\n",
      "2019-11-07    10\n",
      "2020-02-26     2\n",
      "2020-03-07     7\n",
      "2020-03-19     4\n",
      "2020-03-25     1\n",
      "2020-04-08  1132\n",
      "2020-04-09  5684\n",
      "2020-04-14    95\n",
      "2020-04-16     1\n",
      "2020-04-17    23\n",
      "2020-04-21     4\n",
      "2020-04-28     1\n",
      "2020-04-30   317\n",
      "2020-05-02   243\n",
      "2020-05-04     4\n",
      "2020-05-06     2\n",
      "2020-05-29   366\n",
      "2020-06-03     8\n",
      "2020-06-05    20\n"
     ]
    },
    {
     "name": "stderr",
     "output_type": "stream",
     "text": [
      "C:\\Users\\Alex\\Anaconda3\\lib\\site-packages\\ipykernel_launcher.py:2: SettingWithCopyWarning: \n",
      "A value is trying to be set on a copy of a slice from a DataFrame.\n",
      "Try using .loc[row_indexer,col_indexer] = value instead\n",
      "\n",
      "See the caveats in the documentation: http://pandas.pydata.org/pandas-docs/stable/indexing.html#indexing-view-versus-copy\n",
      "  \n"
     ]
    }
   ],
   "source": [
    "mod_df=metadata[[\"id\",\"mod\"]]\n",
    "mod_df['mod'] = pd.to_datetime(mod_df['mod'].str.split(expand=True)[0]).dt.date\n",
    "grouped_mod = mod_df.groupby([\"mod\"]).count()\n",
    "print(grouped_mod)"
   ]
  },
  {
   "cell_type": "markdown",
   "metadata": {},
   "source": [
    "The 9th of April had some large update to the bulk of the Pharmacy Building points.\n",
    "\n",
    "***"
   ]
  },
  {
   "cell_type": "markdown",
   "metadata": {},
   "source": [
    "## 2. Since we aren't sure about the \"mod\" results, let's query the influxDB and try to find a \"stable\" date range.\n"
   ]
  },
  {
   "cell_type": "markdown",
   "metadata": {},
   "source": [
    "#### Get a list of all buildings stored in the siteRef tag\n",
    "\n",
    "(can use this later in a for loop to run through all buildings instead of just Pharmacy)"
   ]
  },
  {
   "cell_type": "code",
   "execution_count": 4,
   "metadata": {},
   "outputs": [
    {
     "name": "stdout",
     "output_type": "stream",
     "text": [
      "128 buildings found in the siteRef tag\n"
     ]
    }
   ],
   "source": [
    "results = client.query('SHOW TAG VALUES ON \"SKYSPARK\" WITH KEY = \"siteRef\";')\n",
    "site_list=[]\n",
    "for item in results[\"UBC_EWS\"]:\n",
    "    site_list.append(item[\"value\"])\n",
    "print(len(site_list),\"buildings found in the siteRef tag\")    "
   ]
  },
  {
   "cell_type": "markdown",
   "metadata": {},
   "source": [
    "#### Query influxDB to get the time stamp of the last value stored for each sensor\n",
    "\n",
    "(assuming that a combination of `groupRef`, `equipRef`, `typeRef`, `navName`, and `unit` uniquely identify a sensor - which as seen from part 1a is not true. This is the best we can do with the data though)"
   ]
  },
  {
   "cell_type": "code",
   "execution_count": 5,
   "metadata": {},
   "outputs": [],
   "source": [
    "# Query the database for all of the last time stamps for each sensor \n",
    "#  (have to do last(value) to make influxDB happy)\n",
    "\n",
    "#JUST LOOKING AT A SINGLE BUILDING so setting site=\"Pharmacy\"\n",
    "#But you can imagine we could do a for loop here and encapsulate all the following cells of code in it\n",
    "#something like: `for site in site_list:`\n",
    "site=\"Pharmacy\"\n",
    "\n",
    "query2 = '''select last(value), groupRef, equipRef, typeRef, navName, unit from UBC_EWS \n",
    "where siteRef=$siteRef group By groupRef, equipRef,typeRef,navName,unit'''\n",
    "\n",
    "where_params = {'siteRef': site}\n",
    "result2 = client.query(query = query2, bind_params=where_params, chunked=True, chunk_size=10000)"
   ]
  },
  {
   "cell_type": "code",
   "execution_count": 6,
   "metadata": {},
   "outputs": [],
   "source": [
    "#Turn results of query into a dataframe\n",
    "#(I wasn't able to make the influxdb-python DataFrameClient object work for a query with grouping!)\n",
    "list_of_df=[]\n",
    "n=0\n",
    "for item in result2.get_points(measurement=\"UBC_EWS\"):\n",
    "    list_of_df.append(pd.DataFrame.from_dict(item,orient=\"index\"))\n",
    "\n",
    "lastdf = pd.concat(list_of_df, axis=1)\n",
    "lastdf = lastdf.transpose(copy=True)\n",
    "lastdf.reset_index(drop=True, inplace=True)"
   ]
  },
  {
   "cell_type": "markdown",
   "metadata": {},
   "source": [
    "Query again + create dataframe using first(value) timestamp instead of last(value) timestamp"
   ]
  },
  {
   "cell_type": "code",
   "execution_count": 7,
   "metadata": {},
   "outputs": [],
   "source": [
    "query3 = '''select first(value), groupRef, equipRef, typeRef, navName, unit from UBC_EWS \n",
    "where siteRef=$siteRef group By groupRef, equipRef,typeRef,navName,unit'''\n",
    "\n",
    "result3 = client.query(query = query3, bind_params=where_params, chunked=True, chunk_size=10000)"
   ]
  },
  {
   "cell_type": "code",
   "execution_count": 8,
   "metadata": {},
   "outputs": [],
   "source": [
    "list_of_df=[]\n",
    "n=0\n",
    "\n",
    "for item in result3.get_points(measurement=\"UBC_EWS\"):\n",
    "    list_of_df.append(pd.DataFrame.from_dict(item,orient=\"index\"))\n",
    "\n",
    "firstdf = pd.concat(list_of_df, axis=1)\n",
    "firstdf = firstdf.transpose(copy=True)\n",
    "firstdf.reset_index(drop=True, inplace=True)\n",
    "list_of_df=None"
   ]
  },
  {
   "cell_type": "code",
   "execution_count": 9,
   "metadata": {},
   "outputs": [],
   "source": [
    "#Get a date column from the timestamp 'time' column\n",
    "firstdf['time'] = pd.to_datetime(firstdf['time'])\n",
    "firstdf['firstdate'] = firstdf['time'].dt.date\n",
    "lastdf['time'] = pd.to_datetime(lastdf['time'])\n",
    "lastdf['lastdate'] = lastdf['time'].dt.date"
   ]
  },
  {
   "cell_type": "code",
   "execution_count": 10,
   "metadata": {},
   "outputs": [
    {
     "name": "stdout",
     "output_type": "stream",
     "text": [
      "Number of supposedly unique sensors (also check that query for first and last time stamps return same num results) 17584 17584\n",
      "Number of entries after merging _last and _first value data: 17584\n"
     ]
    }
   ],
   "source": [
    "#The numbers printed out are just a quick check: should all equal. Just making sure both data frames are same length and merging them together yields same length\n",
    "\n",
    "print(\"Number of supposedly unique sensors (also check that query for first and last time stamps return same num results)\",len(firstdf),len(lastdf))\n",
    "\n",
    "influxdf = pd.merge(left=firstdf,right=lastdf,on=[\"equipRef\",\"groupRef\",\"navName\",\"typeRef\",\"unit\"], suffixes=(\"_first\",\"_last\"))\n",
    "print(\"Number of entries after merging _last and _first value data:\",len(influxdf))"
   ]
  },
  {
   "cell_type": "markdown",
   "metadata": {},
   "source": [
    "Create a uniqueID to join the two data frames (so that we have a firstvalue time stamp and last value timestamp)"
   ]
  },
  {
   "cell_type": "code",
   "execution_count": 11,
   "metadata": {},
   "outputs": [
    {
     "name": "stdout",
     "output_type": "stream",
     "text": [
      "0 duplicated entries in the dataframe of influxDB data\n"
     ]
    }
   ],
   "source": [
    "#Create uniqueID by concatenating specific fields in the data queried from influxDB\n",
    "#This will make the join statement a little shorter.\n",
    "#Note that for whatever reason metadata has the site name at the start of the equipRef\n",
    "# but influxDB data does not. So we are adding it back in using at the start of the uniqueId\n",
    "\n",
    "influxdf['unit_noomit']=influxdf['unit'].apply(lambda x: \"\" if (x==\"omit\") else x)\n",
    "\n",
    "influxdf['uniqueId']=site+' '+influxdf['equipRef'].fillna('')+' '+influxdf['groupRef'].fillna('')+' '+influxdf['navName'].fillna('')+ \\\n",
    "' '+site+' '+influxdf['typeRef'].fillna('')+influxdf['unit_noomit'].fillna('')\n",
    "\n",
    "influxdf['uniqueId_nounit']=site+' '+influxdf['equipRef'].fillna('')+' '+influxdf['groupRef'].fillna('')+' '+influxdf['navName'].fillna('')+ \\\n",
    "' '+site+' '+influxdf['typeRef'].fillna('')\n",
    "\n",
    "#Confirm that the uniqueID is actually unique:\n",
    "print(sum(influxdf.duplicated(subset=[\"uniqueId\"], keep=\"first\")), \"duplicated entries in the dataframe of influxDB data\")\n",
    "\n",
    "#influxdf.set_index(\"uniqueId\", inplace=True)\n"
   ]
  },
  {
   "cell_type": "markdown",
   "metadata": {},
   "source": [
    "#### Plot the last update date for each of the unique sensors\n",
    "\n",
    "**Note** This can take a while to run. You can skip this cell - the resulting dataframe is NOT needed for any of the code that follows"
   ]
  },
  {
   "cell_type": "code",
   "execution_count": 38,
   "metadata": {},
   "outputs": [
    {
     "name": "stdout",
     "output_type": "stream",
     "text": [
      "lastdate\n",
      "2017-07-14     5\n",
      "2017-09-29     3\n",
      "2018-07-17     3\n",
      "2018-07-21     3\n",
      "2018-10-30    71\n",
      "Name: time_last, dtype: int64\n"
     ]
    },
    {
     "data": {
      "image/png": "[encoded data removed]",
      "text/plain": [
       "<Figure size 1080x360 with 1 Axes>"
      ]
     },
     "metadata": {
      "needs_background": "light"
     },
     "output_type": "display_data"
    }
   ],
   "source": [
    "grouped_results = influxdf.groupby([\"lastdate\"]).count()[\"time_last\"]\n",
    "print(grouped_results.head())\n",
    "\n",
    "grouped_results.plot.bar()\n",
    "\n",
    "plt.show()"
   ]
  },
  {
   "cell_type": "code",
   "execution_count": 37,
   "metadata": {},
   "outputs": [
    {
     "name": "stdout",
     "output_type": "stream",
     "text": [
      "firstdate\n",
      "2017-05-27    1\n",
      "2017-07-14    5\n",
      "2017-09-29    3\n",
      "2018-07-17    3\n",
      "2018-07-21    3\n",
      "Name: time_first, dtype: int64\n"
     ]
    },
    {
     "data": {
      "image/png": "[encoded data removed]",
      "text/plain": [
       "<Figure size 1080x360 with 1 Axes>"
      ]
     },
     "metadata": {
      "needs_background": "light"
     },
     "output_type": "display_data"
    }
   ],
   "source": [
    "#And again but with firstdate\n",
    "\n",
    "grouped_results = influxdf.groupby([\"firstdate\"]).count()[\"time_first\"]\n",
    "print(grouped_results.head())\n",
    "\n",
    "grouped_results.plot.bar()\n",
    "\n",
    "plt.show()"
   ]
  },
  {
   "cell_type": "markdown",
   "metadata": {},
   "source": [
    "That's way too many spikes for us to be able to pick a specific day and say this is the start of our \"stable\" data. Also, it is more important that we know when sensor tags in influxDB started matching the current equivalent tags in SkySpark.\n",
    "\n",
    "\n",
    "The best way to visualize this will be to filter to only the records that are **not** able to join with a 2020-06-05 export of \"metadata\" from SkySpark - whatever the latest date is for those records is the start of our date range for \"stable\" data."
   ]
  },
  {
   "cell_type": "markdown",
   "metadata": {},
   "source": [
    "### Join the SkySpark metadata with the influxDB-queried data\n",
    "\n",
    "(goal is to create a dataframe of all entries NOT in the intersection)"
   ]
  },
  {
   "cell_type": "code",
   "execution_count": 22,
   "metadata": {},
   "outputs": [
    {
     "name": "stdout",
     "output_type": "stream",
     "text": [
      "metadata with duplicates = 7938\n",
      "metadata without duplicates = 7832\n",
      "difference: 106\n"
     ]
    }
   ],
   "source": [
    "#Prep the SkySpark metadata dataframe by only keeping the first entry of each \n",
    "#   of duplicates in the 185 conflicting entries\n",
    "\n",
    "metadata_nodup = metadata.drop_duplicates(subset=['uniqueId'], keep='first')\n",
    "\n",
    "print(\"metadata with duplicates =\", len(metadata))\n",
    "print(\"metadata without duplicates =\", len(metadata_nodup))\n",
    "print(\"difference:\",len(metadata)-len(metadata_nodup))\n",
    "\n",
    "metadata_nodup.set_index(\"uniqueId\", inplace=True)"
   ]
  },
  {
   "cell_type": "code",
   "execution_count": 32,
   "metadata": {},
   "outputs": [],
   "source": [
    "#print(influxdf.index[5])\n",
    "#print(metadata_nodup.index[5])\n",
    "#influxdf.index.difference(metadata_nodup.index)\n",
    "#metadata_nodup.index.difference(influxdf.index)"
   ]
  },
  {
   "cell_type": "code",
   "execution_count": 17,
   "metadata": {},
   "outputs": [
    {
     "name": "stdout",
     "output_type": "stream",
     "text": [
      "Units present in skySpark: ['kWh' 'A' '°C' nan 'ppm' '%' 'kW' 'W' 'L/s' 'L' 'Hz' 'Pa' 'kPa' '_' 'V'\n",
      " '%RH' 'psi' '°F' 'min' 'ft/min' 'm³' 'rpm' 'bar' 'ft' 'm³/h'] \n",
      "\n",
      "\n",
      "Units present in influxDB: ['%' '_' '°C' 'kPa' 'omit' 'Pa' '%RH' 'L/s' 'Hz' 'kWh' 'kW' 'ppm' 'ft/min'\n",
      " 'm³' 'A' 'min' 'W' 'V' 'psi' '°F' 'rpm' 'L']\n"
     ]
    }
   ],
   "source": [
    "\n",
    "\n",
    "#What units are present in influxdf?\n",
    "print(\"Units present in skySpark:\",metadata_nodup['unit'].unique(),\"\\n\\n\")\n",
    "print(\"Units present in influxDB:\",influxdf['unit'].unique())"
   ]
  },
  {
   "cell_type": "code",
   "execution_count": 14,
   "metadata": {},
   "outputs": [],
   "source": [
    "#DF of intersection of metadata and influxdb data (has to exist in both):\n",
    "\n",
    "test = pd.merge(left=influxdf, right=metadata_nodup, how=\"inner\", left_index=True, right_index=True)"
   ]
  },
  {
   "cell_type": "code",
   "execution_count": 15,
   "metadata": {},
   "outputs": [
    {
     "name": "stdout",
     "output_type": "stream",
     "text": [
      "firstdate\n",
      "2017-07-14     1\n",
      "2017-09-29     1\n",
      "2018-07-17     1\n",
      "2018-07-21     1\n",
      "2018-10-30    23\n",
      "              ..\n",
      "2020-05-06     2\n",
      "2020-05-11     1\n",
      "2020-05-26     2\n",
      "2020-05-28     1\n",
      "2020-05-29     4\n",
      "Name: time_first, Length: 232, dtype: int64\n"
     ]
    },
    {
     "data": {
      "image/png": "[encoded data removed]",
      "text/plain": [
       "<Figure size 1080x360 with 1 Axes>"
      ]
     },
     "metadata": {
      "needs_background": "light"
     },
     "output_type": "display_data"
    }
   ],
   "source": [
    "grouped_results = test.groupby([\"firstdate\"]).count()['time_first']\n",
    "print(grouped_results)\n",
    "grouped_results.tail(90).plot.bar()\n",
    "plt.show()"
   ]
  },
  {
   "cell_type": "markdown",
   "metadata": {},
   "source": [
    "There is more that could be looked at but one simple conclusion is that over 2500 sensors don't have any records from before 2020-01-07. That makes this a reasonable minimum date (i.e. start date). As for the end date, there is no obvious last date. Using the code below we can try to identify days with no data but that isn't critical. \n",
    "\n",
    "### Recommendation: 2020-01-08 to 2020-06-01 (inclusive)"
   ]
  },
  {
   "cell_type": "code",
   "execution_count": 23,
   "metadata": {},
   "outputs": [],
   "source": [
    "query4 = '''select count(value) from UBC_EWS \n",
    "where siteRef=$siteRef and time > now() - 45d group By time(1d)'''\n",
    "\n",
    "result4 = client.query(query = query4, bind_params=where_params, chunked=True, chunk_size=10000)"
   ]
  },
  {
   "cell_type": "code",
   "execution_count": 36,
   "metadata": {},
   "outputs": [
    {
     "data": {
      "image/png": "[encoded data removed]",
      "text/plain": [
       "<Figure size 1080x360 with 1 Axes>"
      ]
     },
     "metadata": {
      "needs_background": "light"
     },
     "output_type": "display_data"
    }
   ],
   "source": [
    "list_of_df=[]\n",
    "n=0\n",
    "\n",
    "for item in result4.get_points(measurement=\"UBC_EWS\"):\n",
    "    list_of_df.append(pd.DataFrame.from_dict(item,orient=\"index\"))\n",
    "\n",
    "perday = pd.concat(list_of_df, axis=1)\n",
    "perday = perday.transpose(copy=True)\n",
    "perday.reset_index(drop=True, inplace=True)\n",
    "list_of_df=None\n",
    "perday['time'] = pd.to_datetime(firstdf['time']).dt.date\n",
    "perday.set_index('time', inplace=True)\n",
    "perday.plot.bar()\n",
    "\n",
    "plt.show()"
   ]
  }
 ],
 "metadata": {
  "kernelspec": {
   "display_name": "Python 3",
   "language": "python",
   "name": "python3"
  },
  "language_info": {
   "codemirror_mode": {
    "name": "ipython",
    "version": 3
   },
   "file_extension": ".py",
   "mimetype": "text/x-python",
   "name": "python",
   "nbconvert_exporter": "python",
   "pygments_lexer": "ipython3",
   "version": "3.7.1"
  }
 },
 "nbformat": 4,
 "nbformat_minor": 4
}
