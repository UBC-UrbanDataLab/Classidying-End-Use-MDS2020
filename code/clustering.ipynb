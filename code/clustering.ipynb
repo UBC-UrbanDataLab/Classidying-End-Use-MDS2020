{
 "cells": [
  {
   "cell_type": "code",
   "execution_count": 22,
   "metadata": {},
   "outputs": [],
   "source": [
    "# Library Imports\n",
    "# Data storing Imports\n",
    "import numpy as np\n",
    "import pandas as pd\n",
    "\n",
    "# Clustering imports\n",
    "from sklearn.cluster import KMeans, AgglomerativeClustering, DBSCAN, MeanShift\n",
    "from sklearn.mixture import GaussianMixture, BayesianGaussianMixture\n",
    "import hdbscan\n",
    "import skfuzzy as fuzz\n",
    "\n",
    "# Cluster performance comparison metric imports\n",
    "from sklearn.metrics import silhouette_score\n",
    "\n",
    "\n",
    "# Distance Calculation Imports\n",
    "import gower\n",
    "\n",
    "# MDS Import\n",
    "from sklearn.manifold import MDS\n",
    "\n",
    "# Function imports from other files\n",
    "import data_preparation as dp\n",
    "\n",
    "# Plotting Imports\n",
    "from mpl_toolkits.mplot3d import Axes3D\n",
    "import matplotlib.pyplot as plt"
   ]
  },
  {
   "cell_type": "code",
   "execution_count": 2,
   "metadata": {},
   "outputs": [
    {
     "name": "stdout",
     "output_type": "stream",
     "text": [
      "(4452, 8)\n",
      "['ppm' '°C' 'omit' 'Pa' '%' 'ft/min' 'L/s' '_' 'L' 'A' 'kPa' 'psi' '°F'\n",
      " 'kW' '%RH' 'min' 'W' 'V' 'kWh' 'm³' 'Hz' 'rpm']\n"
     ]
    },
    {
     "data": {
      "text/html": [
       "<div>\n",
       "<style scoped>\n",
       "    .dataframe tbody tr th:only-of-type {\n",
       "        vertical-align: middle;\n",
       "    }\n",
       "\n",
       "    .dataframe tbody tr th {\n",
       "        vertical-align: top;\n",
       "    }\n",
       "\n",
       "    .dataframe thead th {\n",
       "        text-align: right;\n",
       "    }\n",
       "</style>\n",
       "<table border=\"1\" class=\"dataframe\">\n",
       "  <thead>\n",
       "    <tr style=\"text-align: right;\">\n",
       "      <th></th>\n",
       "      <th>datetime</th>\n",
       "      <th>equipRef</th>\n",
       "      <th>groupRef</th>\n",
       "      <th>navName</th>\n",
       "      <th>siteRef</th>\n",
       "      <th>typeRef</th>\n",
       "      <th>unit</th>\n",
       "      <th>value</th>\n",
       "    </tr>\n",
       "  </thead>\n",
       "  <tbody>\n",
       "    <tr>\n",
       "      <th>0</th>\n",
       "      <td>2020-05-01 00:00:01+00:00</td>\n",
       "      <td>EF-B02</td>\n",
       "      <td>Pharmacy Air Systems</td>\n",
       "      <td>EF_B02_RLD_CH1_3</td>\n",
       "      <td>Pharmacy</td>\n",
       "      <td>EF_B02_RLD_CH1_3</td>\n",
       "      <td>ppm</td>\n",
       "      <td>2.107125</td>\n",
       "    </tr>\n",
       "    <tr>\n",
       "      <th>1</th>\n",
       "      <td>2020-05-01 00:00:01+00:00</td>\n",
       "      <td>Heating Plant SBLR-1</td>\n",
       "      <td>Pharmacy Hydronic Systems</td>\n",
       "      <td>SB1_2_FGAS_INLET_T</td>\n",
       "      <td>Pharmacy</td>\n",
       "      <td>SB1_2_FGAS_INLET_T</td>\n",
       "      <td>°C</td>\n",
       "      <td>274.787537</td>\n",
       "    </tr>\n",
       "    <tr>\n",
       "      <th>2</th>\n",
       "      <td>2020-05-01 00:00:01+00:00</td>\n",
       "      <td>Rm 2340 VAV-2S008</td>\n",
       "      <td>Pharmacy Floor 2</td>\n",
       "      <td>Zone Temp</td>\n",
       "      <td>Pharmacy</td>\n",
       "      <td>VAV_2S008_RT_AV</td>\n",
       "      <td>°C</td>\n",
       "      <td>24.574572</td>\n",
       "    </tr>\n",
       "    <tr>\n",
       "      <th>3</th>\n",
       "      <td>2020-05-01 00:00:01+00:00</td>\n",
       "      <td>Rm B612 FC-B06</td>\n",
       "      <td>Pharmacy Floor 0</td>\n",
       "      <td>Discharge Fan Run Cmd</td>\n",
       "      <td>Pharmacy</td>\n",
       "      <td>FCU_B06_C</td>\n",
       "      <td>omit</td>\n",
       "      <td>True</td>\n",
       "    </tr>\n",
       "    <tr>\n",
       "      <th>4</th>\n",
       "      <td>2020-05-01 00:00:02+00:00</td>\n",
       "      <td>AHU-06</td>\n",
       "      <td>Pharmacy Air Systems</td>\n",
       "      <td>AHU6_SPACE_DP(MUX)</td>\n",
       "      <td>Pharmacy</td>\n",
       "      <td>AHU6_SPACE_DP(MUX)</td>\n",
       "      <td>Pa</td>\n",
       "      <td>7.981429</td>\n",
       "    </tr>\n",
       "  </tbody>\n",
       "</table>\n",
       "</div>"
      ],
      "text/plain": [
       "                    datetime              equipRef                   groupRef  \\\n",
       "0  2020-05-01 00:00:01+00:00                EF-B02       Pharmacy Air Systems   \n",
       "1  2020-05-01 00:00:01+00:00  Heating Plant SBLR-1  Pharmacy Hydronic Systems   \n",
       "2  2020-05-01 00:00:01+00:00     Rm 2340 VAV-2S008           Pharmacy Floor 2   \n",
       "3  2020-05-01 00:00:01+00:00        Rm B612 FC-B06           Pharmacy Floor 0   \n",
       "4  2020-05-01 00:00:02+00:00                AHU-06       Pharmacy Air Systems   \n",
       "\n",
       "                 navName   siteRef             typeRef  unit       value  \n",
       "0       EF_B02_RLD_CH1_3  Pharmacy    EF_B02_RLD_CH1_3   ppm    2.107125  \n",
       "1     SB1_2_FGAS_INLET_T  Pharmacy  SB1_2_FGAS_INLET_T    °C  274.787537  \n",
       "2              Zone Temp  Pharmacy     VAV_2S008_RT_AV    °C   24.574572  \n",
       "3  Discharge Fan Run Cmd  Pharmacy           FCU_B06_C  omit        True  \n",
       "4     AHU6_SPACE_DP(MUX)  Pharmacy  AHU6_SPACE_DP(MUX)    Pa    7.981429  "
      ]
     },
     "execution_count": 2,
     "metadata": {},
     "output_type": "execute_result"
    }
   ],
   "source": [
    "# Reading in data for testing\n",
    "data = pd.read_csv('test_data/2020-05-01.csv')\n",
    "data = data.drop_duplicates(subset=['equipRef','groupRef','navName','siteRef','typeRef','unit'])\n",
    "print(data.shape)\n",
    "print(data['unit'].unique())\n",
    "data.head()"
   ]
  },
  {
   "cell_type": "markdown",
   "metadata": {},
   "source": [
    "# Scaling values and encoding values and units\n",
    "The function for scaling and encoding values is different from the one for scaling units so the resulting dataframes need to be merged. It has been kept this way as I'm not sure what will need to be done to incorporate the features from the SkySpark metadata and it will be more efficient to write the function that combines the three dataframes together at once rather than one at a time. "
   ]
  },
  {
   "cell_type": "code",
   "execution_count": 3,
   "metadata": {},
   "outputs": [
    {
     "data": {
      "text/html": [
       "<div>\n",
       "<style scoped>\n",
       "    .dataframe tbody tr th:only-of-type {\n",
       "        vertical-align: middle;\n",
       "    }\n",
       "\n",
       "    .dataframe tbody tr th {\n",
       "        vertical-align: top;\n",
       "    }\n",
       "\n",
       "    .dataframe thead th {\n",
       "        text-align: right;\n",
       "    }\n",
       "</style>\n",
       "<table border=\"1\" class=\"dataframe\">\n",
       "  <thead>\n",
       "    <tr style=\"text-align: right;\">\n",
       "      <th></th>\n",
       "      <th>datetime</th>\n",
       "      <th>equipRef</th>\n",
       "      <th>groupRef</th>\n",
       "      <th>navName</th>\n",
       "      <th>siteRef</th>\n",
       "      <th>typeRef</th>\n",
       "      <th>unit</th>\n",
       "      <th>value</th>\n",
       "      <th>cv_0</th>\n",
       "      <th>cv_1</th>\n",
       "      <th>...</th>\n",
       "      <th>unit_12</th>\n",
       "      <th>unit_13</th>\n",
       "      <th>unit_14</th>\n",
       "      <th>unit_15</th>\n",
       "      <th>unit_16</th>\n",
       "      <th>unit_17</th>\n",
       "      <th>unit_18</th>\n",
       "      <th>unit_19</th>\n",
       "      <th>unit_20</th>\n",
       "      <th>unit_21</th>\n",
       "    </tr>\n",
       "  </thead>\n",
       "  <tbody>\n",
       "    <tr>\n",
       "      <th>0</th>\n",
       "      <td>2020-05-01 00:00:01+00:00</td>\n",
       "      <td>EF-B02</td>\n",
       "      <td>Pharmacy Air Systems</td>\n",
       "      <td>EF_B02_RLD_CH1_3</td>\n",
       "      <td>Pharmacy</td>\n",
       "      <td>EF_B02_RLD_CH1_3</td>\n",
       "      <td>ppm</td>\n",
       "      <td>2.107125</td>\n",
       "      <td>0.0</td>\n",
       "      <td>0.0</td>\n",
       "      <td>...</td>\n",
       "      <td>0.0</td>\n",
       "      <td>0.0</td>\n",
       "      <td>0.0</td>\n",
       "      <td>0.0</td>\n",
       "      <td>0.0</td>\n",
       "      <td>0.0</td>\n",
       "      <td>0.0</td>\n",
       "      <td>0.0</td>\n",
       "      <td>0.0</td>\n",
       "      <td>0.0</td>\n",
       "    </tr>\n",
       "    <tr>\n",
       "      <th>1</th>\n",
       "      <td>2020-05-01 00:00:01+00:00</td>\n",
       "      <td>Heating Plant SBLR-1</td>\n",
       "      <td>Pharmacy Hydronic Systems</td>\n",
       "      <td>SB1_2_FGAS_INLET_T</td>\n",
       "      <td>Pharmacy</td>\n",
       "      <td>SB1_2_FGAS_INLET_T</td>\n",
       "      <td>°C</td>\n",
       "      <td>274.787537</td>\n",
       "      <td>0.0</td>\n",
       "      <td>0.0</td>\n",
       "      <td>...</td>\n",
       "      <td>0.0</td>\n",
       "      <td>0.0</td>\n",
       "      <td>0.0</td>\n",
       "      <td>0.0</td>\n",
       "      <td>0.0</td>\n",
       "      <td>0.0</td>\n",
       "      <td>0.0</td>\n",
       "      <td>0.0</td>\n",
       "      <td>0.0</td>\n",
       "      <td>0.0</td>\n",
       "    </tr>\n",
       "    <tr>\n",
       "      <th>2</th>\n",
       "      <td>2020-05-01 00:00:01+00:00</td>\n",
       "      <td>Rm 2340 VAV-2S008</td>\n",
       "      <td>Pharmacy Floor 2</td>\n",
       "      <td>Zone Temp</td>\n",
       "      <td>Pharmacy</td>\n",
       "      <td>VAV_2S008_RT_AV</td>\n",
       "      <td>°C</td>\n",
       "      <td>24.574572</td>\n",
       "      <td>0.0</td>\n",
       "      <td>0.0</td>\n",
       "      <td>...</td>\n",
       "      <td>0.0</td>\n",
       "      <td>0.0</td>\n",
       "      <td>0.0</td>\n",
       "      <td>0.0</td>\n",
       "      <td>0.0</td>\n",
       "      <td>0.0</td>\n",
       "      <td>0.0</td>\n",
       "      <td>0.0</td>\n",
       "      <td>0.0</td>\n",
       "      <td>0.0</td>\n",
       "    </tr>\n",
       "    <tr>\n",
       "      <th>3</th>\n",
       "      <td>2020-05-01 00:00:01+00:00</td>\n",
       "      <td>Rm B612 FC-B06</td>\n",
       "      <td>Pharmacy Floor 0</td>\n",
       "      <td>Discharge Fan Run Cmd</td>\n",
       "      <td>Pharmacy</td>\n",
       "      <td>FCU_B06_C</td>\n",
       "      <td>omit</td>\n",
       "      <td>True</td>\n",
       "      <td>1.0</td>\n",
       "      <td>0.0</td>\n",
       "      <td>...</td>\n",
       "      <td>0.0</td>\n",
       "      <td>0.0</td>\n",
       "      <td>0.0</td>\n",
       "      <td>0.0</td>\n",
       "      <td>0.0</td>\n",
       "      <td>0.0</td>\n",
       "      <td>0.0</td>\n",
       "      <td>0.0</td>\n",
       "      <td>0.0</td>\n",
       "      <td>0.0</td>\n",
       "    </tr>\n",
       "    <tr>\n",
       "      <th>4</th>\n",
       "      <td>2020-05-01 00:00:02+00:00</td>\n",
       "      <td>AHU-06</td>\n",
       "      <td>Pharmacy Air Systems</td>\n",
       "      <td>AHU6_SPACE_DP(MUX)</td>\n",
       "      <td>Pharmacy</td>\n",
       "      <td>AHU6_SPACE_DP(MUX)</td>\n",
       "      <td>Pa</td>\n",
       "      <td>7.981429</td>\n",
       "      <td>0.0</td>\n",
       "      <td>0.0</td>\n",
       "      <td>...</td>\n",
       "      <td>0.0</td>\n",
       "      <td>0.0</td>\n",
       "      <td>0.0</td>\n",
       "      <td>0.0</td>\n",
       "      <td>0.0</td>\n",
       "      <td>0.0</td>\n",
       "      <td>0.0</td>\n",
       "      <td>0.0</td>\n",
       "      <td>0.0</td>\n",
       "      <td>0.0</td>\n",
       "    </tr>\n",
       "  </tbody>\n",
       "</table>\n",
       "<p>5 rows × 41 columns</p>\n",
       "</div>"
      ],
      "text/plain": [
       "                    datetime              equipRef                   groupRef  \\\n",
       "0  2020-05-01 00:00:01+00:00                EF-B02       Pharmacy Air Systems   \n",
       "1  2020-05-01 00:00:01+00:00  Heating Plant SBLR-1  Pharmacy Hydronic Systems   \n",
       "2  2020-05-01 00:00:01+00:00     Rm 2340 VAV-2S008           Pharmacy Floor 2   \n",
       "3  2020-05-01 00:00:01+00:00        Rm B612 FC-B06           Pharmacy Floor 0   \n",
       "4  2020-05-01 00:00:02+00:00                AHU-06       Pharmacy Air Systems   \n",
       "\n",
       "                 navName   siteRef             typeRef  unit       value  \\\n",
       "0       EF_B02_RLD_CH1_3  Pharmacy    EF_B02_RLD_CH1_3   ppm    2.107125   \n",
       "1     SB1_2_FGAS_INLET_T  Pharmacy  SB1_2_FGAS_INLET_T    °C  274.787537   \n",
       "2              Zone Temp  Pharmacy     VAV_2S008_RT_AV    °C   24.574572   \n",
       "3  Discharge Fan Run Cmd  Pharmacy           FCU_B06_C  omit        True   \n",
       "4     AHU6_SPACE_DP(MUX)  Pharmacy  AHU6_SPACE_DP(MUX)    Pa    7.981429   \n",
       "\n",
       "   cv_0  cv_1  ...  unit_12  unit_13  unit_14  unit_15  unit_16  unit_17  \\\n",
       "0   0.0   0.0  ...      0.0      0.0      0.0      0.0      0.0      0.0   \n",
       "1   0.0   0.0  ...      0.0      0.0      0.0      0.0      0.0      0.0   \n",
       "2   0.0   0.0  ...      0.0      0.0      0.0      0.0      0.0      0.0   \n",
       "3   1.0   0.0  ...      0.0      0.0      0.0      0.0      0.0      0.0   \n",
       "4   0.0   0.0  ...      0.0      0.0      0.0      0.0      0.0      0.0   \n",
       "\n",
       "   unit_18  unit_19  unit_20  unit_21  \n",
       "0      0.0      0.0      0.0      0.0  \n",
       "1      0.0      0.0      0.0      0.0  \n",
       "2      0.0      0.0      0.0      0.0  \n",
       "3      0.0      0.0      0.0      0.0  \n",
       "4      0.0      0.0      0.0      0.0  \n",
       "\n",
       "[5 rows x 41 columns]"
      ]
     },
     "execution_count": 3,
     "metadata": {},
     "output_type": "execute_result"
    }
   ],
   "source": [
    "# Encoding and scaling the values and encoding the units, combining units and values the dataframes and displaying the resulting dataframes\n",
    "df_vals = dp.encode_and_scale_values(data)\n",
    "df_units = dp.encode_units(data)\n",
    "df = df_vals.merge(df_units.drop('value', axis=1), on=['datetime','equipRef','groupRef','navName','siteRef','typeRef', 'unit'])\n",
    "df.head()"
   ]
  },
  {
   "cell_type": "markdown",
   "metadata": {},
   "source": [
    "# Calculating the Gower's distances\n",
    "NOTE: Categorical observations are currently identified with 0 when none of the categories apply, I don't think this should be a problem since we can tell the gower_matrix function which columns are categorical, so it should know that 0 indicates the lack of a value rather than the presence of something else."
   ]
  },
  {
   "cell_type": "code",
   "execution_count": 106,
   "metadata": {},
   "outputs": [],
   "source": [
    "# Generating list of Booleans for identifying which columns are categorical and which aren't (pass in a list of columns that are continuous and the number predictor variables)\n",
    "def make_categorical_list(cont_idxs, num_predictors):\n",
    "    if type(cont_idxs)==int: cont_idxs = [cont_idxs]\n",
    "    is_Cat = []\n",
    "    for i in range(num_predictors):\n",
    "        if i in cont_idxs:\n",
    "            is_Cat.append(False)\n",
    "        else:\n",
    "            is_Cat.append(True)\n",
    "    return is_Cat"
   ]
  },
  {
   "cell_type": "code",
   "execution_count": 107,
   "metadata": {},
   "outputs": [],
   "source": [
    "# Function to simplify calculating Gower's distance (pass in the dataframe and the indexes of the columns that are categorical)\n",
    "def calc_gowers(df, continuous_columns):\n",
    "    catList = make_categorical_list(continuous_columns, len(df.columns)-8)\n",
    "    data_np = df.iloc[:,8:].to_numpy()\n",
    "    gow_dists = gower.gower_matrix(data_np, cat_features=catList)\n",
    "    return gow_dists"
   ]
  },
  {
   "cell_type": "code",
   "execution_count": 108,
   "metadata": {},
   "outputs": [
    {
     "data": {
      "text/plain": [
       "array([[0.0000000e+00, 6.0606256e-02, 6.0606077e-02, ..., 6.0606077e-02,\n",
       "        6.0606077e-02, 6.0606077e-02],\n",
       "       [6.0606256e-02, 0.0000000e+00, 1.8048814e-07, ..., 1.8170053e-07,\n",
       "        1.8124335e-07, 1.7965388e-07],\n",
       "       [6.0606077e-02, 1.8048814e-07, 0.0000000e+00, ..., 1.2123854e-09,\n",
       "        7.5520851e-10, 8.3426427e-10],\n",
       "       ...,\n",
       "       [6.0606077e-02, 1.8170053e-07, 1.2123854e-09, ..., 0.0000000e+00,\n",
       "        4.5717685e-10, 2.0466497e-09],\n",
       "       [6.0606077e-02, 1.8124335e-07, 7.5520851e-10, ..., 4.5717685e-10,\n",
       "        0.0000000e+00, 1.5894728e-09],\n",
       "       [6.0606077e-02, 1.7965388e-07, 8.3426427e-10, ..., 2.0466497e-09,\n",
       "        1.5894728e-09, 0.0000000e+00]], dtype=float32)"
      ]
     },
     "execution_count": 108,
     "metadata": {},
     "output_type": "execute_result"
    }
   ],
   "source": [
    "# Testing the make_categorical_list() and calc_gowers() functions\n",
    "gow_dists = calc_gowers(df, [10])\n",
    "gow_dists"
   ]
  },
  {
   "cell_type": "markdown",
   "metadata": {},
   "source": [
    "# Multidimensional Scaling\n",
    "Multidimensional Scaling (MDS) allows us to scale the Gower's distance data into a \"coordinate system\" which allows us to pass in \"coordinates\" into the clustering methods that don't accept relative distances. It will also allow us to plot our clusters since we can reduce dimensionality to 2-D or 3-D."
   ]
  },
  {
   "cell_type": "code",
   "execution_count": 18,
   "metadata": {},
   "outputs": [],
   "source": [
    "# Function to make MDS easier\n",
    "def multidim_scale(dist_mat, num_dim=2):\n",
    "    scaler = MDS(n_components=num_dim, dissimilarity='precomputed')\n",
    "    scaled_data = scaler.fit_transform(dist_mat)\n",
    "    return scaled_data"
   ]
  },
  {
   "cell_type": "code",
   "execution_count": null,
   "metadata": {},
   "outputs": [],
   "source": [
    "# Scale Data to a 2-dimensional predictor space\n",
    "data_2d = multidim_scale(gow_dists, num_dim=2)\n",
    "print(data_2d.shape)\n",
    "# Make Data into a Dataframe\n",
    "data_2d_df = pd.DataFrame(data=data_2d, columns = ['x','y'])\n",
    "data_2d_df"
   ]
  },
  {
   "cell_type": "code",
   "execution_count": 19,
   "metadata": {},
   "outputs": [
    {
     "name": "stdout",
     "output_type": "stream",
     "text": [
      "(4452, 3)\n"
     ]
    },
    {
     "data": {
      "text/html": [
       "<div>\n",
       "<style scoped>\n",
       "    .dataframe tbody tr th:only-of-type {\n",
       "        vertical-align: middle;\n",
       "    }\n",
       "\n",
       "    .dataframe tbody tr th {\n",
       "        vertical-align: top;\n",
       "    }\n",
       "\n",
       "    .dataframe thead th {\n",
       "        text-align: right;\n",
       "    }\n",
       "</style>\n",
       "<table border=\"1\" class=\"dataframe\">\n",
       "  <thead>\n",
       "    <tr style=\"text-align: right;\">\n",
       "      <th></th>\n",
       "      <th>x</th>\n",
       "      <th>y</th>\n",
       "      <th>z</th>\n",
       "    </tr>\n",
       "  </thead>\n",
       "  <tbody>\n",
       "    <tr>\n",
       "      <th>0</th>\n",
       "      <td>0.031128</td>\n",
       "      <td>-0.026509</td>\n",
       "      <td>-0.022413</td>\n",
       "    </tr>\n",
       "    <tr>\n",
       "      <th>1</th>\n",
       "      <td>-0.018406</td>\n",
       "      <td>-0.018887</td>\n",
       "      <td>-0.017202</td>\n",
       "    </tr>\n",
       "    <tr>\n",
       "      <th>2</th>\n",
       "      <td>-0.018406</td>\n",
       "      <td>-0.018887</td>\n",
       "      <td>-0.017202</td>\n",
       "    </tr>\n",
       "    <tr>\n",
       "      <th>3</th>\n",
       "      <td>-0.034412</td>\n",
       "      <td>0.066762</td>\n",
       "      <td>-0.003518</td>\n",
       "    </tr>\n",
       "    <tr>\n",
       "      <th>4</th>\n",
       "      <td>0.014177</td>\n",
       "      <td>0.016356</td>\n",
       "      <td>-0.036958</td>\n",
       "    </tr>\n",
       "    <tr>\n",
       "      <th>...</th>\n",
       "      <td>...</td>\n",
       "      <td>...</td>\n",
       "      <td>...</td>\n",
       "    </tr>\n",
       "    <tr>\n",
       "      <th>4447</th>\n",
       "      <td>-0.018406</td>\n",
       "      <td>-0.018887</td>\n",
       "      <td>-0.017202</td>\n",
       "    </tr>\n",
       "    <tr>\n",
       "      <th>4448</th>\n",
       "      <td>-0.018406</td>\n",
       "      <td>-0.018887</td>\n",
       "      <td>-0.017202</td>\n",
       "    </tr>\n",
       "    <tr>\n",
       "      <th>4449</th>\n",
       "      <td>-0.018406</td>\n",
       "      <td>-0.018887</td>\n",
       "      <td>-0.017202</td>\n",
       "    </tr>\n",
       "    <tr>\n",
       "      <th>4450</th>\n",
       "      <td>-0.018406</td>\n",
       "      <td>-0.018887</td>\n",
       "      <td>-0.017202</td>\n",
       "    </tr>\n",
       "    <tr>\n",
       "      <th>4451</th>\n",
       "      <td>-0.018406</td>\n",
       "      <td>-0.018887</td>\n",
       "      <td>-0.017202</td>\n",
       "    </tr>\n",
       "  </tbody>\n",
       "</table>\n",
       "<p>4452 rows × 3 columns</p>\n",
       "</div>"
      ],
      "text/plain": [
       "             x         y         z\n",
       "0     0.031128 -0.026509 -0.022413\n",
       "1    -0.018406 -0.018887 -0.017202\n",
       "2    -0.018406 -0.018887 -0.017202\n",
       "3    -0.034412  0.066762 -0.003518\n",
       "4     0.014177  0.016356 -0.036958\n",
       "...        ...       ...       ...\n",
       "4447 -0.018406 -0.018887 -0.017202\n",
       "4448 -0.018406 -0.018887 -0.017202\n",
       "4449 -0.018406 -0.018887 -0.017202\n",
       "4450 -0.018406 -0.018887 -0.017202\n",
       "4451 -0.018406 -0.018887 -0.017202\n",
       "\n",
       "[4452 rows x 3 columns]"
      ]
     },
     "execution_count": 19,
     "metadata": {},
     "output_type": "execute_result"
    }
   ],
   "source": [
    "# Scale Data to a 3-dimensional predictor space\n",
    "data_3d = multidim_scale(gow_dists, num_dim=3)\n",
    "print(data_3d.shape)\n",
    "# Make Data into a Dataframe\n",
    "data_3d_df = pd.DataFrame(data=data_3d, columns = ['x','y','z'])\n",
    "data_3d_df"
   ]
  },
  {
   "cell_type": "markdown",
   "metadata": {},
   "source": [
    "# Clustering Function\n",
    "This function is intended for quick testing of various different clustering methods, some minimal \"optimization\" has been done on some of the clustering methods to make it so that they will work with the data provided. The items that have been \"optimized\" (for lack of a better word) are listed below:\n",
    "* Agglomerative Clustering (agglom): `linkage = 'complete'`\n",
    "* DBSCAN (dbscan): `eps=0.06`\n",
    "* HDBSCAN (hdbscan): `cluster_selection_epsilon=0.06`\n",
    "* Gausian Mixture Models (gmm): `covariance_type='spherical',n_init=100`\n",
    "* Variational Bayesian estimation of a Gaussian mixture (vbgm): `covariance_type='spherical',n_init=100`\n",
    "\n",
    "The inputs for the function are the following:\n",
    "* `df`: The dataframe of values, can be raw data (input as dataframe), a matrix of Gower's distances (must pass in `input_type='gowers'`, and input must be a numpy array), or data that has already been scaled with MDS (must pass in `input_type='mds'`, and input must be a numpy array)\n",
    "* `clust_type`: The type of clustering to be completed, the options are shown below, along with whether or not the model requires a num_clusts input:\n",
    "|clust_type|Model|Requires num_clusts|Notes|\n",
    "|:---:|:---:|:---:|:---:|\n",
    "|kmeans|K-Means|True| |\n",
    "|agglom|Agglomerative/Hierarchical|True| |\n",
    "|dbscan|DBSCAN|False|\n",
    "|hdbscan|HDBSCAN|False|\n",
    "|gmm|Gausian Mixture Models|True|\n",
    "|vbgm|Variational Bayesian Gaussian Mixture Models|True|\n",
    "|meanshift|Mean Shift|True|\n",
    "|fuzzy|Fuzzy C-Means|False|\n",
    "\n",
    "* `num_clusts`: The number of clusters to be used (only required for some models, see `clust_type` for list of models that require `num_clusts` to be defined) NOTE: Default is `None`\n",
    "* `continuous_columns`: A list of the indexes of any continuous columns, required for calculating Gower's distance required for all model types (not required if `input_type='gowers'` or `input_type='mds'` as the Gower's distance would have previously been calculated and should have incorporated this already) NOTE: Default is `None`\n",
    "* `input_type`: Allows the user the option to pass in the raw data (`input_type='original'`) and have the Gower's distance (and MDS if applicable) calculated by the clustering function, or if they want to pre-calculate the Gower's (`input_type='gowers'`) distance or MDS (`input_type='mds'`). The `gowers` and `mds` input types allow for more efficient clustering if running the function multiple times as it only requires the Gower's Distance and MDS to be calculated once as opposed to every time the function is run. NOTE: Default is `input_type='original'`"
   ]
  },
  {
   "cell_type": "code",
   "execution_count": 122,
   "metadata": {},
   "outputs": [],
   "source": [
    "# Function to quickly run various different clustering methods, look at the portion of the if statement to see what values each model type needs in order to run\n",
    "## Available model types are: kmeans, agglom (agglomerative or hierarchical), dbscan, hdbscan, gmm (gausian mixture model), \n",
    "##                            vbgm (variational bayesian gaussian mixture model), meanshift, and fuzzy (fuzzy c-means)\n",
    "def cluster(df, clust_type, num_clusts = None, continuous_columns = None, input_type='original'):\n",
    "    needs_mds = ['kmeans', 'gmm', 'vbgm', 'meanshift', 'fuzzy'] # List of models that don't accept distance measures as input\n",
    "    # Determines how to address the input (calculate gower's distance, store, or use as is) based on the user defined input type\n",
    "    ## Allows the user to pass in either data on the original scale, as gowers distance or after performing MDS \n",
    "    ## Allows for calculating Gowers distance and MDS once before calling this function and passing it in rather than recalculating every time\n",
    "    if input_type == 'original':\n",
    "        fit_data = calc_gowers(df, continuous_columns)\n",
    "    elif input_type == 'gowers':\n",
    "        fit_data = df\n",
    "    elif input_type == 'mds':\n",
    "        fit_data = df\n",
    "        needs_mds = []\n",
    "   # Performs MDS on the Gower's distances (if needed) on the model types that require coordinate values as inputs\n",
    "   # (this process allows for clustering mixed continuous and categorical within the same predictor space)     \n",
    "    if clust_type in needs_mds:\n",
    "        fit_data = multidim_scale(fit_data, num_dim=3) # len(df.iloc[0,:])-8 can be used to make num_dim=# of predictor variables (slight silhouette score improvement)\n",
    "    # Runs the user defined clustering method\n",
    "    if clust_type == 'kmeans':\n",
    "        # Needs df, clust_type, num_clusts, continuous_columns\n",
    "        #fit_data = df.iloc[:,8:].to_numpy()\n",
    "        model = KMeans(n_clusters=num_clusts).fit(fit_data)\n",
    "        preds = model.labels_\n",
    "    elif clust_type == 'agglom':\n",
    "        if input_type != 'gowers':\n",
    "            print(\"Only capable of accepting Gower's Distance input at the moment\") # TODO: Need to make it so that this works (broke it when adding in all the other types of clustering)\n",
    "        # Needs df, clust_type, num_clusts, continuous_columns\n",
    "        model = AgglomerativeClustering(affinity='precomputed', linkage = 'complete', n_clusters=num_clusts).fit(fit_data)\n",
    "        preds = model.labels_\n",
    "    elif clust_type == 'dbscan':\n",
    "        # Needs df, clust_type, continuous_columns\n",
    "        model = DBSCAN(eps=0.06, min_samples=2, metric='precomputed').fit(gow_dists)\n",
    "        preds = model.labels_\n",
    "    elif clust_type == 'hdbscan':\n",
    "        # Needs df, clust_type, continuous_columns\n",
    "        model = hdbscan.HDBSCAN(metric='precomputed', cluster_selection_epsilon=0.06).fit(gow_dists.astype('double'))\n",
    "        preds = model.labels_\n",
    "    elif clust_type == 'gmm':\n",
    "        # Needs df, clust_type, num_clusts, continuous_columns\n",
    "        model = GaussianMixture(n_components=num_clusts, covariance_type='spherical',n_init=100).fit(fit_data)\n",
    "        preds = model.predict(fit_data)\n",
    "    elif clust_type == 'vbgm':\n",
    "        # Needs df, clust_type, num_clusts, continuous_columns\n",
    "        model = BayesianGaussianMixture(n_components=num_clusts, covariance_type='spherical',n_init=100).fit(fit_data)\n",
    "        preds = model.predict(fit_data)\n",
    "    elif clust_type == 'meanshift':\n",
    "        # Needs df, clust_type, continuous_columns\n",
    "        model = MeanShift(cluster_all=False).fit(fit_data) # cluster_all=False means that items that don't belong to a cluster or not included in any cluster (assigned to -1)\n",
    "        preds = model.predict(fit_data)\n",
    "    elif clust_type == 'fuzzy':\n",
    "        # Needs df, clust_type, num_clusts, continuous_columns\n",
    "        cntr, u, u0, d, jm, p, fpc = fuzz.cluster.cmeans(np.transpose(fit_data), num_clusts, 4, error=0.005, maxiter=1000, init=None)\n",
    "        preds = np.argmax(u, axis=0)\n",
    "    else:\n",
    "        print(\"Specified model type not available yet\")\n",
    "    try:\n",
    "        # Silhouette Score appears to be the prefered cluster comparison metric used with sklearn from what I have read (1 is good, -1 is bad)\n",
    "        print(\"Silhouette Score for {} clustering: {}\".format(clust_type, silhouette_score(fit_data, preds)))\n",
    "        return preds\n",
    "    except:\n",
    "        print('Unable to calculate silhouette score for the given model')"
   ]
  },
  {
   "cell_type": "code",
   "execution_count": 129,
   "metadata": {},
   "outputs": [
    {
     "name": "stdout",
     "output_type": "stream",
     "text": [
      "Silhouette Score for fuzzy clustering: 0.9355881414800736\n"
     ]
    },
    {
     "data": {
      "text/plain": [
       "0      135\n",
       "1       35\n",
       "2      572\n",
       "3      164\n",
       "4     1340\n",
       "5      164\n",
       "6       82\n",
       "7      341\n",
       "8       97\n",
       "9      239\n",
       "10     138\n",
       "11     190\n",
       "12     234\n",
       "13      66\n",
       "14      45\n",
       "15     610\n",
       "Name: cluster, dtype: int64"
      ]
     },
     "execution_count": 129,
     "metadata": {},
     "output_type": "execute_result"
    }
   ],
   "source": [
    "# Testing the clustering function above\n",
    "test = cluster(data_3d, 'fuzzy', num_clusts = 16, continuous_columns = 10, input_type = \"mds\")\n",
    "test_Clusts = pd.DataFrame(test, columns=[\"cluster\"])\n",
    "test_Clusts['cluster'].value_counts().sort_index()"
   ]
  },
  {
   "cell_type": "markdown",
   "metadata": {},
   "source": [
    "***\n",
    "# Testing\n",
    "The rest of the code below was for testing the various types of clustering and MDS, it also has plots showing clustering results with MDS incorporated."
   ]
  },
  {
   "cell_type": "markdown",
   "metadata": {},
   "source": [
    "# K-means Clustering\n",
    "Note: K-means Clustering doesn't use Gower's distance"
   ]
  },
  {
   "cell_type": "code",
   "execution_count": 9,
   "metadata": {},
   "outputs": [
    {
     "name": "stdout",
     "output_type": "stream",
     "text": [
      "0.9739217254529019\n"
     ]
    },
    {
     "data": {
      "text/plain": [
       "0      120\n",
       "1     1340\n",
       "2      610\n",
       "3      572\n",
       "4      239\n",
       "5      107\n",
       "6      232\n",
       "7      136\n",
       "8      171\n",
       "9      329\n",
       "10     155\n",
       "11     135\n",
       "12      90\n",
       "13      98\n",
       "14      60\n",
       "15      58\n",
       "Name: cluster, dtype: int64"
      ]
     },
     "execution_count": 9,
     "metadata": {},
     "output_type": "execute_result"
    }
   ],
   "source": [
    "# Fitting the data with k-means clustering (doesn't use Gower's distance)\n",
    "data_np = df.iloc[:,8:].to_numpy()\n",
    "clusterVals = data_np\n",
    "kmeans = KMeans(n_clusters=16).fit(clusterVals)\n",
    "print(silhouette_score(clusterVals, kmeans.labels_))\n",
    "# Summarising how many observations belong to each cluster\n",
    "kClusts = pd.DataFrame(kmeans.labels_, columns=[\"cluster\"])\n",
    "kClusts['cluster'].value_counts().sort_index()"
   ]
  },
  {
   "cell_type": "markdown",
   "metadata": {},
   "source": [
    "# Agglomerative Clustering\n",
    "Agglomerative Clustering is the same thing as hierarchical clustering\n",
    "### Testing Various Linkages and number of clusters"
   ]
  },
  {
   "cell_type": "code",
   "execution_count": 10,
   "metadata": {},
   "outputs": [],
   "source": [
    "# Fitting the data with Agglomerative clustering\n",
    "linkage_options = ['single', 'average', 'complete']\n",
    "max_clust = 25\n",
    "silhouette_df = pd.DataFrame(columns=linkage_options, index=[i for i in range(2,max_clust+1)])\n",
    "silhouettes = []\n",
    "for link in linkage_options:\n",
    "    for n_clust in range(2,max_clust+1):\n",
    "        agglom = AgglomerativeClustering(affinity='precomputed', linkage = link, n_clusters=n_clust).fit(gow_dists)\n",
    "        silhouette_df.loc[n_clust,link] = silhouette_score(gow_dists, agglom.labels_)"
   ]
  },
  {
   "cell_type": "code",
   "execution_count": 11,
   "metadata": {},
   "outputs": [
    {
     "data": {
      "text/html": [
       "<div>\n",
       "<style scoped>\n",
       "    .dataframe tbody tr th:only-of-type {\n",
       "        vertical-align: middle;\n",
       "    }\n",
       "\n",
       "    .dataframe tbody tr th {\n",
       "        vertical-align: top;\n",
       "    }\n",
       "\n",
       "    .dataframe thead th {\n",
       "        text-align: right;\n",
       "    }\n",
       "</style>\n",
       "<table border=\"1\" class=\"dataframe\">\n",
       "  <thead>\n",
       "    <tr style=\"text-align: right;\">\n",
       "      <th></th>\n",
       "      <th>single</th>\n",
       "      <th>average</th>\n",
       "      <th>complete</th>\n",
       "    </tr>\n",
       "  </thead>\n",
       "  <tbody>\n",
       "    <tr>\n",
       "      <th>2</th>\n",
       "      <td>-0.223586</td>\n",
       "      <td>0.504499</td>\n",
       "      <td>0.504499</td>\n",
       "    </tr>\n",
       "    <tr>\n",
       "      <th>3</th>\n",
       "      <td>-0.201662</td>\n",
       "      <td>0.113433</td>\n",
       "      <td>0.113433</td>\n",
       "    </tr>\n",
       "    <tr>\n",
       "      <th>4</th>\n",
       "      <td>-0.200067</td>\n",
       "      <td>0.0737207</td>\n",
       "      <td>0.129579</td>\n",
       "    </tr>\n",
       "    <tr>\n",
       "      <th>5</th>\n",
       "      <td>-0.149165</td>\n",
       "      <td>0.124762</td>\n",
       "      <td>0.131486</td>\n",
       "    </tr>\n",
       "    <tr>\n",
       "      <th>6</th>\n",
       "      <td>-0.101714</td>\n",
       "      <td>0.158101</td>\n",
       "      <td>0.158101</td>\n",
       "    </tr>\n",
       "    <tr>\n",
       "      <th>7</th>\n",
       "      <td>-0.0691655</td>\n",
       "      <td>0.131834</td>\n",
       "      <td>0.131834</td>\n",
       "    </tr>\n",
       "    <tr>\n",
       "      <th>8</th>\n",
       "      <td>-0.0688487</td>\n",
       "      <td>0.191641</td>\n",
       "      <td>0.317555</td>\n",
       "    </tr>\n",
       "    <tr>\n",
       "      <th>9</th>\n",
       "      <td>-0.0332206</td>\n",
       "      <td>0.383975</td>\n",
       "      <td>0.340748</td>\n",
       "    </tr>\n",
       "    <tr>\n",
       "      <th>10</th>\n",
       "      <td>-0.0113042</td>\n",
       "      <td>0.377789</td>\n",
       "      <td>0.429931</td>\n",
       "    </tr>\n",
       "    <tr>\n",
       "      <th>11</th>\n",
       "      <td>-0.00146301</td>\n",
       "      <td>0.378016</td>\n",
       "      <td>0.424929</td>\n",
       "    </tr>\n",
       "    <tr>\n",
       "      <th>12</th>\n",
       "      <td>0.00179256</td>\n",
       "      <td>0.41928</td>\n",
       "      <td>0.480019</td>\n",
       "    </tr>\n",
       "    <tr>\n",
       "      <th>13</th>\n",
       "      <td>0.00384419</td>\n",
       "      <td>0.444129</td>\n",
       "      <td>0.484204</td>\n",
       "    </tr>\n",
       "    <tr>\n",
       "      <th>14</th>\n",
       "      <td>0.0110218</td>\n",
       "      <td>0.44888</td>\n",
       "      <td>0.579897</td>\n",
       "    </tr>\n",
       "    <tr>\n",
       "      <th>15</th>\n",
       "      <td>0.0917508</td>\n",
       "      <td>0.545215</td>\n",
       "      <td>0.583782</td>\n",
       "    </tr>\n",
       "    <tr>\n",
       "      <th>16</th>\n",
       "      <td>0.263219</td>\n",
       "      <td>0.553662</td>\n",
       "      <td>0.846121</td>\n",
       "    </tr>\n",
       "    <tr>\n",
       "      <th>17</th>\n",
       "      <td>0.322451</td>\n",
       "      <td>0.556064</td>\n",
       "      <td>0.91086</td>\n",
       "    </tr>\n",
       "    <tr>\n",
       "      <th>18</th>\n",
       "      <td>0.52408</td>\n",
       "      <td>0.655726</td>\n",
       "      <td>0.921156</td>\n",
       "    </tr>\n",
       "    <tr>\n",
       "      <th>19</th>\n",
       "      <td>0.526457</td>\n",
       "      <td>0.921852</td>\n",
       "      <td>0.957324</td>\n",
       "    </tr>\n",
       "    <tr>\n",
       "      <th>20</th>\n",
       "      <td>0.627068</td>\n",
       "      <td>0.925632</td>\n",
       "      <td>0.961227</td>\n",
       "    </tr>\n",
       "    <tr>\n",
       "      <th>21</th>\n",
       "      <td>0.892714</td>\n",
       "      <td>0.96264</td>\n",
       "      <td>0.964056</td>\n",
       "    </tr>\n",
       "    <tr>\n",
       "      <th>22</th>\n",
       "      <td>0.965218</td>\n",
       "      <td>0.965218</td>\n",
       "      <td>0.965218</td>\n",
       "    </tr>\n",
       "    <tr>\n",
       "      <th>23</th>\n",
       "      <td>0.918639</td>\n",
       "      <td>0.984155</td>\n",
       "      <td>0.984155</td>\n",
       "    </tr>\n",
       "    <tr>\n",
       "      <th>24</th>\n",
       "      <td>0.920164</td>\n",
       "      <td>0.98802</td>\n",
       "      <td>0.98802</td>\n",
       "    </tr>\n",
       "    <tr>\n",
       "      <th>25</th>\n",
       "      <td>0.920457</td>\n",
       "      <td>0.983495</td>\n",
       "      <td>0.983495</td>\n",
       "    </tr>\n",
       "  </tbody>\n",
       "</table>\n",
       "</div>"
      ],
      "text/plain": [
       "        single    average  complete\n",
       "2    -0.223586   0.504499  0.504499\n",
       "3    -0.201662   0.113433  0.113433\n",
       "4    -0.200067  0.0737207  0.129579\n",
       "5    -0.149165   0.124762  0.131486\n",
       "6    -0.101714   0.158101  0.158101\n",
       "7   -0.0691655   0.131834  0.131834\n",
       "8   -0.0688487   0.191641  0.317555\n",
       "9   -0.0332206   0.383975  0.340748\n",
       "10  -0.0113042   0.377789  0.429931\n",
       "11 -0.00146301   0.378016  0.424929\n",
       "12  0.00179256    0.41928  0.480019\n",
       "13  0.00384419   0.444129  0.484204\n",
       "14   0.0110218    0.44888  0.579897\n",
       "15   0.0917508   0.545215  0.583782\n",
       "16    0.263219   0.553662  0.846121\n",
       "17    0.322451   0.556064   0.91086\n",
       "18     0.52408   0.655726  0.921156\n",
       "19    0.526457   0.921852  0.957324\n",
       "20    0.627068   0.925632  0.961227\n",
       "21    0.892714    0.96264  0.964056\n",
       "22    0.965218   0.965218  0.965218\n",
       "23    0.918639   0.984155  0.984155\n",
       "24    0.920164    0.98802   0.98802\n",
       "25    0.920457   0.983495  0.983495"
      ]
     },
     "execution_count": 11,
     "metadata": {},
     "output_type": "execute_result"
    }
   ],
   "source": [
    "silhouette_df"
   ]
  },
  {
   "cell_type": "code",
   "execution_count": 12,
   "metadata": {},
   "outputs": [
    {
     "name": "stdout",
     "output_type": "stream",
     "text": [
      "Linkage for max silhouette score: complete\n",
      "Number of clusters for max silhouette score: 24\n",
      "Max silhouette score is: 0.9880196\n"
     ]
    }
   ],
   "source": [
    "#Identifying the top performing configuration from the above tests\n",
    "cur_max = 'none'\n",
    "cur_max_val = -2 # Worst case scenario is -1\n",
    "for link in linkage_options:\n",
    "    check_max = max(silhouette_df[link])\n",
    "    if check_max >= cur_max_val:\n",
    "        cur_max = link\n",
    "        cur_max_val = check_max\n",
    "max_idx = silhouette_df[cur_max].astype(float).idxmax()\n",
    "print(\"Linkage for max silhouette score: \"+cur_max+\"\\nNumber of clusters for max silhouette score: \"+str(max_idx)+\"\\nMax silhouette score is: \"+str(cur_max_val))"
   ]
  },
  {
   "cell_type": "code",
   "execution_count": 13,
   "metadata": {},
   "outputs": [
    {
     "data": {
      "image/png": "[encoded data removed]",
      "text/plain": [
       "<Figure size 432x288 with 1 Axes>"
      ]
     },
     "metadata": {
      "needs_background": "light"
     },
     "output_type": "display_data"
    }
   ],
   "source": [
    "# Plotting silhouette scores from above\n",
    "from matplotlib import pyplot as plt\n",
    "from scipy.cluster.hierarchy import dendrogram\n",
    "\n",
    "cols = ['red','blue','green']\n",
    "for i in range(0,3):\n",
    "    plt.plot(silhouette_df[linkage_options[i]], color=cols[i])\n",
    "plt.legend(linkage_options)\n",
    "plt.show()"
   ]
  },
  {
   "cell_type": "code",
   "execution_count": 14,
   "metadata": {},
   "outputs": [
    {
     "data": {
      "image/png": "[encoded data removed]",
      "text/plain": [
       "<Figure size 432x288 with 1 Axes>"
      ]
     },
     "metadata": {
      "needs_background": "light"
     },
     "output_type": "display_data"
    }
   ],
   "source": [
    "# Plotting Dendrogram\n",
    "### NOTE: This code was copy pasted from https://scikit-learn.org/stable/auto_examples/cluster/plot_agglomerative_dendrogram.html for testing purposes\n",
    "from matplotlib import pyplot as plt\n",
    "from scipy.cluster.hierarchy import dendrogram\n",
    "\n",
    "def plot_dendrogram(model, **kwargs):\n",
    "    # Create linkage matrix and then plot the dendrogram\n",
    "\n",
    "    # create the counts of samples under each node\n",
    "    counts = np.zeros(model.children_.shape[0])\n",
    "    n_samples = len(model.labels_)\n",
    "    for i, merge in enumerate(model.children_):\n",
    "        current_count = 0\n",
    "        for child_idx in merge:\n",
    "            if child_idx < n_samples:\n",
    "                current_count += 1  # leaf node\n",
    "            else:\n",
    "                current_count += counts[child_idx - n_samples]\n",
    "        counts[i] = current_count\n",
    "\n",
    "    linkage_matrix = np.column_stack([model.children_, model.distances_,\n",
    "                                      counts]).astype(float)\n",
    "\n",
    "    # Plot the corresponding dendrogram\n",
    "    dendrogram(linkage_matrix, **kwargs)\n",
    "\n",
    "\n",
    "# setting distance_threshold=0 ensures we compute the full tree.\n",
    "model = AgglomerativeClustering(affinity='precomputed', distance_threshold=0, n_clusters=None, linkage = 'complete')\n",
    "\n",
    "model = model.fit(gow_dists)\n",
    "plt.title('Hierarchical Clustering Dendrogram')\n",
    "# plot the top three levels of the dendrogram\n",
    "plot_dendrogram(model, truncate_mode='level', p=3)\n",
    "plt.xlabel(\"Number of points in node (or index of point if no parenthesis).\")\n",
    "plt.xticks(rotation=90)\n",
    "plt.show()"
   ]
  },
  {
   "cell_type": "markdown",
   "metadata": {},
   "source": [
    "### Fitting the best configuraiton from the for loop Grid Seach"
   ]
  },
  {
   "cell_type": "code",
   "execution_count": 15,
   "metadata": {},
   "outputs": [
    {
     "name": "stdout",
     "output_type": "stream",
     "text": [
      "0.9880196\n"
     ]
    },
    {
     "data": {
      "text/plain": [
       "0       29\n",
       "1      155\n",
       "2      171\n",
       "3      572\n",
       "4       98\n",
       "5       90\n",
       "6       25\n",
       "7     1340\n",
       "8       58\n",
       "9      239\n",
       "10       5\n",
       "11     136\n",
       "12       7\n",
       "13     232\n",
       "14       8\n",
       "15       6\n",
       "16     135\n",
       "17      18\n",
       "18     610\n",
       "19      60\n",
       "20       5\n",
       "21       4\n",
       "22     329\n",
       "23     120\n",
       "Name: cluster, dtype: int64"
      ]
     },
     "execution_count": 15,
     "metadata": {},
     "output_type": "execute_result"
    }
   ],
   "source": [
    "# Fitting best configuration from the for loop Grid Seach\n",
    "agglom = AgglomerativeClustering(affinity='precomputed', linkage = cur_max, n_clusters=max_idx).fit(gow_dists)\n",
    "# Printing the Silhouette_score for the best configuration from the for loop Grid Seach\n",
    "print(silhouette_score(gow_dists, agglom.labels_))\n",
    "# Summarising how many observations belong to each cluster\n",
    "aggClusts = pd.DataFrame(agglom.labels_, columns=[\"cluster\"])\n",
    "aggClusts['cluster'].value_counts().sort_index()"
   ]
  },
  {
   "cell_type": "markdown",
   "metadata": {},
   "source": [
    "### Fitting the best configuraiton from the for Dendrogram\n",
    "From the dendrogram shown above it looks like there should be 8 clusters"
   ]
  },
  {
   "cell_type": "code",
   "execution_count": 16,
   "metadata": {},
   "outputs": [
    {
     "name": "stdout",
     "output_type": "stream",
     "text": [
      "0.3175549\n"
     ]
    },
    {
     "data": {
      "text/plain": [
       "0    2863\n",
       "1     478\n",
       "2     171\n",
       "3     155\n",
       "4      98\n",
       "5      90\n",
       "6      25\n",
       "7     572\n",
       "Name: cluster, dtype: int64"
      ]
     },
     "execution_count": 16,
     "metadata": {},
     "output_type": "execute_result"
    }
   ],
   "source": [
    "# Fitting best configuration from the dendrogram\n",
    "agglom = AgglomerativeClustering(affinity='precomputed', linkage = 'complete', n_clusters=8).fit(gow_dists)\n",
    "# Printing the Silhouette_score for the best configuration from the dendrogram\n",
    "print(silhouette_score(gow_dists, agglom.labels_))\n",
    "# Summarising how many observations belong to each cluster\n",
    "aggClusts = pd.DataFrame(agglom.labels_, columns=[\"cluster\"])\n",
    "aggClusts['cluster'].value_counts().sort_index()"
   ]
  },
  {
   "cell_type": "markdown",
   "metadata": {},
   "source": [
    "# Clustering with DBSCAN from sklearn"
   ]
  },
  {
   "cell_type": "code",
   "execution_count": 17,
   "metadata": {},
   "outputs": [
    {
     "name": "stdout",
     "output_type": "stream",
     "text": [
      "[0 1 1 ... 1 1 1]\n",
      "<class 'numpy.ndarray'>\n",
      "0.96521753\n"
     ]
    },
    {
     "data": {
      "text/plain": [
       "0      136\n",
       "1     1340\n",
       "2      478\n",
       "3      239\n",
       "4      610\n",
       "5        5\n",
       "6      572\n",
       "7      155\n",
       "8       25\n",
       "9      232\n",
       "10      18\n",
       "11       5\n",
       "12       8\n",
       "13      98\n",
       "14      58\n",
       "15       4\n",
       "16      90\n",
       "17     135\n",
       "18     171\n",
       "19       6\n",
       "20      60\n",
       "21       7\n",
       "Name: cluster, dtype: int64"
      ]
     },
     "execution_count": 17,
     "metadata": {},
     "output_type": "execute_result"
    }
   ],
   "source": [
    "# Fitting the data with DBSCAN clustering\n",
    "db_clust = DBSCAN(eps=0.06, min_samples=2, metric='precomputed').fit(gow_dists)\n",
    "# Printing the cluster labels for each cluster\n",
    "print(db_clust.labels_)\n",
    "print(type(db_clust.labels_))\n",
    "print(silhouette_score(gow_dists, db_clust.labels_))\n",
    "clusts = pd.DataFrame(db_clust.labels_, columns=[\"cluster\"])\n",
    "clusts['cluster'].value_counts().sort_index()"
   ]
  },
  {
   "cell_type": "code",
   "execution_count": 18,
   "metadata": {},
   "outputs": [
    {
     "data": {
      "text/plain": [
       "[<matplotlib.lines.Line2D at 0x7f780b2caa10>]"
      ]
     },
     "execution_count": 18,
     "metadata": {},
     "output_type": "execute_result"
    },
    {
     "data": {
      "image/png": "[encoded data removed]",
      "text/plain": [
       "<Figure size 432x288 with 1 Axes>"
      ]
     },
     "metadata": {
      "needs_background": "light"
     },
     "output_type": "display_data"
    }
   ],
   "source": [
    "# k-distance plot for determining epsilon (looks like a value around 0.06 is appropriate here) (used for both DBSCAN and HDBSCAN)\n",
    "from matplotlib import pyplot as plt\n",
    "sorted_vals = gow_dists[0]\n",
    "sorted_vals = sorted_vals[np.argsort(-gow_dists[0])]\n",
    "plt.plot(sorted_vals)"
   ]
  },
  {
   "cell_type": "markdown",
   "metadata": {},
   "source": [
    "# Clustering with HDBSCAN from hdbscan"
   ]
  },
  {
   "cell_type": "code",
   "execution_count": 19,
   "metadata": {},
   "outputs": [
    {
     "name": "stdout",
     "output_type": "stream",
     "text": [
      "[11 13 13 ... 13 13 13]\n",
      "0.91493356\n"
     ]
    },
    {
     "data": {
      "text/plain": [
       "-1        7\n",
       " 0       59\n",
       " 1       25\n",
       " 2      135\n",
       " 3      102\n",
       " 4       90\n",
       " 5      171\n",
       " 6        9\n",
       " 7        6\n",
       " 8        9\n",
       " 9       60\n",
       " 10       7\n",
       " 11     136\n",
       " 12     610\n",
       " 13    1340\n",
       " 14      18\n",
       " 15     239\n",
       " 16     573\n",
       " 17     232\n",
       " 18     155\n",
       " 19     469\n",
       "Name: cluster, dtype: int64"
      ]
     },
     "execution_count": 19,
     "metadata": {},
     "output_type": "execute_result"
    }
   ],
   "source": [
    "hdb = hdbscan.HDBSCAN(metric='precomputed', cluster_selection_epsilon=0.06).fit(gow_dists.astype('double'))\n",
    "#hdbClusts = hdb\n",
    "print(hdb.labels_)\n",
    "print(silhouette_score(gow_dists, hdb.labels_))\n",
    "hdbClusts = pd.DataFrame(hdb.labels_, columns=[\"cluster\"])\n",
    "hdbClusts['cluster'].value_counts().sort_index()"
   ]
  },
  {
   "cell_type": "markdown",
   "metadata": {},
   "source": [
    "# Multidimensional Scaling\n",
    "Not sure if this will be of use but wanted to test since many of the clustering methods don't accept distances as inputs (requires the dataframe of values). MDS will allow us to scale the gower's distance data into a coordinate system. It will also allow us to plot our clusters since we can reduce dimensionality."
   ]
  },
  {
   "cell_type": "code",
   "execution_count": 12,
   "metadata": {},
   "outputs": [],
   "source": [
    "def multidim_scale(dist_mat, num_dim=2):\n",
    "    scaler = MDS(n_components=num_dim, dissimilarity='precomputed')\n",
    "    scaled_data = scaler.fit_transform(dist_mat)\n",
    "    return scaled_data"
   ]
  },
  {
   "cell_type": "code",
   "execution_count": 21,
   "metadata": {},
   "outputs": [
    {
     "data": {
      "text/plain": [
       "(4452, 2)"
      ]
     },
     "execution_count": 21,
     "metadata": {},
     "output_type": "execute_result"
    }
   ],
   "source": [
    "# Scale the data down to 2 degrees\n",
    "#scaler = MDS(dissimilarity='precomputed')\n",
    "#data_2d = scaler.fit_transform(gow_dists)\n",
    "data_2d = multidim_scale(gow_dists, num_dim=2)\n",
    "data_2d.shape"
   ]
  },
  {
   "cell_type": "code",
   "execution_count": 22,
   "metadata": {},
   "outputs": [
    {
     "data": {
      "text/html": [
       "<div>\n",
       "<style scoped>\n",
       "    .dataframe tbody tr th:only-of-type {\n",
       "        vertical-align: middle;\n",
       "    }\n",
       "\n",
       "    .dataframe tbody tr th {\n",
       "        vertical-align: top;\n",
       "    }\n",
       "\n",
       "    .dataframe thead th {\n",
       "        text-align: right;\n",
       "    }\n",
       "</style>\n",
       "<table border=\"1\" class=\"dataframe\">\n",
       "  <thead>\n",
       "    <tr style=\"text-align: right;\">\n",
       "      <th></th>\n",
       "      <th>x</th>\n",
       "      <th>y</th>\n",
       "      <th>cluster</th>\n",
       "    </tr>\n",
       "  </thead>\n",
       "  <tbody>\n",
       "    <tr>\n",
       "      <th>0</th>\n",
       "      <td>0.035385</td>\n",
       "      <td>0.006961</td>\n",
       "      <td>0</td>\n",
       "    </tr>\n",
       "    <tr>\n",
       "      <th>1</th>\n",
       "      <td>0.009804</td>\n",
       "      <td>-0.029076</td>\n",
       "      <td>1</td>\n",
       "    </tr>\n",
       "    <tr>\n",
       "      <th>2</th>\n",
       "      <td>0.009804</td>\n",
       "      <td>-0.029076</td>\n",
       "      <td>1</td>\n",
       "    </tr>\n",
       "    <tr>\n",
       "      <th>3</th>\n",
       "      <td>-0.071457</td>\n",
       "      <td>-0.028402</td>\n",
       "      <td>2</td>\n",
       "    </tr>\n",
       "    <tr>\n",
       "      <th>4</th>\n",
       "      <td>-0.001444</td>\n",
       "      <td>0.045862</td>\n",
       "      <td>3</td>\n",
       "    </tr>\n",
       "    <tr>\n",
       "      <th>...</th>\n",
       "      <td>...</td>\n",
       "      <td>...</td>\n",
       "      <td>...</td>\n",
       "    </tr>\n",
       "    <tr>\n",
       "      <th>4447</th>\n",
       "      <td>0.009804</td>\n",
       "      <td>-0.029076</td>\n",
       "      <td>1</td>\n",
       "    </tr>\n",
       "    <tr>\n",
       "      <th>4448</th>\n",
       "      <td>0.009804</td>\n",
       "      <td>-0.029076</td>\n",
       "      <td>1</td>\n",
       "    </tr>\n",
       "    <tr>\n",
       "      <th>4449</th>\n",
       "      <td>0.009804</td>\n",
       "      <td>-0.029076</td>\n",
       "      <td>1</td>\n",
       "    </tr>\n",
       "    <tr>\n",
       "      <th>4450</th>\n",
       "      <td>0.009804</td>\n",
       "      <td>-0.029076</td>\n",
       "      <td>1</td>\n",
       "    </tr>\n",
       "    <tr>\n",
       "      <th>4451</th>\n",
       "      <td>0.009804</td>\n",
       "      <td>-0.029076</td>\n",
       "      <td>1</td>\n",
       "    </tr>\n",
       "  </tbody>\n",
       "</table>\n",
       "<p>4452 rows × 3 columns</p>\n",
       "</div>"
      ],
      "text/plain": [
       "             x         y  cluster\n",
       "0     0.035385  0.006961        0\n",
       "1     0.009804 -0.029076        1\n",
       "2     0.009804 -0.029076        1\n",
       "3    -0.071457 -0.028402        2\n",
       "4    -0.001444  0.045862        3\n",
       "...        ...       ...      ...\n",
       "4447  0.009804 -0.029076        1\n",
       "4448  0.009804 -0.029076        1\n",
       "4449  0.009804 -0.029076        1\n",
       "4450  0.009804 -0.029076        1\n",
       "4451  0.009804 -0.029076        1\n",
       "\n",
       "[4452 rows x 3 columns]"
      ]
     },
     "execution_count": 22,
     "metadata": {},
     "output_type": "execute_result"
    }
   ],
   "source": [
    "# Make Data into a Dataframe\n",
    "data_2d_df = pd.DataFrame(data=data_2d, columns = ['x','y'])\n",
    "data_2d_df['cluster'] = clusts['cluster']\n",
    "data_2d_df"
   ]
  },
  {
   "cell_type": "code",
   "execution_count": 23,
   "metadata": {},
   "outputs": [
    {
     "data": {
      "text/plain": [
       "<matplotlib.collections.PathCollection at 0x7f780b57d0d0>"
      ]
     },
     "execution_count": 23,
     "metadata": {},
     "output_type": "execute_result"
    },
    {
     "data": {
      "image/png": "[encoded data removed]",
      "text/plain": [
       "<Figure size 432x288 with 1 Axes>"
      ]
     },
     "metadata": {
      "needs_background": "light"
     },
     "output_type": "display_data"
    }
   ],
   "source": [
    "# Plotting the dbscan clusters (Fit pre-MDS)\n",
    "plt.scatter(data_2d_df['x']*1000,data_2d_df['y']*1000, c=data_2d_df['cluster'])"
   ]
  },
  {
   "cell_type": "code",
   "execution_count": 24,
   "metadata": {},
   "outputs": [
    {
     "name": "stdout",
     "output_type": "stream",
     "text": [
      "0.857622086265996\n"
     ]
    },
    {
     "data": {
      "text/plain": [
       "0     1340\n",
       "1      614\n",
       "2      572\n",
       "3      329\n",
       "4      193\n",
       "5      252\n",
       "6      155\n",
       "7       92\n",
       "8      172\n",
       "9      241\n",
       "10     111\n",
       "11      55\n",
       "12     116\n",
       "13     118\n",
       "14       6\n",
       "15      86\n",
       "Name: cluster, dtype: int64"
      ]
     },
     "execution_count": 24,
     "metadata": {},
     "output_type": "execute_result"
    }
   ],
   "source": [
    "data_2d_df.iloc[:,:2]\n",
    "kmeans = KMeans(n_clusters=16).fit(data_2d_df.iloc[:,:2])\n",
    "print(silhouette_score(clusterVals, kmeans.labels_))\n",
    "# Summarising how many observations belong to each cluster\n",
    "kClusts = pd.DataFrame(kmeans.labels_, columns=[\"cluster\"])\n",
    "kClusts['cluster'].value_counts().sort_index()"
   ]
  },
  {
   "cell_type": "code",
   "execution_count": 25,
   "metadata": {},
   "outputs": [
    {
     "data": {
      "text/plain": [
       "<matplotlib.collections.PathCollection at 0x7f780b57d210>"
      ]
     },
     "execution_count": 25,
     "metadata": {},
     "output_type": "execute_result"
    },
    {
     "data": {
      "image/png": "[encoded data removed]",
      "text/plain": [
       "<Figure size 432x288 with 1 Axes>"
      ]
     },
     "metadata": {
      "needs_background": "light"
     },
     "output_type": "display_data"
    }
   ],
   "source": [
    "# k-means clustering (fit post-MDS)\n",
    "plt.scatter(data_2d_df['x']*1000,data_2d_df['y']*1000, c=kClusts['cluster'])"
   ]
  },
  {
   "cell_type": "code",
   "execution_count": 26,
   "metadata": {},
   "outputs": [
    {
     "name": "stdout",
     "output_type": "stream",
     "text": [
      "[0 1 1 ... 1 1 1]\n",
      "<class 'numpy.ndarray'>\n",
      "0.91628938262963\n"
     ]
    },
    {
     "data": {
      "text/plain": [
       "0      275\n",
       "1     1340\n",
       "2      329\n",
       "3      239\n",
       "4      610\n",
       "5      309\n",
       "6       46\n",
       "7      572\n",
       "8      109\n",
       "9       76\n",
       "10       2\n",
       "11     187\n",
       "12     232\n",
       "13       9\n",
       "14      86\n",
       "15       2\n",
       "16      16\n",
       "17       9\n",
       "18       2\n",
       "19       2\n",
       "Name: cluster, dtype: int64"
      ]
     },
     "execution_count": 26,
     "metadata": {},
     "output_type": "execute_result"
    }
   ],
   "source": [
    "# Fitting the data with DBSCAN clustering\n",
    "db_clust = DBSCAN(eps=0.01, min_samples=2).fit(data_2d_df.iloc[:,:2])\n",
    "# Printing the cluster labels for each cluster\n",
    "print(db_clust.labels_)\n",
    "print(type(db_clust.labels_))\n",
    "print(silhouette_score(data_2d_df.iloc[:,:2], db_clust.labels_))\n",
    "dbClusts = pd.DataFrame(db_clust.labels_, columns=[\"cluster\"])\n",
    "dbClusts['cluster'].value_counts().sort_index()"
   ]
  },
  {
   "cell_type": "code",
   "execution_count": 27,
   "metadata": {},
   "outputs": [
    {
     "data": {
      "text/plain": [
       "<matplotlib.collections.PathCollection at 0x7f780b1de310>"
      ]
     },
     "execution_count": 27,
     "metadata": {},
     "output_type": "execute_result"
    },
    {
     "data": {
      "image/png": "[encoded data removed]",
      "text/plain": [
       "<Figure size 432x288 with 1 Axes>"
      ]
     },
     "metadata": {
      "needs_background": "light"
     },
     "output_type": "display_data"
    }
   ],
   "source": [
    "# DBSCAN Plot (fit post MDS)\n",
    "plt.scatter(data_2d_df['x']*1000,data_2d_df['y']*1000, c=dbClusts['cluster'])"
   ]
  },
  {
   "cell_type": "code",
   "execution_count": 28,
   "metadata": {},
   "outputs": [
    {
     "data": {
      "text/plain": [
       "<matplotlib.collections.PathCollection at 0x7f780acbfd90>"
      ]
     },
     "execution_count": 28,
     "metadata": {},
     "output_type": "execute_result"
    },
    {
     "data": {
      "image/png": "[encoded data removed]",
      "text/plain": [
       "<Figure size 432x288 with 1 Axes>"
      ]
     },
     "metadata": {
      "needs_background": "light"
     },
     "output_type": "display_data"
    }
   ],
   "source": [
    "# HDBSCAN Plot (fit pre-MDS)\n",
    "plt.scatter(data_2d_df['x']*1000,data_2d_df['y']*1000, c=hdbClusts['cluster'])"
   ]
  },
  {
   "cell_type": "code",
   "execution_count": 29,
   "metadata": {},
   "outputs": [
    {
     "data": {
      "text/plain": [
       "(4452, 3)"
      ]
     },
     "execution_count": 29,
     "metadata": {},
     "output_type": "execute_result"
    }
   ],
   "source": [
    "# Scale the data down to 3 degrees\n",
    "scaler = MDS(n_components=3,dissimilarity='precomputed')\n",
    "data_3d = scaler.fit_transform(gow_dists)\n",
    "data_3d.shape"
   ]
  },
  {
   "cell_type": "code",
   "execution_count": 30,
   "metadata": {},
   "outputs": [
    {
     "data": {
      "text/html": [
       "<div>\n",
       "<style scoped>\n",
       "    .dataframe tbody tr th:only-of-type {\n",
       "        vertical-align: middle;\n",
       "    }\n",
       "\n",
       "    .dataframe tbody tr th {\n",
       "        vertical-align: top;\n",
       "    }\n",
       "\n",
       "    .dataframe thead th {\n",
       "        text-align: right;\n",
       "    }\n",
       "</style>\n",
       "<table border=\"1\" class=\"dataframe\">\n",
       "  <thead>\n",
       "    <tr style=\"text-align: right;\">\n",
       "      <th></th>\n",
       "      <th>x</th>\n",
       "      <th>y</th>\n",
       "      <th>z</th>\n",
       "    </tr>\n",
       "  </thead>\n",
       "  <tbody>\n",
       "    <tr>\n",
       "      <th>0</th>\n",
       "      <td>-0.031678</td>\n",
       "      <td>0.011906</td>\n",
       "      <td>0.031873</td>\n",
       "    </tr>\n",
       "    <tr>\n",
       "      <th>1</th>\n",
       "      <td>-0.013369</td>\n",
       "      <td>0.024479</td>\n",
       "      <td>-0.014154</td>\n",
       "    </tr>\n",
       "    <tr>\n",
       "      <th>2</th>\n",
       "      <td>-0.013368</td>\n",
       "      <td>0.024479</td>\n",
       "      <td>-0.014155</td>\n",
       "    </tr>\n",
       "    <tr>\n",
       "      <th>3</th>\n",
       "      <td>-0.002695</td>\n",
       "      <td>-0.052298</td>\n",
       "      <td>-0.054062</td>\n",
       "    </tr>\n",
       "    <tr>\n",
       "      <th>4</th>\n",
       "      <td>-0.037862</td>\n",
       "      <td>-0.018814</td>\n",
       "      <td>0.004885</td>\n",
       "    </tr>\n",
       "    <tr>\n",
       "      <th>...</th>\n",
       "      <td>...</td>\n",
       "      <td>...</td>\n",
       "      <td>...</td>\n",
       "    </tr>\n",
       "    <tr>\n",
       "      <th>4447</th>\n",
       "      <td>-0.013368</td>\n",
       "      <td>0.024479</td>\n",
       "      <td>-0.014155</td>\n",
       "    </tr>\n",
       "    <tr>\n",
       "      <th>4448</th>\n",
       "      <td>-0.013368</td>\n",
       "      <td>0.024479</td>\n",
       "      <td>-0.014155</td>\n",
       "    </tr>\n",
       "    <tr>\n",
       "      <th>4449</th>\n",
       "      <td>-0.013368</td>\n",
       "      <td>0.024479</td>\n",
       "      <td>-0.014155</td>\n",
       "    </tr>\n",
       "    <tr>\n",
       "      <th>4450</th>\n",
       "      <td>-0.013368</td>\n",
       "      <td>0.024479</td>\n",
       "      <td>-0.014155</td>\n",
       "    </tr>\n",
       "    <tr>\n",
       "      <th>4451</th>\n",
       "      <td>-0.013368</td>\n",
       "      <td>0.024479</td>\n",
       "      <td>-0.014155</td>\n",
       "    </tr>\n",
       "  </tbody>\n",
       "</table>\n",
       "<p>4452 rows × 3 columns</p>\n",
       "</div>"
      ],
      "text/plain": [
       "             x         y         z\n",
       "0    -0.031678  0.011906  0.031873\n",
       "1    -0.013369  0.024479 -0.014154\n",
       "2    -0.013368  0.024479 -0.014155\n",
       "3    -0.002695 -0.052298 -0.054062\n",
       "4    -0.037862 -0.018814  0.004885\n",
       "...        ...       ...       ...\n",
       "4447 -0.013368  0.024479 -0.014155\n",
       "4448 -0.013368  0.024479 -0.014155\n",
       "4449 -0.013368  0.024479 -0.014155\n",
       "4450 -0.013368  0.024479 -0.014155\n",
       "4451 -0.013368  0.024479 -0.014155\n",
       "\n",
       "[4452 rows x 3 columns]"
      ]
     },
     "execution_count": 30,
     "metadata": {},
     "output_type": "execute_result"
    }
   ],
   "source": [
    "# Make Data into a Dataframe\n",
    "data_3d_df = pd.DataFrame(data=data_3d, columns = ['x','y','z'])\n",
    "data_3d_df"
   ]
  },
  {
   "cell_type": "code",
   "execution_count": 46,
   "metadata": {},
   "outputs": [
    {
     "data": {
      "image/png": "[encoded data removed]",
      "text/plain": [
       "<Figure size 432x288 with 1 Axes>"
      ]
     },
     "metadata": {
      "needs_background": "light"
     },
     "output_type": "display_data"
    }
   ],
   "source": [
    "fig = plt.figure()\n",
    "ax = fig.add_subplot(111, projection='3d')\n",
    "\n",
    "scaleUp = 1000\n",
    "\n",
    "x = data_3d_df['x']*scaleUp\n",
    "y = data_3d_df['y']*scaleUp\n",
    "z = data_3d_df['z']*scaleUp\n",
    "\n",
    "ax.scatter(x, y, z, c=dbClusts['cluster'], s=10)\n",
    "\n",
    "ax.set_xlabel('X Label')\n",
    "ax.set_ylabel('Y Label')\n",
    "ax.set_zlabel('Z Label')\n",
    "\n",
    "plt.show()"
   ]
  },
  {
   "cell_type": "markdown",
   "metadata": {},
   "source": [
    "# Clustering Methods Employing MDS to get a coordinate system\n",
    "## Mixture Models\n",
    "### Gaussian Mixture Model"
   ]
  },
  {
   "cell_type": "code",
   "execution_count": 64,
   "metadata": {},
   "outputs": [
    {
     "name": "stdout",
     "output_type": "stream",
     "text": [
      "0.9391041754062261\n",
      "-128420.3680058266\n"
     ]
    },
    {
     "data": {
      "text/plain": [
       "0       17\n",
       "1     1340\n",
       "2       93\n",
       "3      342\n",
       "4      171\n",
       "5      610\n",
       "6      572\n",
       "7      232\n",
       "8      134\n",
       "9      137\n",
       "10     165\n",
       "11     263\n",
       "12     139\n",
       "13      74\n",
       "14      91\n",
       "15      72\n",
       "Name: cluster, dtype: int64"
      ]
     },
     "execution_count": 64,
     "metadata": {},
     "output_type": "execute_result"
    }
   ],
   "source": [
    "num_clusts = 16\n",
    "fit_data = data_3d\n",
    "model = GaussianMixture(n_components=num_clusts).fit(fit_data)\n",
    "preds = model.predict(fit_data)\n",
    "print(silhouette_score(fit_data, preds))\n",
    "print(model.bic(data_3d))\n",
    "gmmClusts = pd.DataFrame(preds, columns=[\"cluster\"])\n",
    "gmmClusts['cluster'].value_counts().sort_index()"
   ]
  },
  {
   "cell_type": "code",
   "execution_count": 78,
   "metadata": {},
   "outputs": [
    {
     "name": "stdout",
     "output_type": "stream",
     "text": [
      "full\n",
      "\t0.9356788718736797\n",
      "\t-130582.8196306247\n",
      "tied\n",
      "\t0.9375078128214454\n",
      "\t-105386.00091729756\n",
      "diag\n",
      "\t0.931135309016291\n",
      "\t-130760.73282352286\n",
      "spherical\n",
      "\t0.9151635943656546\n",
      "\t-131744.68651333792\n"
     ]
    }
   ],
   "source": [
    "num_clusts = 16\n",
    "fit_data = data_3d\n",
    "cov_type = ['full','tied','diag','spherical']\n",
    "for cov in cov_type:\n",
    "    model = GaussianMixture(n_components=num_clusts, covariance_type=cov,n_init=500).fit(fit_data)\n",
    "    preds = model.predict(fit_data)\n",
    "    print(cov)\n",
    "    print(\"\\t\"+str(silhouette_score(fit_data, preds)))\n",
    "    print(\"\\t\"+str(model.bic(data_3d)))"
   ]
  },
  {
   "cell_type": "code",
   "execution_count": 79,
   "metadata": {},
   "outputs": [
    {
     "data": {
      "image/png": "[encoded data removed]",
      "text/plain": [
       "<Figure size 432x288 with 1 Axes>"
      ]
     },
     "metadata": {
      "needs_background": "light"
     },
     "output_type": "display_data"
    }
   ],
   "source": [
    "fig = plt.figure()\n",
    "ax = fig.add_subplot(111, projection='3d')\n",
    "\n",
    "scaleUp = 1000\n",
    "\n",
    "x = data_3d_df['x']*scaleUp\n",
    "y = data_3d_df['y']*scaleUp\n",
    "z = data_3d_df['z']*scaleUp\n",
    "\n",
    "ax.scatter(x, y, z, c=preds, s=10)\n",
    "\n",
    "ax.set_xlabel('X Label')\n",
    "ax.set_ylabel('Y Label')\n",
    "ax.set_zlabel('Z Label')\n",
    "\n",
    "plt.show()"
   ]
  },
  {
   "cell_type": "markdown",
   "metadata": {},
   "source": [
    "### Variational Bayesian estimation of a Gaussian mixture"
   ]
  },
  {
   "cell_type": "code",
   "execution_count": 80,
   "metadata": {},
   "outputs": [
    {
     "name": "stdout",
     "output_type": "stream",
     "text": [
      "full\n",
      "\t0.928728172072301\n",
      "tied\n",
      "\t0.9372017776843229\n",
      "diag\n",
      "\t0.9337234368633113\n",
      "spherical\n",
      "\t0.9320785506168126\n"
     ]
    },
    {
     "data": {
      "text/plain": [
       "'num_clusts = 16\\nfit_data = data_3d\\nmodel = BayesianGaussianMixture(n_components=num_clusts).fit(fit_data)\\npreds = model.predict(fit_data)\\nprint(silhouette_score(fit_data, preds))\\nbgmClusts = pd.DataFrame(preds, columns=[\"cluster\"])\\nbgmClusts[\\'cluster\\'].value_counts().sort_index()'"
      ]
     },
     "execution_count": 80,
     "metadata": {},
     "output_type": "execute_result"
    }
   ],
   "source": [
    "num_clusts = 16\n",
    "fit_data = data_3d\n",
    "cov_type = ['full','tied','diag','spherical']\n",
    "for cov in cov_type:\n",
    "    model = BayesianGaussianMixture(n_components=num_clusts, covariance_type=cov,n_init=10).fit(fit_data)\n",
    "    preds = model.predict(fit_data)\n",
    "    print(cov)\n",
    "    print(\"\\t\"+str(silhouette_score(fit_data, preds)))\n",
    "\n",
    "'''num_clusts = 16\n",
    "fit_data = data_3d\n",
    "model = BayesianGaussianMixture(n_components=num_clusts).fit(fit_data)\n",
    "preds = model.predict(fit_data)\n",
    "print(silhouette_score(fit_data, preds))\n",
    "vbgmClusts = pd.DataFrame(preds, columns=[\"cluster\"])\n",
    "vbgmClusts['cluster'].value_counts().sort_index()'''"
   ]
  },
  {
   "cell_type": "code",
   "execution_count": 81,
   "metadata": {},
   "outputs": [
    {
     "data": {
      "image/png": "[encoded data removed]",
      "text/plain": [
       "<Figure size 432x288 with 1 Axes>"
      ]
     },
     "metadata": {
      "needs_background": "light"
     },
     "output_type": "display_data"
    }
   ],
   "source": [
    "fig = plt.figure()\n",
    "ax = fig.add_subplot(111, projection='3d')\n",
    "\n",
    "scaleUp = 1000\n",
    "\n",
    "x = data_3d_df['x']*scaleUp\n",
    "y = data_3d_df['y']*scaleUp\n",
    "z = data_3d_df['z']*scaleUp\n",
    "\n",
    "ax.scatter(x, y, z, c=preds, s=10)\n",
    "\n",
    "ax.set_xlabel('X Label')\n",
    "ax.set_ylabel('Y Label')\n",
    "ax.set_zlabel('Z Label')\n",
    "\n",
    "plt.show()"
   ]
  },
  {
   "cell_type": "markdown",
   "metadata": {},
   "source": [
    "### Mean Shift\n",
    "Based on the below results probably not going to be useful for us"
   ]
  },
  {
   "cell_type": "code",
   "execution_count": 26,
   "metadata": {},
   "outputs": [
    {
     "name": "stdout",
     "output_type": "stream",
     "text": [
      "0.5776542143579033\n"
     ]
    },
    {
     "data": {
      "text/plain": [
       "0    1595\n",
       "1    1441\n",
       "2     938\n",
       "3     341\n",
       "4     137\n",
       "Name: cluster, dtype: int64"
      ]
     },
     "execution_count": 26,
     "metadata": {},
     "output_type": "execute_result"
    }
   ],
   "source": [
    "fit_data = data_3d\n",
    "model = MeanShift(cluster_all=False).fit(fit_data)\n",
    "preds = model.predict(fit_data)\n",
    "print(silhouette_score(fit_data, preds))\n",
    "\n",
    "msClusts = pd.DataFrame(preds, columns=[\"cluster\"])\n",
    "msClusts['cluster'].value_counts().sort_index()"
   ]
  },
  {
   "cell_type": "markdown",
   "metadata": {},
   "source": [
    "### Fuzzy C-means"
   ]
  },
  {
   "cell_type": "code",
   "execution_count": 29,
   "metadata": {},
   "outputs": [],
   "source": [
    "import skfuzzy as fuzz"
   ]
  },
  {
   "cell_type": "code",
   "execution_count": 80,
   "metadata": {},
   "outputs": [
    {
     "name": "stdout",
     "output_type": "stream",
     "text": [
      "0.9206130334137526\n"
     ]
    },
    {
     "data": {
      "text/plain": [
       "0      138\n",
       "1      234\n",
       "2       66\n",
       "3      135\n",
       "4      241\n",
       "5      141\n",
       "6       82\n",
       "7     1340\n",
       "8      341\n",
       "9      164\n",
       "10     572\n",
       "11      49\n",
       "12      78\n",
       "13     164\n",
       "14      97\n",
       "15     610\n",
       "Name: cluster, dtype: int64"
      ]
     },
     "execution_count": 80,
     "metadata": {},
     "output_type": "execute_result"
    }
   ],
   "source": [
    "fit_data = data_3d\n",
    "num_clusts = 16\n",
    "cntr, u, u0, d, jm, p, fpc = fuzz.cluster.cmeans(np.transpose(fit_data), num_clusts, 4, error=0.005, maxiter=1000, init=None)\n",
    "preds = np.argmax(u, axis=0)\n",
    "\n",
    "print(silhouette_score(fit_data, preds))\n",
    "\n",
    "fuzzClusts = pd.DataFrame(preds, columns=[\"cluster\"])\n",
    "fuzzClusts['cluster'].value_counts().sort_index()"
   ]
  }
 ],
 "metadata": {
  "kernelspec": {
   "display_name": "Python 3",
   "language": "python",
   "name": "python3"
  },
  "language_info": {
   "codemirror_mode": {
    "name": "ipython",
    "version": 3
   },
   "file_extension": ".py",
   "mimetype": "text/x-python",
   "name": "python",
   "nbconvert_exporter": "python",
   "pygments_lexer": "ipython3",
   "version": "3.7.6"
  }
 },
 "nbformat": 4,
 "nbformat_minor": 4
}
