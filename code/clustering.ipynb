{
 "cells": [
  {
   "cell_type": "code",
   "execution_count": 1,
   "metadata": {},
   "outputs": [],
   "source": [
    "# Library Imports\n",
    "# Data storing Imports\n",
    "import numpy as np\n",
    "import pandas as pd\n",
    "\n",
    "# Clustering imports\n",
    "from sklearn.cluster import KMeans, AgglomerativeClustering, DBSCAN\n",
    "from sklearn.metrics import silhouette_score\n",
    "import hdbscan\n",
    "import gower\n",
    "\n",
    "# Function imports from other files\n",
    "import data_preparation as dp"
   ]
  },
  {
   "cell_type": "code",
   "execution_count": 2,
   "metadata": {},
   "outputs": [
    {
     "name": "stdout",
     "output_type": "stream",
     "text": [
      "(4452, 8)\n",
      "['ppm' '°C' 'omit' 'Pa' '%' 'ft/min' 'L/s' '_' 'L' 'A' 'kPa' 'psi' '°F'\n",
      " 'kW' '%RH' 'min' 'W' 'V' 'kWh' 'm³' 'Hz' 'rpm']\n"
     ]
    },
    {
     "data": {
      "text/html": [
       "<div>\n",
       "<style scoped>\n",
       "    .dataframe tbody tr th:only-of-type {\n",
       "        vertical-align: middle;\n",
       "    }\n",
       "\n",
       "    .dataframe tbody tr th {\n",
       "        vertical-align: top;\n",
       "    }\n",
       "\n",
       "    .dataframe thead th {\n",
       "        text-align: right;\n",
       "    }\n",
       "</style>\n",
       "<table border=\"1\" class=\"dataframe\">\n",
       "  <thead>\n",
       "    <tr style=\"text-align: right;\">\n",
       "      <th></th>\n",
       "      <th>datetime</th>\n",
       "      <th>equipRef</th>\n",
       "      <th>groupRef</th>\n",
       "      <th>navName</th>\n",
       "      <th>siteRef</th>\n",
       "      <th>typeRef</th>\n",
       "      <th>unit</th>\n",
       "      <th>value</th>\n",
       "    </tr>\n",
       "  </thead>\n",
       "  <tbody>\n",
       "    <tr>\n",
       "      <th>0</th>\n",
       "      <td>2020-05-01 00:00:01+00:00</td>\n",
       "      <td>EF-B02</td>\n",
       "      <td>Pharmacy Air Systems</td>\n",
       "      <td>EF_B02_RLD_CH1_3</td>\n",
       "      <td>Pharmacy</td>\n",
       "      <td>EF_B02_RLD_CH1_3</td>\n",
       "      <td>ppm</td>\n",
       "      <td>2.107125</td>\n",
       "    </tr>\n",
       "    <tr>\n",
       "      <th>1</th>\n",
       "      <td>2020-05-01 00:00:01+00:00</td>\n",
       "      <td>Heating Plant SBLR-1</td>\n",
       "      <td>Pharmacy Hydronic Systems</td>\n",
       "      <td>SB1_2_FGAS_INLET_T</td>\n",
       "      <td>Pharmacy</td>\n",
       "      <td>SB1_2_FGAS_INLET_T</td>\n",
       "      <td>°C</td>\n",
       "      <td>274.787537</td>\n",
       "    </tr>\n",
       "    <tr>\n",
       "      <th>2</th>\n",
       "      <td>2020-05-01 00:00:01+00:00</td>\n",
       "      <td>Rm 2340 VAV-2S008</td>\n",
       "      <td>Pharmacy Floor 2</td>\n",
       "      <td>Zone Temp</td>\n",
       "      <td>Pharmacy</td>\n",
       "      <td>VAV_2S008_RT_AV</td>\n",
       "      <td>°C</td>\n",
       "      <td>24.574572</td>\n",
       "    </tr>\n",
       "    <tr>\n",
       "      <th>3</th>\n",
       "      <td>2020-05-01 00:00:01+00:00</td>\n",
       "      <td>Rm B612 FC-B06</td>\n",
       "      <td>Pharmacy Floor 0</td>\n",
       "      <td>Discharge Fan Run Cmd</td>\n",
       "      <td>Pharmacy</td>\n",
       "      <td>FCU_B06_C</td>\n",
       "      <td>omit</td>\n",
       "      <td>True</td>\n",
       "    </tr>\n",
       "    <tr>\n",
       "      <th>4</th>\n",
       "      <td>2020-05-01 00:00:02+00:00</td>\n",
       "      <td>AHU-06</td>\n",
       "      <td>Pharmacy Air Systems</td>\n",
       "      <td>AHU6_SPACE_DP(MUX)</td>\n",
       "      <td>Pharmacy</td>\n",
       "      <td>AHU6_SPACE_DP(MUX)</td>\n",
       "      <td>Pa</td>\n",
       "      <td>7.981429</td>\n",
       "    </tr>\n",
       "  </tbody>\n",
       "</table>\n",
       "</div>"
      ],
      "text/plain": [
       "                    datetime              equipRef                   groupRef  \\\n",
       "0  2020-05-01 00:00:01+00:00                EF-B02       Pharmacy Air Systems   \n",
       "1  2020-05-01 00:00:01+00:00  Heating Plant SBLR-1  Pharmacy Hydronic Systems   \n",
       "2  2020-05-01 00:00:01+00:00     Rm 2340 VAV-2S008           Pharmacy Floor 2   \n",
       "3  2020-05-01 00:00:01+00:00        Rm B612 FC-B06           Pharmacy Floor 0   \n",
       "4  2020-05-01 00:00:02+00:00                AHU-06       Pharmacy Air Systems   \n",
       "\n",
       "                 navName   siteRef             typeRef  unit       value  \n",
       "0       EF_B02_RLD_CH1_3  Pharmacy    EF_B02_RLD_CH1_3   ppm    2.107125  \n",
       "1     SB1_2_FGAS_INLET_T  Pharmacy  SB1_2_FGAS_INLET_T    °C  274.787537  \n",
       "2              Zone Temp  Pharmacy     VAV_2S008_RT_AV    °C   24.574572  \n",
       "3  Discharge Fan Run Cmd  Pharmacy           FCU_B06_C  omit        True  \n",
       "4     AHU6_SPACE_DP(MUX)  Pharmacy  AHU6_SPACE_DP(MUX)    Pa    7.981429  "
      ]
     },
     "execution_count": 2,
     "metadata": {},
     "output_type": "execute_result"
    }
   ],
   "source": [
    "# Reading in data for testing\n",
    "data = pd.read_csv('test_data/2020-05-01.csv')\n",
    "data = data.drop_duplicates(subset=['equipRef','groupRef','navName','siteRef','typeRef','unit'])\n",
    "print(data.shape)\n",
    "print(data['unit'].unique())\n",
    "data.head()"
   ]
  },
  {
   "cell_type": "markdown",
   "metadata": {},
   "source": [
    "# Scaling values and encoding values and units\n",
    "The function for scaling and encoding values is different from the one for scaling units so the resulting dataframes need to be merged"
   ]
  },
  {
   "cell_type": "code",
   "execution_count": 3,
   "metadata": {},
   "outputs": [
    {
     "data": {
      "text/html": [
       "<div>\n",
       "<style scoped>\n",
       "    .dataframe tbody tr th:only-of-type {\n",
       "        vertical-align: middle;\n",
       "    }\n",
       "\n",
       "    .dataframe tbody tr th {\n",
       "        vertical-align: top;\n",
       "    }\n",
       "\n",
       "    .dataframe thead th {\n",
       "        text-align: right;\n",
       "    }\n",
       "</style>\n",
       "<table border=\"1\" class=\"dataframe\">\n",
       "  <thead>\n",
       "    <tr style=\"text-align: right;\">\n",
       "      <th></th>\n",
       "      <th>datetime</th>\n",
       "      <th>equipRef</th>\n",
       "      <th>groupRef</th>\n",
       "      <th>navName</th>\n",
       "      <th>siteRef</th>\n",
       "      <th>typeRef</th>\n",
       "      <th>unit</th>\n",
       "      <th>value</th>\n",
       "      <th>cv_0</th>\n",
       "      <th>cv_1</th>\n",
       "      <th>...</th>\n",
       "      <th>unit_12</th>\n",
       "      <th>unit_13</th>\n",
       "      <th>unit_14</th>\n",
       "      <th>unit_15</th>\n",
       "      <th>unit_16</th>\n",
       "      <th>unit_17</th>\n",
       "      <th>unit_18</th>\n",
       "      <th>unit_19</th>\n",
       "      <th>unit_20</th>\n",
       "      <th>unit_21</th>\n",
       "    </tr>\n",
       "  </thead>\n",
       "  <tbody>\n",
       "    <tr>\n",
       "      <th>0</th>\n",
       "      <td>2020-05-01 00:00:01+00:00</td>\n",
       "      <td>EF-B02</td>\n",
       "      <td>Pharmacy Air Systems</td>\n",
       "      <td>EF_B02_RLD_CH1_3</td>\n",
       "      <td>Pharmacy</td>\n",
       "      <td>EF_B02_RLD_CH1_3</td>\n",
       "      <td>ppm</td>\n",
       "      <td>2.107125</td>\n",
       "      <td>0.0</td>\n",
       "      <td>0.0</td>\n",
       "      <td>...</td>\n",
       "      <td>0.0</td>\n",
       "      <td>0.0</td>\n",
       "      <td>0.0</td>\n",
       "      <td>0.0</td>\n",
       "      <td>0.0</td>\n",
       "      <td>0.0</td>\n",
       "      <td>0.0</td>\n",
       "      <td>0.0</td>\n",
       "      <td>0.0</td>\n",
       "      <td>0.0</td>\n",
       "    </tr>\n",
       "    <tr>\n",
       "      <th>1</th>\n",
       "      <td>2020-05-01 00:00:01+00:00</td>\n",
       "      <td>Heating Plant SBLR-1</td>\n",
       "      <td>Pharmacy Hydronic Systems</td>\n",
       "      <td>SB1_2_FGAS_INLET_T</td>\n",
       "      <td>Pharmacy</td>\n",
       "      <td>SB1_2_FGAS_INLET_T</td>\n",
       "      <td>°C</td>\n",
       "      <td>274.787537</td>\n",
       "      <td>0.0</td>\n",
       "      <td>0.0</td>\n",
       "      <td>...</td>\n",
       "      <td>0.0</td>\n",
       "      <td>0.0</td>\n",
       "      <td>0.0</td>\n",
       "      <td>0.0</td>\n",
       "      <td>0.0</td>\n",
       "      <td>0.0</td>\n",
       "      <td>0.0</td>\n",
       "      <td>0.0</td>\n",
       "      <td>0.0</td>\n",
       "      <td>0.0</td>\n",
       "    </tr>\n",
       "    <tr>\n",
       "      <th>2</th>\n",
       "      <td>2020-05-01 00:00:01+00:00</td>\n",
       "      <td>Rm 2340 VAV-2S008</td>\n",
       "      <td>Pharmacy Floor 2</td>\n",
       "      <td>Zone Temp</td>\n",
       "      <td>Pharmacy</td>\n",
       "      <td>VAV_2S008_RT_AV</td>\n",
       "      <td>°C</td>\n",
       "      <td>24.574572</td>\n",
       "      <td>0.0</td>\n",
       "      <td>0.0</td>\n",
       "      <td>...</td>\n",
       "      <td>0.0</td>\n",
       "      <td>0.0</td>\n",
       "      <td>0.0</td>\n",
       "      <td>0.0</td>\n",
       "      <td>0.0</td>\n",
       "      <td>0.0</td>\n",
       "      <td>0.0</td>\n",
       "      <td>0.0</td>\n",
       "      <td>0.0</td>\n",
       "      <td>0.0</td>\n",
       "    </tr>\n",
       "    <tr>\n",
       "      <th>3</th>\n",
       "      <td>2020-05-01 00:00:01+00:00</td>\n",
       "      <td>Rm B612 FC-B06</td>\n",
       "      <td>Pharmacy Floor 0</td>\n",
       "      <td>Discharge Fan Run Cmd</td>\n",
       "      <td>Pharmacy</td>\n",
       "      <td>FCU_B06_C</td>\n",
       "      <td>omit</td>\n",
       "      <td>True</td>\n",
       "      <td>1.0</td>\n",
       "      <td>0.0</td>\n",
       "      <td>...</td>\n",
       "      <td>0.0</td>\n",
       "      <td>0.0</td>\n",
       "      <td>0.0</td>\n",
       "      <td>0.0</td>\n",
       "      <td>0.0</td>\n",
       "      <td>0.0</td>\n",
       "      <td>0.0</td>\n",
       "      <td>0.0</td>\n",
       "      <td>0.0</td>\n",
       "      <td>0.0</td>\n",
       "    </tr>\n",
       "    <tr>\n",
       "      <th>4</th>\n",
       "      <td>2020-05-01 00:00:02+00:00</td>\n",
       "      <td>AHU-06</td>\n",
       "      <td>Pharmacy Air Systems</td>\n",
       "      <td>AHU6_SPACE_DP(MUX)</td>\n",
       "      <td>Pharmacy</td>\n",
       "      <td>AHU6_SPACE_DP(MUX)</td>\n",
       "      <td>Pa</td>\n",
       "      <td>7.981429</td>\n",
       "      <td>0.0</td>\n",
       "      <td>0.0</td>\n",
       "      <td>...</td>\n",
       "      <td>0.0</td>\n",
       "      <td>0.0</td>\n",
       "      <td>0.0</td>\n",
       "      <td>0.0</td>\n",
       "      <td>0.0</td>\n",
       "      <td>0.0</td>\n",
       "      <td>0.0</td>\n",
       "      <td>0.0</td>\n",
       "      <td>0.0</td>\n",
       "      <td>0.0</td>\n",
       "    </tr>\n",
       "  </tbody>\n",
       "</table>\n",
       "<p>5 rows × 41 columns</p>\n",
       "</div>"
      ],
      "text/plain": [
       "                    datetime              equipRef                   groupRef  \\\n",
       "0  2020-05-01 00:00:01+00:00                EF-B02       Pharmacy Air Systems   \n",
       "1  2020-05-01 00:00:01+00:00  Heating Plant SBLR-1  Pharmacy Hydronic Systems   \n",
       "2  2020-05-01 00:00:01+00:00     Rm 2340 VAV-2S008           Pharmacy Floor 2   \n",
       "3  2020-05-01 00:00:01+00:00        Rm B612 FC-B06           Pharmacy Floor 0   \n",
       "4  2020-05-01 00:00:02+00:00                AHU-06       Pharmacy Air Systems   \n",
       "\n",
       "                 navName   siteRef             typeRef  unit       value  \\\n",
       "0       EF_B02_RLD_CH1_3  Pharmacy    EF_B02_RLD_CH1_3   ppm    2.107125   \n",
       "1     SB1_2_FGAS_INLET_T  Pharmacy  SB1_2_FGAS_INLET_T    °C  274.787537   \n",
       "2              Zone Temp  Pharmacy     VAV_2S008_RT_AV    °C   24.574572   \n",
       "3  Discharge Fan Run Cmd  Pharmacy           FCU_B06_C  omit        True   \n",
       "4     AHU6_SPACE_DP(MUX)  Pharmacy  AHU6_SPACE_DP(MUX)    Pa    7.981429   \n",
       "\n",
       "   cv_0  cv_1  ...  unit_12  unit_13  unit_14  unit_15  unit_16  unit_17  \\\n",
       "0   0.0   0.0  ...      0.0      0.0      0.0      0.0      0.0      0.0   \n",
       "1   0.0   0.0  ...      0.0      0.0      0.0      0.0      0.0      0.0   \n",
       "2   0.0   0.0  ...      0.0      0.0      0.0      0.0      0.0      0.0   \n",
       "3   1.0   0.0  ...      0.0      0.0      0.0      0.0      0.0      0.0   \n",
       "4   0.0   0.0  ...      0.0      0.0      0.0      0.0      0.0      0.0   \n",
       "\n",
       "   unit_18  unit_19  unit_20  unit_21  \n",
       "0      0.0      0.0      0.0      0.0  \n",
       "1      0.0      0.0      0.0      0.0  \n",
       "2      0.0      0.0      0.0      0.0  \n",
       "3      0.0      0.0      0.0      0.0  \n",
       "4      0.0      0.0      0.0      0.0  \n",
       "\n",
       "[5 rows x 41 columns]"
      ]
     },
     "execution_count": 3,
     "metadata": {},
     "output_type": "execute_result"
    }
   ],
   "source": [
    "df_vals = dp.encode_and_scale_values(data)\n",
    "df_units = dp.encode_units(data)\n",
    "df = df_vals.merge(df_units.drop('value', axis=1), on=['datetime','equipRef','groupRef','navName','siteRef','typeRef', 'unit'])\n",
    "df.head()"
   ]
  },
  {
   "cell_type": "code",
   "execution_count": 4,
   "metadata": {},
   "outputs": [
    {
     "data": {
      "text/plain": [
       "Index(['datetime', 'equipRef', 'groupRef', 'navName', 'siteRef', 'typeRef',\n",
       "       'unit', 'value', 'cv_0', 'cv_1', 'cv_2', 'cv_3', 'cv_4', 'cv_5', 'cv_6',\n",
       "       'cv_7', 'cv_8', 'cv_9', 'sc_0', 'unit_0', 'unit_1', 'unit_2', 'unit_3',\n",
       "       'unit_4', 'unit_5', 'unit_6', 'unit_7', 'unit_8', 'unit_9', 'unit_10',\n",
       "       'unit_11', 'unit_12', 'unit_13', 'unit_14', 'unit_15', 'unit_16',\n",
       "       'unit_17', 'unit_18', 'unit_19', 'unit_20', 'unit_21'],\n",
       "      dtype='object')"
      ]
     },
     "execution_count": 4,
     "metadata": {},
     "output_type": "execute_result"
    }
   ],
   "source": [
    "df.columns"
   ]
  },
  {
   "cell_type": "markdown",
   "metadata": {},
   "source": [
    "# Calculating the Gower's distances\n",
    "NOTE: Categorical observations are currently identified with 0 when none of the categories apply, I don't think this should be a problem since we can tell the gower_matrix function which columns are categorical, so it should know that 0 indicates the lack of a value rather than the presence of something else."
   ]
  },
  {
   "cell_type": "code",
   "execution_count": 12,
   "metadata": {},
   "outputs": [],
   "source": [
    "# Generating list of Booleans for identifying which columns are categorical and which aren't (pass in a list of columns that are continuous and the number predictor variables)\n",
    "def make_categorical_list(cont_idxs, num_predictors):\n",
    "    if type(cont_idxs)==int: cont_idxs = [cont_idxs]\n",
    "    is_Cat = []\n",
    "    for i in range(num_predictors):\n",
    "        if i in cont_idxs:\n",
    "            is_Cat.append(False)\n",
    "        else:\n",
    "            is_Cat.append(True)\n",
    "    return is_Cat"
   ]
  },
  {
   "cell_type": "code",
   "execution_count": 13,
   "metadata": {},
   "outputs": [],
   "source": [
    "# Function to simplify calculating Gower's distance (pass in the dataframe and the indexes of the columns that are categorical)\n",
    "def calc_gowers(df, continuous_columns):\n",
    "    catList = make_categorical_list(continuous_columns, len(df.columns)-8)\n",
    "    data_np = df.iloc[:,8:].to_numpy()\n",
    "    gow_dists = gower.gower_matrix(data_np, cat_features=catList)\n",
    "    return gow_dists"
   ]
  },
  {
   "cell_type": "code",
   "execution_count": 14,
   "metadata": {},
   "outputs": [
    {
     "data": {
      "text/plain": [
       "array([[0.0000000e+00, 6.0606256e-02, 6.0606077e-02, ..., 6.0606077e-02,\n",
       "        6.0606077e-02, 6.0606077e-02],\n",
       "       [6.0606256e-02, 0.0000000e+00, 1.8048814e-07, ..., 1.8170053e-07,\n",
       "        1.8124335e-07, 1.7965388e-07],\n",
       "       [6.0606077e-02, 1.8048814e-07, 0.0000000e+00, ..., 1.2123854e-09,\n",
       "        7.5520851e-10, 8.3426427e-10],\n",
       "       ...,\n",
       "       [6.0606077e-02, 1.8170053e-07, 1.2123854e-09, ..., 0.0000000e+00,\n",
       "        4.5717685e-10, 2.0466497e-09],\n",
       "       [6.0606077e-02, 1.8124335e-07, 7.5520851e-10, ..., 4.5717685e-10,\n",
       "        0.0000000e+00, 1.5894728e-09],\n",
       "       [6.0606077e-02, 1.7965388e-07, 8.3426427e-10, ..., 2.0466497e-09,\n",
       "        1.5894728e-09, 0.0000000e+00]], dtype=float32)"
      ]
     },
     "execution_count": 14,
     "metadata": {},
     "output_type": "execute_result"
    }
   ],
   "source": [
    "gow_dists = calc_gowers(df, [10])\n",
    "gow_dists"
   ]
  },
  {
   "cell_type": "markdown",
   "metadata": {},
   "source": [
    "# Clustering Function\n",
    "This function is intended for quick testing of various different clustering methods, some minimal \"optimization\" has been done on some of the clustering methods to make it so that they will work with the data provided. The items that have been \"optimized\" (for lack of a better word) are listed below:\n",
    "* Agglomerative Clustering (agglom): linkage = 'complete'\n",
    "* DBSCAN (dbscan): eps=0.06\n",
    "* HDBSCAN (hdbscan): cluster_selection_epsilon=0.06\n",
    "\n",
    "NOTE: kmeans doesn't actually account for account for the fact that most of the predictor variables are categorical (we could implement multidimensional scalling to do that). Furthermore many of the other clustering methods don't accept Gower's distance as input, but expect datasets of values, we could use MDS to get the data into a scale that can leverage the Gower's distances and thereby account for the fact that certain variables are categorical. I have tested MDS down at the bottom of this file and was able to get it to work. It provided a fring benefit of being able to visualize our data in some form for the first time."
   ]
  },
  {
   "cell_type": "code",
   "execution_count": 83,
   "metadata": {},
   "outputs": [
    {
     "name": "stdout",
     "output_type": "stream",
     "text": [
      "0.91493356\n"
     ]
    },
    {
     "data": {
      "text/plain": [
       "-1        7\n",
       " 0       59\n",
       " 1       25\n",
       " 2      135\n",
       " 3      102\n",
       " 4       90\n",
       " 5      171\n",
       " 6        9\n",
       " 7        6\n",
       " 8        9\n",
       " 9       60\n",
       " 10       7\n",
       " 11     136\n",
       " 12     610\n",
       " 13    1340\n",
       " 14      18\n",
       " 15     239\n",
       " 16     573\n",
       " 17     232\n",
       " 18     155\n",
       " 19     469\n",
       "Name: cluster, dtype: int64"
      ]
     },
     "execution_count": 83,
     "metadata": {},
     "output_type": "execute_result"
    }
   ],
   "source": [
    "# Function to quickly run various different clustering methods, look at the portion of the if statement to see what values each model type needs in order to run\n",
    "## Available model types are: kmeans, agglom (agglomerative or hierarchical), dbscan\n",
    "def cluster(df, clust_type, num_clusts = None, continuous_columns = None):\n",
    "    if continuous_columns != None:\n",
    "        # Calculate the Gower's distance, only required if there are continuous columns\n",
    "        fit_data = calc_gowers(df, continuous_columns)\n",
    "    if clust_type == 'kmeans':\n",
    "        # Needs df, clust_type, num_clusts\n",
    "        fit_data = df.iloc[:,8:].to_numpy()\n",
    "        model = KMeans(n_clusters=num_clusts).fit(fit_data)\n",
    "    elif clust_type == 'agglom':\n",
    "        # Needs df, clust_type, num_clusts, continuous_columns\n",
    "        model = AgglomerativeClustering(affinity='precomputed', linkage = 'complete', n_clusters=num_clusts).fit(fit_data)\n",
    "    elif clust_type == 'dbscan':\n",
    "        # Needs df, clust_type, continuous_columns\n",
    "        model = DBSCAN(eps=0.06, min_samples=2, metric='precomputed').fit(gow_dists)\n",
    "    elif clust_type == 'hdbscan':\n",
    "        # Needs df, clust_type, continuous_columns\n",
    "        model = hdbscan.HDBSCAN(metric='precomputed', cluster_selection_epsilon=0.06).fit(gow_dists.astype('double'))\n",
    "    else:\n",
    "        print(\"Specified model type not available yet\")\n",
    "    try:\n",
    "        print(silhouette_score(fit_data, model.labels_))\n",
    "        return model.labels_\n",
    "    except:\n",
    "        print('Unable to calculate silhouette score for the given model')\n",
    "\n",
    "test = cluster(df, 'hdbscan', continuous_columns = 10)\n",
    "test_Clusts = pd.DataFrame(test, columns=[\"cluster\"])\n",
    "test_Clusts['cluster'].value_counts().sort_index()"
   ]
  },
  {
   "cell_type": "markdown",
   "metadata": {},
   "source": [
    "# K-means Clustering\n",
    "Note: K-means Clustering doesn't use Gower's distance"
   ]
  },
  {
   "cell_type": "code",
   "execution_count": 15,
   "metadata": {},
   "outputs": [
    {
     "name": "stdout",
     "output_type": "stream",
     "text": [
      "0.9706555036386533\n"
     ]
    },
    {
     "data": {
      "text/plain": [
       "0     1340\n",
       "1      572\n",
       "2      358\n",
       "3      610\n",
       "4      171\n",
       "5      239\n",
       "6      232\n",
       "7      155\n",
       "8      136\n",
       "9      135\n",
       "10      98\n",
       "11      60\n",
       "12      90\n",
       "13     120\n",
       "14      58\n",
       "15      78\n",
       "Name: cluster, dtype: int64"
      ]
     },
     "execution_count": 15,
     "metadata": {},
     "output_type": "execute_result"
    }
   ],
   "source": [
    "# Fitting the data with k-means clustering (doesn't use Gower's distance)\n",
    "clusterVals = data_np\n",
    "kmeans = KMeans(n_clusters=16).fit(clusterVals)\n",
    "print(silhouette_score(clusterVals, kmeans.labels_))\n",
    "# Summarising how many observations belong to each cluster\n",
    "kClusts = pd.DataFrame(kmeans.labels_, columns=[\"cluster\"])\n",
    "kClusts['cluster'].value_counts().sort_index()"
   ]
  },
  {
   "cell_type": "markdown",
   "metadata": {},
   "source": [
    "# Agglomerative Clustering\n",
    "Agglomerative Clustering is the same thing as hierarchical clustering\n",
    "### Testing Various Linkages and number of clusters"
   ]
  },
  {
   "cell_type": "code",
   "execution_count": null,
   "metadata": {},
   "outputs": [],
   "source": [
    "# Fitting the data with Agglomerative clustering\n",
    "linkage_options = ['single', 'average', 'complete']\n",
    "max_clust = 25\n",
    "silhouette_df = pd.DataFrame(columns=linkage_options, index=[i for i in range(2,max_clust+1)])\n",
    "silhouettes = []\n",
    "for link in linkage_options:\n",
    "    for n_clust in range(2,max_clust+1):\n",
    "        agglom = AgglomerativeClustering(affinity='precomputed', linkage = link, n_clusters=n_clust).fit(gow_dists)\n",
    "        silhouette_df.loc[n_clust,link] = silhouette_score(gow_dists, agglom.labels_)"
   ]
  },
  {
   "cell_type": "code",
   "execution_count": null,
   "metadata": {},
   "outputs": [],
   "source": [
    "silhouette_df"
   ]
  },
  {
   "cell_type": "code",
   "execution_count": null,
   "metadata": {},
   "outputs": [],
   "source": [
    "#Identifying the top performing configuration from the above tests\n",
    "cur_max = 'none'\n",
    "cur_max_val = -2 # Worst case scenario is -1\n",
    "for link in linkage_options:\n",
    "    check_max = max(silhouette_df[link])\n",
    "    if check_max >= cur_max_val:\n",
    "        cur_max = link\n",
    "        cur_max_val = check_max\n",
    "max_idx = silhouette_df[cur_max].astype(float).idxmax()\n",
    "print(\"Linkage for max silhouette score: \"+cur_max+\"\\nNumber of clusters for max silhouette score: \"+str(max_idx)+\"\\nMax silhouette score is: \"+str(cur_max_val))"
   ]
  },
  {
   "cell_type": "code",
   "execution_count": null,
   "metadata": {},
   "outputs": [],
   "source": [
    "# Plotting silhouette scores from above\n",
    "from matplotlib import pyplot as plt\n",
    "from scipy.cluster.hierarchy import dendrogram\n",
    "\n",
    "cols = ['red','blue','green']\n",
    "for i in range(0,3):\n",
    "    plt.plot(silhouette_df[linkage_options[i]], color=cols[i])\n",
    "plt.legend(linkage_options)\n",
    "plt.show()"
   ]
  },
  {
   "cell_type": "code",
   "execution_count": null,
   "metadata": {},
   "outputs": [],
   "source": [
    "# Plotting Dendrogram\n",
    "### NOTE: This code was copy pasted from https://scikit-learn.org/stable/auto_examples/cluster/plot_agglomerative_dendrogram.html for testing purposes\n",
    "from matplotlib import pyplot as plt\n",
    "from scipy.cluster.hierarchy import dendrogram\n",
    "\n",
    "def plot_dendrogram(model, **kwargs):\n",
    "    # Create linkage matrix and then plot the dendrogram\n",
    "\n",
    "    # create the counts of samples under each node\n",
    "    counts = np.zeros(model.children_.shape[0])\n",
    "    n_samples = len(model.labels_)\n",
    "    for i, merge in enumerate(model.children_):\n",
    "        current_count = 0\n",
    "        for child_idx in merge:\n",
    "            if child_idx < n_samples:\n",
    "                current_count += 1  # leaf node\n",
    "            else:\n",
    "                current_count += counts[child_idx - n_samples]\n",
    "        counts[i] = current_count\n",
    "\n",
    "    linkage_matrix = np.column_stack([model.children_, model.distances_,\n",
    "                                      counts]).astype(float)\n",
    "\n",
    "    # Plot the corresponding dendrogram\n",
    "    dendrogram(linkage_matrix, **kwargs)\n",
    "\n",
    "\n",
    "# setting distance_threshold=0 ensures we compute the full tree.\n",
    "model = AgglomerativeClustering(affinity='precomputed', distance_threshold=0, n_clusters=None, linkage = 'complete')\n",
    "\n",
    "model = model.fit(gow_dists)\n",
    "plt.title('Hierarchical Clustering Dendrogram')\n",
    "# plot the top three levels of the dendrogram\n",
    "plot_dendrogram(model, truncate_mode='level', p=3)\n",
    "plt.xlabel(\"Number of points in node (or index of point if no parenthesis).\")\n",
    "plt.xticks(rotation=90)\n",
    "plt.show()"
   ]
  },
  {
   "cell_type": "markdown",
   "metadata": {},
   "source": [
    "### Fitting the best configuraiton from the for loop Grid Seach"
   ]
  },
  {
   "cell_type": "code",
   "execution_count": null,
   "metadata": {},
   "outputs": [],
   "source": [
    "# Fitting best configuration from the for loop Grid Seach\n",
    "agglom = AgglomerativeClustering(affinity='precomputed', linkage = cur_max, n_clusters=max_idx).fit(gow_dists)\n",
    "# Printing the Silhouette_score for the best configuration from the for loop Grid Seach\n",
    "print(silhouette_score(gow_dists, agglom.labels_))\n",
    "# Summarising how many observations belong to each cluster\n",
    "aggClusts = pd.DataFrame(agglom.labels_, columns=[\"cluster\"])\n",
    "aggClusts['cluster'].value_counts().sort_index()"
   ]
  },
  {
   "cell_type": "markdown",
   "metadata": {},
   "source": [
    "### Fitting the best configuraiton from the for Dendrogram\n",
    "From the dendrogram shown above it looks like there should be 8 clusters"
   ]
  },
  {
   "cell_type": "code",
   "execution_count": null,
   "metadata": {},
   "outputs": [],
   "source": [
    "# Fitting best configuration from the dendrogram\n",
    "agglom = AgglomerativeClustering(affinity='precomputed', linkage = 'complete', n_clusters=8).fit(gow_dists)\n",
    "# Printing the Silhouette_score for the best configuration from the dendrogram\n",
    "print(silhouette_score(gow_dists, agglom.labels_))\n",
    "# Summarising how many observations belong to each cluster\n",
    "aggClusts = pd.DataFrame(agglom.labels_, columns=[\"cluster\"])\n",
    "aggClusts['cluster'].value_counts().sort_index()"
   ]
  },
  {
   "cell_type": "markdown",
   "metadata": {},
   "source": [
    "# Clustering with DBSCAN from sklearn"
   ]
  },
  {
   "cell_type": "code",
   "execution_count": 42,
   "metadata": {},
   "outputs": [
    {
     "name": "stdout",
     "output_type": "stream",
     "text": [
      "[0 1 1 ... 1 1 1]\n",
      "<class 'numpy.ndarray'>\n",
      "0.96521753\n"
     ]
    },
    {
     "data": {
      "text/plain": [
       "0      136\n",
       "1     1340\n",
       "2      478\n",
       "3      239\n",
       "4      610\n",
       "5        5\n",
       "6      572\n",
       "7      155\n",
       "8       25\n",
       "9      232\n",
       "10      18\n",
       "11       5\n",
       "12       8\n",
       "13      98\n",
       "14      58\n",
       "15       4\n",
       "16      90\n",
       "17     135\n",
       "18     171\n",
       "19       6\n",
       "20      60\n",
       "21       7\n",
       "Name: cluster, dtype: int64"
      ]
     },
     "execution_count": 42,
     "metadata": {},
     "output_type": "execute_result"
    }
   ],
   "source": [
    "# Fitting the data with DBSCAN clustering\n",
    "db_clust = DBSCAN(eps=0.06, min_samples=2, metric='precomputed').fit(gow_dists)\n",
    "# Printing the cluster labels for each cluster\n",
    "print(db_clust.labels_)\n",
    "print(type(db_clust.labels_))\n",
    "print(silhouette_score(gow_dists, db_clust.labels_))\n",
    "clusts = pd.DataFrame(db_clust.labels_, columns=[\"cluster\"])\n",
    "clusts['cluster'].value_counts().sort_index()"
   ]
  },
  {
   "cell_type": "code",
   "execution_count": 35,
   "metadata": {},
   "outputs": [
    {
     "data": {
      "text/plain": [
       "[<matplotlib.lines.Line2D at 0x7f2c2c802e10>]"
      ]
     },
     "execution_count": 35,
     "metadata": {},
     "output_type": "execute_result"
    },
    {
     "data": {
      "image/png": "[encoded data removed]",
      "text/plain": [
       "<Figure size 432x288 with 1 Axes>"
      ]
     },
     "metadata": {
      "needs_background": "light"
     },
     "output_type": "display_data"
    }
   ],
   "source": [
    "# k-distance plot for determining epsilon (looks like a value around 0.06 is appropriate here) (used for both DBSCAN and HDBSCAN)\n",
    "from matplotlib import pyplot as plt\n",
    "sorted_vals = gow_dists[0]\n",
    "sorted_vals = sorted_vals[np.argsort(-gow_dists[0])]\n",
    "plt.plot(sorted_vals)"
   ]
  },
  {
   "cell_type": "markdown",
   "metadata": {},
   "source": [
    "# Clustering with HDBSCAN from hdbscan"
   ]
  },
  {
   "cell_type": "code",
   "execution_count": 81,
   "metadata": {},
   "outputs": [
    {
     "name": "stdout",
     "output_type": "stream",
     "text": [
      "[11 13 13 ... 13 13 13]\n",
      "0.91493356\n"
     ]
    },
    {
     "data": {
      "text/plain": [
       "-1        7\n",
       " 0       59\n",
       " 1       25\n",
       " 2      135\n",
       " 3      102\n",
       " 4       90\n",
       " 5      171\n",
       " 6        9\n",
       " 7        6\n",
       " 8        9\n",
       " 9       60\n",
       " 10       7\n",
       " 11     136\n",
       " 12     610\n",
       " 13    1340\n",
       " 14      18\n",
       " 15     239\n",
       " 16     573\n",
       " 17     232\n",
       " 18     155\n",
       " 19     469\n",
       "Name: cluster, dtype: int64"
      ]
     },
     "execution_count": 81,
     "metadata": {},
     "output_type": "execute_result"
    }
   ],
   "source": [
    "hdb = hdbscan.HDBSCAN(metric='precomputed', cluster_selection_epsilon=0.06).fit(gow_dists.astype('double'))\n",
    "#hdbClusts = hdb\n",
    "print(hdb.labels_)\n",
    "print(silhouette_score(gow_dists, hdb.labels_))\n",
    "hdbClusts = pd.DataFrame(hdb.labels_, columns=[\"cluster\"])\n",
    "hdbClusts['cluster'].value_counts().sort_index()"
   ]
  },
  {
   "cell_type": "markdown",
   "metadata": {},
   "source": [
    "# Multidimensional Scaling\n",
    "Not sure if this will be of use but wanted to test since many of the clustering methods don't accept distances as inputs (requires the dataframe of values). MDS will allow us to scale the gower's distance data into a coordinate system. It will also allow us to plot our clusters since we can reduce dimensionality."
   ]
  },
  {
   "cell_type": "code",
   "execution_count": 45,
   "metadata": {},
   "outputs": [
    {
     "data": {
      "text/plain": [
       "(4452, 2)"
      ]
     },
     "execution_count": 45,
     "metadata": {},
     "output_type": "execute_result"
    }
   ],
   "source": [
    "# MDS Import\n",
    "from sklearn.manifold import MDS\n",
    "\n",
    "# Scale the data down to 2 degrees\n",
    "scaler = MDS(dissimilarity='precomputed')\n",
    "data_2d = scaler.fit_transform(gow_dists)\n",
    "data_2d.shape"
   ]
  },
  {
   "cell_type": "code",
   "execution_count": 55,
   "metadata": {},
   "outputs": [
    {
     "data": {
      "text/html": [
       "<div>\n",
       "<style scoped>\n",
       "    .dataframe tbody tr th:only-of-type {\n",
       "        vertical-align: middle;\n",
       "    }\n",
       "\n",
       "    .dataframe tbody tr th {\n",
       "        vertical-align: top;\n",
       "    }\n",
       "\n",
       "    .dataframe thead th {\n",
       "        text-align: right;\n",
       "    }\n",
       "</style>\n",
       "<table border=\"1\" class=\"dataframe\">\n",
       "  <thead>\n",
       "    <tr style=\"text-align: right;\">\n",
       "      <th></th>\n",
       "      <th>x</th>\n",
       "      <th>y</th>\n",
       "      <th>cluster</th>\n",
       "    </tr>\n",
       "  </thead>\n",
       "  <tbody>\n",
       "    <tr>\n",
       "      <th>0</th>\n",
       "      <td>-0.024033</td>\n",
       "      <td>-0.041793</td>\n",
       "      <td>0</td>\n",
       "    </tr>\n",
       "    <tr>\n",
       "      <th>1</th>\n",
       "      <td>-0.003464</td>\n",
       "      <td>0.030393</td>\n",
       "      <td>1</td>\n",
       "    </tr>\n",
       "    <tr>\n",
       "      <th>2</th>\n",
       "      <td>-0.003464</td>\n",
       "      <td>0.030393</td>\n",
       "      <td>1</td>\n",
       "    </tr>\n",
       "    <tr>\n",
       "      <th>3</th>\n",
       "      <td>0.075207</td>\n",
       "      <td>0.015623</td>\n",
       "      <td>2</td>\n",
       "    </tr>\n",
       "    <tr>\n",
       "      <th>4</th>\n",
       "      <td>0.002778</td>\n",
       "      <td>-0.046273</td>\n",
       "      <td>3</td>\n",
       "    </tr>\n",
       "    <tr>\n",
       "      <th>...</th>\n",
       "      <td>...</td>\n",
       "      <td>...</td>\n",
       "      <td>...</td>\n",
       "    </tr>\n",
       "    <tr>\n",
       "      <th>4447</th>\n",
       "      <td>-0.003464</td>\n",
       "      <td>0.030393</td>\n",
       "      <td>1</td>\n",
       "    </tr>\n",
       "    <tr>\n",
       "      <th>4448</th>\n",
       "      <td>-0.003464</td>\n",
       "      <td>0.030393</td>\n",
       "      <td>1</td>\n",
       "    </tr>\n",
       "    <tr>\n",
       "      <th>4449</th>\n",
       "      <td>-0.003464</td>\n",
       "      <td>0.030393</td>\n",
       "      <td>1</td>\n",
       "    </tr>\n",
       "    <tr>\n",
       "      <th>4450</th>\n",
       "      <td>-0.003464</td>\n",
       "      <td>0.030393</td>\n",
       "      <td>1</td>\n",
       "    </tr>\n",
       "    <tr>\n",
       "      <th>4451</th>\n",
       "      <td>-0.003464</td>\n",
       "      <td>0.030393</td>\n",
       "      <td>1</td>\n",
       "    </tr>\n",
       "  </tbody>\n",
       "</table>\n",
       "<p>4452 rows × 3 columns</p>\n",
       "</div>"
      ],
      "text/plain": [
       "             x         y  cluster\n",
       "0    -0.024033 -0.041793        0\n",
       "1    -0.003464  0.030393        1\n",
       "2    -0.003464  0.030393        1\n",
       "3     0.075207  0.015623        2\n",
       "4     0.002778 -0.046273        3\n",
       "...        ...       ...      ...\n",
       "4447 -0.003464  0.030393        1\n",
       "4448 -0.003464  0.030393        1\n",
       "4449 -0.003464  0.030393        1\n",
       "4450 -0.003464  0.030393        1\n",
       "4451 -0.003464  0.030393        1\n",
       "\n",
       "[4452 rows x 3 columns]"
      ]
     },
     "execution_count": 55,
     "metadata": {},
     "output_type": "execute_result"
    }
   ],
   "source": [
    "# Make Data into a Dataframe\n",
    "data_2d_df = pd.DataFrame(data=data_2d, columns = ['x','y'])\n",
    "data_2d_df['cluster'] = clusts['cluster']\n",
    "data_2d_df"
   ]
  },
  {
   "cell_type": "code",
   "execution_count": 64,
   "metadata": {},
   "outputs": [
    {
     "data": {
      "text/plain": [
       "<matplotlib.collections.PathCollection at 0x7f2c2df98d10>"
      ]
     },
     "execution_count": 64,
     "metadata": {},
     "output_type": "execute_result"
    },
    {
     "data": {
      "image/png": "[encoded data removed]",
      "text/plain": [
       "<Figure size 432x288 with 1 Axes>"
      ]
     },
     "metadata": {
      "needs_background": "light"
     },
     "output_type": "display_data"
    }
   ],
   "source": [
    "# Plotting the dbscan clusters (Fit pre-MDS)\n",
    "plt.scatter(data_2d_df['x']*1000,data_2d_df['y']*1000, c=data_2d_df['cluster'])"
   ]
  },
  {
   "cell_type": "code",
   "execution_count": 67,
   "metadata": {},
   "outputs": [
    {
     "name": "stdout",
     "output_type": "stream",
     "text": [
      "0.827408440097625\n"
     ]
    },
    {
     "data": {
      "text/plain": [
       "0      572\n",
       "1     1340\n",
       "2      610\n",
       "3      329\n",
       "4      232\n",
       "5      167\n",
       "6      153\n",
       "7      190\n",
       "8       77\n",
       "9       70\n",
       "10     273\n",
       "11     165\n",
       "12      56\n",
       "13      82\n",
       "14      80\n",
       "15      56\n",
       "Name: cluster, dtype: int64"
      ]
     },
     "execution_count": 67,
     "metadata": {},
     "output_type": "execute_result"
    }
   ],
   "source": [
    "data_2d_df.iloc[:,:2]\n",
    "kmeans = KMeans(n_clusters=16).fit(data_2d_df.iloc[:,:2])\n",
    "print(silhouette_score(clusterVals, kmeans.labels_))\n",
    "# Summarising how many observations belong to each cluster\n",
    "kClusts = pd.DataFrame(kmeans.labels_, columns=[\"cluster\"])\n",
    "kClusts['cluster'].value_counts().sort_index()"
   ]
  },
  {
   "cell_type": "code",
   "execution_count": 68,
   "metadata": {},
   "outputs": [
    {
     "data": {
      "text/plain": [
       "<matplotlib.collections.PathCollection at 0x7f2c2d12b250>"
      ]
     },
     "execution_count": 68,
     "metadata": {},
     "output_type": "execute_result"
    },
    {
     "data": {
      "image/png": "[encoded data removed]",
      "text/plain": [
       "<Figure size 432x288 with 1 Axes>"
      ]
     },
     "metadata": {
      "needs_background": "light"
     },
     "output_type": "display_data"
    }
   ],
   "source": [
    "# k-means clustering (fit post-MDS)\n",
    "plt.scatter(data_2d_df['x']*1000,data_2d_df['y']*1000, c=kClusts['cluster'])"
   ]
  },
  {
   "cell_type": "code",
   "execution_count": 70,
   "metadata": {},
   "outputs": [
    {
     "name": "stdout",
     "output_type": "stream",
     "text": [
      "[0 1 1 ... 1 1 1]\n",
      "<class 'numpy.ndarray'>\n",
      "0.9346832764984514\n"
     ]
    },
    {
     "data": {
      "text/plain": [
       "0      247\n",
       "1     1340\n",
       "2      329\n",
       "3      239\n",
       "4      610\n",
       "5       82\n",
       "6       61\n",
       "7      572\n",
       "8      151\n",
       "9      155\n",
       "10       2\n",
       "11     217\n",
       "12     232\n",
       "13      59\n",
       "14      34\n",
       "15      34\n",
       "16      37\n",
       "17      20\n",
       "18      11\n",
       "19      16\n",
       "20       4\n",
       "Name: cluster, dtype: int64"
      ]
     },
     "execution_count": 70,
     "metadata": {},
     "output_type": "execute_result"
    }
   ],
   "source": [
    "# Fitting the data with DBSCAN clustering\n",
    "db_clust = DBSCAN(eps=0.01, min_samples=2).fit(data_2d_df.iloc[:,:2])\n",
    "# Printing the cluster labels for each cluster\n",
    "print(db_clust.labels_)\n",
    "print(type(db_clust.labels_))\n",
    "print(silhouette_score(data_2d_df.iloc[:,:2], db_clust.labels_))\n",
    "dbClusts = pd.DataFrame(db_clust.labels_, columns=[\"cluster\"])\n",
    "dbClusts['cluster'].value_counts().sort_index()"
   ]
  },
  {
   "cell_type": "code",
   "execution_count": 71,
   "metadata": {},
   "outputs": [
    {
     "data": {
      "text/plain": [
       "<matplotlib.collections.PathCollection at 0x7f2c2e025e90>"
      ]
     },
     "execution_count": 71,
     "metadata": {},
     "output_type": "execute_result"
    },
    {
     "data": {
      "image/png": "[encoded data removed]",
      "text/plain": [
       "<Figure size 432x288 with 1 Axes>"
      ]
     },
     "metadata": {
      "needs_background": "light"
     },
     "output_type": "display_data"
    }
   ],
   "source": [
    "# DBSCAN Plot (fit post MDS)\n",
    "plt.scatter(data_2d_df['x']*1000,data_2d_df['y']*1000, c=dbClusts['cluster'])"
   ]
  },
  {
   "cell_type": "code",
   "execution_count": 82,
   "metadata": {},
   "outputs": [
    {
     "data": {
      "text/plain": [
       "<matplotlib.collections.PathCollection at 0x7f2c2e20f590>"
      ]
     },
     "execution_count": 82,
     "metadata": {},
     "output_type": "execute_result"
    },
    {
     "data": {
      "image/png": "[encoded data removed]",
      "text/plain": [
       "<Figure size 432x288 with 1 Axes>"
      ]
     },
     "metadata": {
      "needs_background": "light"
     },
     "output_type": "display_data"
    }
   ],
   "source": [
    "# HDBSCAN Plot (fit pre-MDS)\n",
    "plt.scatter(data_2d_df['x']*1000,data_2d_df['y']*1000, c=hdbClusts['cluster'])"
   ]
  },
  {
   "cell_type": "code",
   "execution_count": 84,
   "metadata": {},
   "outputs": [
    {
     "data": {
      "text/plain": [
       "(4452, 3)"
      ]
     },
     "execution_count": 84,
     "metadata": {},
     "output_type": "execute_result"
    }
   ],
   "source": [
    "# Scale the data down to 3 degrees\n",
    "scaler = MDS(n_components=3,dissimilarity='precomputed')\n",
    "data_3d = scaler.fit_transform(gow_dists)\n",
    "data_3d.shape"
   ]
  },
  {
   "cell_type": "code",
   "execution_count": 87,
   "metadata": {},
   "outputs": [
    {
     "data": {
      "text/html": [
       "<div>\n",
       "<style scoped>\n",
       "    .dataframe tbody tr th:only-of-type {\n",
       "        vertical-align: middle;\n",
       "    }\n",
       "\n",
       "    .dataframe tbody tr th {\n",
       "        vertical-align: top;\n",
       "    }\n",
       "\n",
       "    .dataframe thead th {\n",
       "        text-align: right;\n",
       "    }\n",
       "</style>\n",
       "<table border=\"1\" class=\"dataframe\">\n",
       "  <thead>\n",
       "    <tr style=\"text-align: right;\">\n",
       "      <th></th>\n",
       "      <th>x</th>\n",
       "      <th>y</th>\n",
       "      <th>z</th>\n",
       "    </tr>\n",
       "  </thead>\n",
       "  <tbody>\n",
       "    <tr>\n",
       "      <th>0</th>\n",
       "      <td>-0.002976</td>\n",
       "      <td>-0.010623</td>\n",
       "      <td>0.042916</td>\n",
       "    </tr>\n",
       "    <tr>\n",
       "      <th>1</th>\n",
       "      <td>-0.020873</td>\n",
       "      <td>-0.001612</td>\n",
       "      <td>-0.023568</td>\n",
       "    </tr>\n",
       "    <tr>\n",
       "      <th>2</th>\n",
       "      <td>-0.020873</td>\n",
       "      <td>-0.001612</td>\n",
       "      <td>-0.023568</td>\n",
       "    </tr>\n",
       "    <tr>\n",
       "      <th>3</th>\n",
       "      <td>0.050803</td>\n",
       "      <td>0.046177</td>\n",
       "      <td>-0.030700</td>\n",
       "    </tr>\n",
       "    <tr>\n",
       "      <th>4</th>\n",
       "      <td>0.024531</td>\n",
       "      <td>-0.025853</td>\n",
       "      <td>-0.024009</td>\n",
       "    </tr>\n",
       "    <tr>\n",
       "      <th>...</th>\n",
       "      <td>...</td>\n",
       "      <td>...</td>\n",
       "      <td>...</td>\n",
       "    </tr>\n",
       "    <tr>\n",
       "      <th>4447</th>\n",
       "      <td>-0.020873</td>\n",
       "      <td>-0.001612</td>\n",
       "      <td>-0.023568</td>\n",
       "    </tr>\n",
       "    <tr>\n",
       "      <th>4448</th>\n",
       "      <td>-0.020873</td>\n",
       "      <td>-0.001612</td>\n",
       "      <td>-0.023568</td>\n",
       "    </tr>\n",
       "    <tr>\n",
       "      <th>4449</th>\n",
       "      <td>-0.020873</td>\n",
       "      <td>-0.001612</td>\n",
       "      <td>-0.023568</td>\n",
       "    </tr>\n",
       "    <tr>\n",
       "      <th>4450</th>\n",
       "      <td>-0.020873</td>\n",
       "      <td>-0.001612</td>\n",
       "      <td>-0.023568</td>\n",
       "    </tr>\n",
       "    <tr>\n",
       "      <th>4451</th>\n",
       "      <td>-0.020873</td>\n",
       "      <td>-0.001612</td>\n",
       "      <td>-0.023568</td>\n",
       "    </tr>\n",
       "  </tbody>\n",
       "</table>\n",
       "<p>4452 rows × 3 columns</p>\n",
       "</div>"
      ],
      "text/plain": [
       "             x         y         z\n",
       "0    -0.002976 -0.010623  0.042916\n",
       "1    -0.020873 -0.001612 -0.023568\n",
       "2    -0.020873 -0.001612 -0.023568\n",
       "3     0.050803  0.046177 -0.030700\n",
       "4     0.024531 -0.025853 -0.024009\n",
       "...        ...       ...       ...\n",
       "4447 -0.020873 -0.001612 -0.023568\n",
       "4448 -0.020873 -0.001612 -0.023568\n",
       "4449 -0.020873 -0.001612 -0.023568\n",
       "4450 -0.020873 -0.001612 -0.023568\n",
       "4451 -0.020873 -0.001612 -0.023568\n",
       "\n",
       "[4452 rows x 3 columns]"
      ]
     },
     "execution_count": 87,
     "metadata": {},
     "output_type": "execute_result"
    }
   ],
   "source": [
    "# Make Data into a Dataframe\n",
    "data_3d_df = pd.DataFrame(data=data_3d, columns = ['x','y','z'])\n",
    "data_3d_df"
   ]
  },
  {
   "cell_type": "code",
   "execution_count": 94,
   "metadata": {},
   "outputs": [
    {
     "data": {
      "image/png": "[encoded data removed]",
      "text/plain": [
       "<Figure size 432x288 with 1 Axes>"
      ]
     },
     "metadata": {
      "needs_background": "light"
     },
     "output_type": "display_data"
    }
   ],
   "source": [
    "from mpl_toolkits.mplot3d import Axes3D\n",
    "import matplotlib.pyplot as plt\n",
    "\n",
    "fig = plt.figure()\n",
    "ax = fig.add_subplot(111, projection='3d')\n",
    "\n",
    "scaleUp = 1000\n",
    "\n",
    "x = data_3d_df['x']*scaleUp\n",
    "y = data_3d_df['y']*scaleUp\n",
    "z = data_3d_df['z']*scaleUp\n",
    "\n",
    "ax.scatter(x, y, z, c=dbClusts['cluster'], s=10)\n",
    "\n",
    "ax.set_xlabel('X Label')\n",
    "ax.set_ylabel('Y Label')\n",
    "ax.set_zlabel('Z Label')\n",
    "\n",
    "plt.show()"
   ]
  }
 ],
 "metadata": {
  "kernelspec": {
   "display_name": "Python 3",
   "language": "python",
   "name": "python3"
  },
  "language_info": {
   "codemirror_mode": {
    "name": "ipython",
    "version": 3
   },
   "file_extension": ".py",
   "mimetype": "text/x-python",
   "name": "python",
   "nbconvert_exporter": "python",
   "pygments_lexer": "ipython3",
   "version": "3.7.6"
  }
 },
 "nbformat": 4,
 "nbformat_minor": 4
}
