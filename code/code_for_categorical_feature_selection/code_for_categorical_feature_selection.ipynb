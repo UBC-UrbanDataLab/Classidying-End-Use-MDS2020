{
 "cells": [
  {
   "cell_type": "markdown",
   "metadata": {},
   "source": [
    "## IMPORT TRAINING DATA AND FIX UOM "
   ]
  },
  {
   "cell_type": "code",
   "execution_count": 17,
   "metadata": {},
   "outputs": [],
   "source": [
    "import pandas as pd\n",
    "# loading NRCan classifications\n",
    "training=pd.read_csv('/users/evanguyen/data-599-capstone-ubc-urban-data-lab/data/PharmacyEnergyConsumption-secondtry - PharmacyEnergyConsumption-secondtry.csv')\n",
    "# making uniqueID \n",
    "training['siteRef']='Pharmacy'\n",
    "training['uniqueId']=training['equipRef'].fillna('')+' '+training['groupRef'].fillna('')+' '+training['navName'].fillna('')+' '+training['siteRef'].fillna('')+' '+training['typeRef'].fillna('')\n",
    "# need to rename column to use in fix_units_incons function below\n",
    "training.rename(columns={'UBC_EWS.firstValue':'firstValue'}, inplace=True)"
   ]
  },
  {
   "cell_type": "code",
   "execution_count": 18,
   "metadata": {},
   "outputs": [],
   "source": [
    "################### CODE TO FIX INCONSISTENT DATA ####################\n",
    "# creating a function to fix units \n",
    "def fix_units_incons(nav, equip, val, u, typeref):\n",
    "    # rows 2-4 on Connor's csv\n",
    "    if nav.find('ALRM')!=-1 and (float(val)==1 or float(val)==0):\n",
    "        return \"omit\"\n",
    "    # rows 5-7, 40-42, 51-53 on Connor's csv\n",
    "    elif nav.find('Enable Cmd')!=-1 and (float(val)==1 or float(val)==0):\n",
    "        return \"omit\"\n",
    "    # rows 8-13 on Connor's csv\n",
    "    elif nav.find('Outside Air Damper')!=-1 and (float(val)==1 or float(val)==0):\n",
    "        return \"omit\"\n",
    "    # rows 14-15 on Connor's csv \n",
    "    elif (nav=='Hot Water Flow') and (u=='°C'):\n",
    "        return \"gal/min\"\n",
    "    # rows 16-19 on Connor's csv \n",
    "    elif (nav=='ESB_CHIL1_PCE01_CHWFLW' or nav=='ESB_CHIL2_PCE02_CHWFLW') and (u=='°C'):\n",
    "        return \"gal/min\"\n",
    "    # rows 22-23, 64-65, 74-97, 104-115 on Connor's csv\n",
    "    elif (val=='True'):\n",
    "        return \"omit\"\n",
    "    # rows 24-31 on Connor's csv\n",
    "    elif (nav=='Valve Feedback') and (u=='_'):\n",
    "        return '%'\n",
    "    # rows 32-33, 54-55 on Connor's csv\n",
    "    elif nav=='Exhaust Air Duct Static Pressure' and (u=='°C' or u=='ft/min'):\n",
    "        return \"Pa\"\n",
    "    # rows 43-33 on Connor's csv\n",
    "    elif nav.find('Speed')!=-1 and (u=='°C'):\n",
    "        return \"%\"\n",
    "    # rows 56-63 on Connor's csv\n",
    "    elif nav.find('JCL-NAE43/FCB-01.FEC-50.BLDG')!=-1 and (u=='Pa'):\n",
    "        return \"°C\"\n",
    "    # rows 66-67, 70-73 on Connor's csv\n",
    "    elif (nav=='Heating Valve Cmd') and (u=='_' or u=='A'):\n",
    "        return \"%\"\n",
    "    # rows 68-69 on Connor's csv\n",
    "    elif nav.find('Discharge Air Damper')!=-1 and (u=='_'):\n",
    "        return \"%\"\n",
    "    # rows 98-103, 124-135 on Connor's csv\n",
    "    elif nav.find('Flow Alarm')!=-1 and (u=='%' or u=='_' or u=='L/s'):\n",
    "        return \"omit\"\n",
    "    # rows 116-123 on Connor's csv\n",
    "    elif nav=='Exhaust Air Flow' and (u=='°C'):\n",
    "        return \"L/s\"\n",
    "    # rows 136-171, 184-291 on Connor's csv \n",
    "    elif nav.find('Water Temp') and (u=='%'):\n",
    "        return \"°C\"\n",
    "    # rows 172-183 on Connor's csv\n",
    "    elif nav.find('ESB_TMX')!=-1 and equip.find('Thermanex Header')!=-1 and u=='%':\n",
    "        return \"°C\"\n",
    "    # rows 220-221 on Connor's csv\n",
    "    elif nav.find('Outside Air Temp')!=-1 and equip.find('Thermanex Header')!=-1 and u=='%':\n",
    "        return \"°C\"\n",
    "    ##### unsure rows ######\n",
    "    # rows 20-21 on Connor's csv\n",
    "    elif nav.find('JCL-NAE29/BACnet-IP.FOL-MHP4.Analog Values.AV-1002')!=-1 and u=='_':\n",
    "        return \"°C\"\n",
    "    # rows 34-50 on Connor's csv\n",
    "    elif nav.find('ISOD')!=-1 and equip.find('LEF-4 EF-4')!=-1 and (u=='_' or u=='°C'):\n",
    "        return \"omit\"\n",
    "    # changing all '_' of kWh typeRefs  to kWh from Alex's training data\n",
    "    elif u.find('_')!=-1 and typeref.find('kWh')!=-1:\n",
    "        return \"kWh\"\n",
    "    # changing all '_' units to 'omit' to standardize unknowns from Alex's training data\n",
    "    elif u.find('_')!=-1:\n",
    "        return \"omit\"\n",
    "    else:\n",
    "        return u\n",
    "\n",
    "mod_units=training.apply(lambda x: fix_units_incons(x.navName, x.equipRef, x.firstValue, x.unit, x.typeRef), axis=1)\n",
    "\n",
    "# inserting new units as a new column\n",
    "training.insert(6,\"mod_units\", mod_units)"
   ]
  },
  {
   "cell_type": "code",
   "execution_count": 19,
   "metadata": {},
   "outputs": [],
   "source": [
    "# overwrite unit column with fixed_uoms\n",
    "training['unit']=training['mod_units']"
   ]
  },
  {
   "cell_type": "code",
   "execution_count": 20,
   "metadata": {
    "scrolled": true
   },
   "outputs": [],
   "source": [
    "# drop unncessary columns in order to drop duplicate rows\n",
    "training=training.drop(['Alex-Comments', 'UBC_EWS.numReadings', 'time','firstValue','UBC_EWS.lastValue'], axis=1)\n",
    "# can change ? to 0 since uom fixed \n",
    "training['isGas']=training.isGas.apply(lambda x: '0' if x=='?' else x)\n",
    "# changing boolean for more descriptive encoding \n",
    "training['isGas']=training.isGas.apply(lambda x: 'no_gas' if x=='0' else 'yes_gas')\n",
    "training=training.drop_duplicates()"
   ]
  },
  {
   "cell_type": "markdown",
   "metadata": {},
   "source": [
    "## IMPORT METADATA"
   ]
  },
  {
   "cell_type": "code",

   "execution_count": 21,

   "metadata": {},
   "outputs": [
    {
     "name": "stderr",
     "output_type": "stream",
     "text": [
      "/opt/anaconda3/lib/python3.7/site-packages/IPython/core/interactiveshell.py:3063: DtypeWarning: Columns (2,54,81,118,133,140,149) have mixed types.Specify dtype option on import or set low_memory=False.\n",
      "  interactivity=interactivity, compiler=compiler, result=result)\n"
     ]
    }
   ],
   "source": [
    "############### METADATA CLEANING ##############\n",
    "metadata=pd.read_csv('/users/evanguyen/data-599-capstone-ubc-urban-data-lab/data/PharmacyQuery.csv')\n",
    "##### Removing @UUID for now \n",
    "metadata['equipRef']=metadata['equipRef'].str.extract('[^ ]* (.*)', expand=True)\n",
    "metadata['groupRef']=metadata['groupRef'].str.extract('[^ ]* (.*)', expand=True)\n",
    "metadata['siteRef']=metadata['siteRef'].str.extract('[^ ]* (.*)', expand=True)\n",
    "metadata['connRef']=metadata['connRef'].str.extract('[^ ]* (.*)', expand=True)\n",
    "\n",
    "#### Making uniqueID \n",
    "metadata['uniqueId']=metadata['equipRef'].fillna('')+' '+metadata['groupRef'].fillna('')+' '+metadata['navName'].fillna('')+' '+metadata['siteRef'].fillna('')+' '+metadata['bmsName'].fillna('')\n",
    "#### Dropping duplicate uniqueIDs based on most recent lastSynced\n",
    "metadata=metadata.sort_values('lastSynced').drop_duplicates('uniqueId',keep='last')\n",
    "### Choosing relevant fields\n",
    "metadata=metadata[['uniqueId', 'connRef', 'kind', 'energy','power', 'sensor', 'unit', 'water']]\n",
    "### Changing boolean to easily identify during encoding process\n",
    "metadata['energy']=metadata['energy'].apply(lambda x: 'yes_energy' if x=='✓' else 'no_energy')\n",
    "metadata['power']=metadata['power'].apply(lambda x: 'yes_power' if x=='✓' else 'no_power')\n",
    "metadata['sensor']=metadata['sensor'].apply(lambda x: 'yes_sensor' if x=='✓' else 'no_sensor')\n",
    "metadata['water']=metadata['water'].apply(lambda x: 'yes_water' if x=='✓' else 'no_water')\n",
    "metadata['unit']=metadata['unit'].apply(lambda x: 'omit' if x=='_' else x)"
   ]
  },
  {
   "cell_type": "code",
   "execution_count": 22,
   "metadata": {},
   "outputs": [],
   "source": [
    "######## Removing the word Pharmacy from uniqueID\n",
    "######## Removing Pharmacy from groupRef\n",
    "metadata['uniqueId']=metadata['uniqueId'].map(lambda x: x.replace('Pharmacy ', ''))\n",
    "training['uniqueId']=training['uniqueId'].map(lambda x: x.replace('Pharmacy ', ''))\n",
    "training['groupRef']=training['groupRef'].map(lambda x: x.replace('Pharmacy ', ''))"
   ]
  },
  {
   "cell_type": "markdown",
   "metadata": {},
   "source": [
    "## MERGE METADATA AND TRAINING DATA"
   ]
  },
  {
   "cell_type": "code",

   "execution_count": 23,

   "metadata": {},
   "outputs": [],
   "source": [
    "merged_left=pd.merge(left=training, right=metadata, how='left', left_on='uniqueId', right_on='uniqueId')"
   ]
  },
  {
   "cell_type": "markdown",
   "metadata": {},
   "source": [
    "## MAKE CATEGORIES INTO SMALLER GROUPS"
   ]
  },
  {
   "cell_type": "code",
   "execution_count": 24,
   "metadata": {},
   "outputs": [],
   "source": [
    "########## GROUPING EQUIPREF AND NAVNAME INTO SMALLER CATEGORICAL LEVELS #############\n",
    "def equip_label(equip):\n",
    "    if equip.find('Cooling')!=-1:\n",
    "        return 'Cooling'\n",
    "    elif equip.find('AHU')!=-1:\n",
    "        return 'Air_Equip'\n",
    "    elif equip.find('Windows')!=-1:\n",
    "        return 'Window'\n",
    "    elif equip.find('VAV')!=-1:\n",
    "        return 'VAV'   \n",
    "    elif equip.find('Heating')!=-1:\n",
    "        return 'Heating'\n",
    "    elif equip.find('RAD')!=-1:\n",
    "        return 'RAD'\n",
    "    elif equip.find('EF')!=-1:\n",
    "        return 'Air_Equip'\n",
    "    elif equip.find('LEF')!=-1:\n",
    "        return 'LEF'\n",
    "    elif equip.find('FF')!=-1:\n",
    "        return 'Fan_Equip'\n",
    "    elif equip.find('FM')!=-1:\n",
    "        return 'Air_Equip'\n",
    "    elif equip.find('EAV')!=-1:\n",
    "        return 'EAV'\n",
    "    elif equip.find('PA')!=-1:\n",
    "        return 'OPC(TV)'\n",
    "    elif equip.find('PB')!=-1:\n",
    "        return 'OPC(TV)'\n",
    "    elif equip.find('FC')!=-1:\n",
    "        return 'Fan_Equip'\n",
    "    elif equip.find('CRAH')!=-1:\n",
    "        return 'Air_Equip'\n",
    "    elif equip.find('LEED')!=-1:\n",
    "        return 'LEED'\n",
    "    elif equip.find('Zone')!=-1:\n",
    "        return 'Humidity'\n",
    "    elif equip.find('WM')!=-1:\n",
    "        return 'Water' \n",
    "    elif equip.find('Gas')!=-1:\n",
    "        return 'Gas' \n",
    "    elif equip.find('DCB')!=-1:\n",
    "        return 'Power' \n",
    "    elif equip.find('DCA')!=-1:\n",
    "        return 'Power'\n",
    "    else: \n",
    "        return \"NEED TO LABEL\"\n",
    "merged_left['equipNew']=merged_left.equipRef.apply(lambda x: equip_label(x))\n"
   ]
  },
  {
   "cell_type": "code",
   "execution_count": 25,
   "metadata": {
    "scrolled": true
   },
   "outputs": [],
   "source": [
    "def nav_label(nav):\n",
    "    if nav.lower().find('alarm')!=-1:\n",
    "        return 'Alarm' \n",
    "    elif nav.lower().find('temp')!=-1 or nav.lower().find('lwt')!=-1 or nav.lower().find('ewt')!=-1 or nav.lower().find('humidity')!=-1:\n",
    "        #leaving and entering water temperature # humidity sensors measures moisture&air temps\n",
    "        return 'Temp'\n",
    "    elif nav.lower().find('water')!=-1 or nav.lower().find('_cw')!=-1 or nav.lower().find('chw')!=-1 or nav.find('SB1_2_FWT_T')!=-1 or nav.lower().find('lwco')!=-1: \n",
    "        # I think FW = Feed Water # CW = Condenser Water # CHW = Chilled Water metrics # LWCO = low water cut off\n",
    "        return 'Water'\n",
    "    elif nav.lower().find('air')!=-1 or nav.lower().find('ach')!=-1 or nav.lower().find('ahu')!=-1 or nav.lower().find('inlet')!=-1:\n",
    "        # AHU = Air Handling Unit # ACH = Air Changes per Hour # Inlet Air Temperature sensor\n",
    "        return 'Air'\n",
    "    elif nav.lower().find('press')!=-1 or nav.lower().find('_dp')!=-1: # DP = differential pressure \n",
    "        return 'Pressure'\n",
    "    elif nav.lower().find('heat')!=-1 or nav.lower().find('hrv')!=-1 or nav.lower().find('_rh')!=-1: # HRV = heat recovery ventilator # RH = Reheat\n",
    "        return 'Heat'\n",
    "    elif nav.lower().find('fire_rate')!=-1 or nav.lower().find('firing_rate')!=-1:\n",
    "        return 'Fire Rate'\n",
    "    elif nav.lower().find('power')!=-1 or nav.lower().find('voltage')!=-1 or nav.lower().find('vfd')!=-1: # VFD = variable frequency drive\n",
    "        return 'Power'\n",
    "    elif nav.lower().find('energy')!=-1 or nav.lower().find('curr')!=-1 or nav.lower().find('btu')!=-1 or nav.find('kW')!=-1: # eletrical current\n",
    "        return 'Energy'\n",
    "    elif nav.lower().find('fan')!=-1 or nav.lower().find('fcu')!=-1 or (nav.lower().find('ef')!=-1 and  nav.lower().find('efficiency')==-1): # FCU = fan coil unit # EF = exhaust fan\n",
    "        return 'Fan'\n",
    "    elif nav.find('Instant_Power')!=-1:\n",
    "        return 'Instant_Power'\n",
    "    elif nav.lower().find('open_percent')!=-1 or nav.lower().find('occupancy')!=-1:\n",
    "        return 'Occupancy'\n",
    "    elif nav.lower().find('feedback')!=-1 or nav.lower().find('demand')!=-1: # demand controlled ventilation\n",
    "        return 'Feedback'\n",
    "    elif nav.find('CO2')!=-1:\n",
    "        return 'CO2'    \n",
    "    elif nav.lower().find('power')!=-1:\n",
    "        return 'Power'   \n",
    "    elif nav.lower().find('cool')!=-1 or nav.lower().find('_ct_')!=-1: # CT = cooling tower\n",
    "        return 'Cooling'   \n",
    "    elif nav.lower().find('speed')!=-1:\n",
    "        return 'Speed'  \n",
    "    elif nav.lower().find('pump')!=-1:\n",
    "        return 'Pump'  \n",
    "    elif nav.lower().find('_tl')!=-1:\n",
    "        return '_TL'  \n",
    "    elif nav.lower().find('_aflw')!=-1:\n",
    "        return '_AFLW'  \n",
    "    elif nav.lower().find('_sp')!=-1:\n",
    "        return '_SP/_SPT'  \n",
    "    elif nav.lower().find('cmd')!=-1:\n",
    "        return 'Cmd'  \n",
    "    elif nav.lower().find('_day')!=-1:\n",
    "        return '_DAY'  \n",
    "    elif nav.lower().find('_av')!=-1:\n",
    "        return '_AV'  \n",
    "    elif nav.lower().find('_bms')!=-1:\n",
    "        return '_BMS'  \n",
    "    elif nav.lower().find('status')!=-1:\n",
    "        return '_Status'  \n",
    "    elif nav.lower().find('rwt')!=-1:\n",
    "        return '_RWT'  \n",
    "    elif nav.lower().find('_open')!=-1:\n",
    "        return '_OPEN'  \n",
    "    elif nav.lower().find('wifi')!=-1:\n",
    "        return 'Wifi'  \n",
    "    elif nav.lower().find('operation')!=-1:\n",
    "        return 'Operation'  \n",
    "    elif nav.lower().find('pres')!=-1:\n",
    "        return '_PRES'  \n",
    "    elif nav.lower().find('_efficiency')!=-1:\n",
    "        return '_EFFICIENCY'  \n",
    "    elif nav.lower().find('_flow')!=-1:\n",
    "        return '_FLOW'  \n",
    "    elif nav.lower().find('_delay')!=-1:\n",
    "        return '_DELAY'  \n",
    "    elif nav.lower().find('_clg')!=-1:\n",
    "        return '_CLG'  \n",
    "    elif nav.lower().find('bs050')!=-1:\n",
    "        return 'BS050'  \n",
    "    elif nav.lower().find('fdbk')!=-1:\n",
    "        return '_FDBK'  \n",
    "    else: \n",
    "        return \"LOWER FREQUENCY UNKNOWNS\"\n",
    "\n",
    "merged_left['navNew']=merged_left.navName.apply(lambda x: nav_label(x))"
   ]
  },
  {
   "cell_type": "markdown",
   "metadata": {},
   "source": [
    "## CHOOSE RELEVANT FIELDS IN MERGED DATA SET"
   ]
  },
  {

   "cell_type": "code",
   "execution_count": 26,
   "metadata": {
    "scrolled": false
   },
   "outputs": [],
   "source": [
    "###### renaming unit columns to reflect data source \n",
    "merged_left.rename(columns={'mod_units':'influxDB_units'}, inplace=True)\n",
    "merged_left.rename(columns={'unit_y':'metadata_units'}, inplace=True)\n",
    "##### selecting relevant fields \n",
    "#### decided to remove metadata_units because it matches with influxDB_units OR it is showing nan due to unmerged obs\n",
    "merged_left=merged_left[['groupRef', 'influxDB_units', 'isGas', 'kind', 'energy','power', 'sensor', 'water', 'equipNew', 'navNew', 'ALEX-NRCanLabelGuess']]\n"
   ]
  },
  {
   "cell_type": "markdown",
   "metadata": {},
   "source": [
    "## FILTER OUT NC LABELS"
   ]
  },
  {
   "cell_type": "code",
   "execution_count": 27,
   "metadata": {},
   "outputs": [],
   "source": [
    "merged_left=merged_left[merged_left[\"ALEX-NRCanLabelGuess\"]!='0_NOT_ENERGY_CONSUMPTION']"
   ]
  },
  {
   "cell_type": "code",
   "execution_count": 28,
   "metadata": {},
   "outputs": [],
   "source": [
    "# merged_left.to_csv(\"mergeddata.csv\")"
   ]
  },
  {
   "cell_type": "markdown",
   "metadata": {},
   "source": [
    "## FEATURE SELECTION TESTING WITH CHI-SQUARED"
   ]
  },
  {
   "cell_type": "code",
   "execution_count": 29,
   "metadata": {},
   "outputs": [
    {
     "name": "stdout",
     "output_type": "stream",
     "text": [
      "BEST FEATURES WITH CHI-SQUARED:\n"
     ]
    },
    {
     "data": {
      "text/plain": [
       "array(['x0_Air Systems', 'x0_Hydronic Systems', 'x0_Utilities', 'x1_kW',\n",
       "       'x1_m³', 'x2_yes_gas', 'x4_no_energy', 'x4_yes_energy',\n",
       "       'x6_no_sensor', 'x6_yes_sensor', 'x8_Air_Equip', 'x8_Cooling',\n",
       "       'x8_Heating', 'x8_LEED', 'x9__FLOW'], dtype='<U19')"
      ]
     },
     "execution_count": 29,
     "metadata": {},
     "output_type": "execute_result"
    }
   ],
   "source": [
    "#### Load libraries \n",
    "import pandas as pd\n",
    "import numpy as np\n",
    "from sklearn.feature_selection import SelectKBest \n",
    "from sklearn.feature_selection import chi2 \n",
    "from sklearn.model_selection import train_test_split\n",
    "from sklearn.preprocessing import LabelEncoder\n",
    "from sklearn.preprocessing import OneHotEncoder\n",
    "from matplotlib import pyplot\n",
    "\n",
    "#### Split data into training and test data\n",
    "dataset = merged_left.values\n",
    "X = dataset[:, :-1]\n",
    "y = dataset[:,-1]\n",
    "X=X.astype(str)\n",
    "X_train, X_test, y_train, y_test = train_test_split(X, y, test_size=0.33, random_state=1)\n",
    "\n",
    "#### Encode categorical data\n",
    "oe = OneHotEncoder(handle_unknown='ignore')\n",
    "oe.fit(X_train)\n",
    "X_train_enc = oe.transform(X_train)\n",
    "X_test_enc = oe.transform(X_test)\n",
    "\n",
    "le = LabelEncoder()\n",
    "le.fit(y_train)\n",
    "y_train_enc = le.transform(y_train)\n",
    "y_test_enc = le.transform(y_test)\n",
    "\n",
    "  \n",
    "#### Chi-Squared feature selection using SelectKBest \n",
    "#### Chose k=15 from cross-validation spike, do not feel comfortable choosing k=3\n",
    "chi2_features = SelectKBest(chi2, k = 15) \n",
    "X_kbest_features = chi2_features.fit_transform(X_train_enc, y_train_enc)   \n",
    "    \n",
    "feature_names=oe.get_feature_names()\n",
    "\n",
    "chi2_features.get_support(indices=True)\n",
    "\n",
    "\n",
    "feature_names = [feature_names[i] for i in chi2_features.get_support(indices=True)]\n",
    " \n",
    "if feature_names:\n",
    "    feature_names = np.asarray(feature_names)\n",
    "\n",
    "print(\"BEST FEATURES WITH CHI-SQUARED:\")\n",
    "feature_names"
   ]
  },
  {
   "cell_type": "markdown",
   "metadata": {},
   "source": [
    "## CROSS VALIDATION TO CHOOSE K"
   ]
  },
  {
   "cell_type": "code",
   "execution_count": 30,
   "metadata": {
    "scrolled": false
   },
   "outputs": [],
   "source": [
    "###### renaming unit columns to reflect data source \n",
    "merged_left.rename(columns={'mod_units':'influxDB_units'}, inplace=True)\n",
    "merged_left.rename(columns={'unit_y':'metadata_units'}, inplace=True)\n",
    "##### selecting relevant fields \n",
    "#### decided to remove metadata_units because it matches with influxDB_units OR it is showing nan due to unmerged obs\n",
    "merged_left=merged_left[['groupRef', 'influxDB_units', 'isGas', 'kind', 'energy','power', 'sensor', 'water', 'equipNew', 'navNew', 'ALEX-NRCanLabelGuess']]\n"
   ]
  },
  {
   "cell_type": "markdown",
   "metadata": {},
   "source": [
    "## FILTER OUT NC LABELS"
   ]
  },
  {
   "cell_type": "code",
   "execution_count": 123,
   "metadata": {},
   "outputs": [],
   "source": [
    "merged_left=merged_left[merged_left[\"ALEX-NRCanLabelGuess\"]!='0_NOT_ENERGY_CONSUMPTION']"
   ]
  },
  {
   "cell_type": "code",
   "execution_count": 94,
   "metadata": {},
   "outputs": [],
   "source": [
    "# merged_left.to_csv(\"mergeddata.csv\")"
   ]
  },
  {
   "cell_type": "markdown",
   "metadata": {},
   "source": [
    "## FEATURE SELECTION TESTING WITH CROSS VALIDATION AND CHI-SQUARED"
   ]
  },
  {
   "cell_type": "code",
   "execution_count": 125,
   "metadata": {},
   "outputs": [
    {
     "name": "stdout",
     "output_type": "stream",
     "text": [
      "Optimal number of features : 3\n"
     ]
    },
    {
     "data": {
      "image/png": "[encoded data removed]",
      "text/plain": [
       "<Figure size 432x288 with 1 Axes>"
      ]
     },
     "metadata": {
      "needs_background": "light"
     },
     "output_type": "display_data"
    }
   ],
   "source": [
    "import matplotlib.pyplot as plt\n",
    "from sklearn.svm import SVC\n",
    "from sklearn.model_selection import StratifiedKFold\n",
    "from sklearn.feature_selection import RFECV\n",
    "from sklearn.datasets import make_classification\n",
    "\n",
    "# Create the RFE object and compute a cross-validated score.\n",
    "svc = SVC(kernel=\"linear\")\n",
    "# The \"accuracy\" scoring is proportional to the number of correct\n",
    "# classifications\n",
    "rfecv = RFECV(estimator=svc, step=1, cv=StratifiedKFold(2),\n",
    "              scoring='accuracy')\n",
    "rfecv.fit(X_train_enc, y_train_enc)\n",
    "\n",
    "print(\"Optimal number of features : %d\" % rfecv.n_features_)\n",
    "\n",
    "# Plot number of features VS. cross-validation scores\n",
    "plt.figure()\n",
    "plt.xlabel(\"Number of features selected\")\n",
    "plt.ylabel(\"Cross validation score (nb of correct classifications)\")\n",
    "plt.plot(range(1, len(rfecv.grid_scores_) + 1), rfecv.grid_scores_)\n",
    "plt.show()"
   ]
  },
  {
   "cell_type": "markdown",
   "metadata": {},
   "source": [
    "## FEATURE SELECTION WITH MUTUAL INFORMATION "
   ]
  },
  {
   "cell_type": "code",
   "execution_count": 35,
   "metadata": {},
   "outputs": [
    {
     "name": "stdout",
     "output_type": "stream",
     "text": [
      "BEST FEATURES WITH MUTUAL INFORMATION:\n"
     ]
    },
    {
     "data": {
      "text/plain": [
       "array(['x0_Air Systems', 'x0_Hydronic Systems', 'x0_Utilities', 'x1_kWh',\n",
       "       'x2_yes_gas', 'x4_no_energy', 'x4_yes_energy', 'x6_no_sensor',\n",
       "       'x6_yes_sensor', 'x8_Air_Equip', 'x8_Cooling', 'x8_Heating',\n",
       "       'x8_LEED', 'x8_OPC(TV)', 'x9_Energy'], dtype='<U19')"
      ]
     },
     "execution_count": 35,
     "metadata": {},
     "output_type": "execute_result"
    }
   ],
   "source": [
    "# evaluation of a model fit using mutual information input features\n",
    "from pandas import read_csv\n",
    "from sklearn.preprocessing import LabelEncoder\n",
    "from sklearn.preprocessing import OneHotEncoder\n",
    "from sklearn.feature_selection import SelectKBest\n",
    "from sklearn.feature_selection import mutual_info_classif\n",
    "from sklearn.model_selection import train_test_split\n",
    "from sklearn.linear_model import LogisticRegression\n",
    "from sklearn.metrics import accuracy_score\n",
    "\n",
    "#### Split data into training and test data\n",
    "dataset = merged_left.values\n",
    "X = dataset[:, :-1]\n",
    "y = dataset[:,-1]\n",
    "X=X.astype(str)\n",
    "X_train, X_test, y_train, y_test = train_test_split(X, y, test_size=0.33, random_state=1)\n",
    "\n",
    "#### Encode categorical data\n",
    "oe = OneHotEncoder(handle_unknown='ignore')\n",
    "oe.fit(X_train)\n",
    "X_train_enc = oe.transform(X_train)\n",
    "X_test_enc = oe.transform(X_test)\n",
    "\n",
    "le = LabelEncoder()\n",
    "le.fit(y_train)\n",
    "y_train_enc = le.transform(y_train)\n",
    "y_test_enc = le.transform(y_test)\n",
    " \n",
    "#### Mutual Information feature selection using SelectKBest\n",
    "#### Chose k=15 from cross-validation spike, do not feel comfortable choosing k=3\n",
    "fs = SelectKBest(score_func=mutual_info_classif, k=15)\n",
    "fs.fit(X_train_enc, y_train_enc)\n",
    "X_train_fs = fs.transform(X_train_enc)\n",
    "X_test_fs = fs.transform(X_test_enc)\n",
    "\n",
    "feature_names=oe.get_feature_names()\n",
    "\n",
    "fs.get_support(indices=True)\n",
    "\n",
    "\n",
    "feature_names = [feature_names[i] for i in fs.get_support(indices=True)]\n",
    " \n",
    "if feature_names:\n",
    "    feature_names = np.asarray(feature_names)\n",
    "    \n",
    "#### CHOOSING MUTUAL INFORMATION BECAUSE IT DOESN'T CHANGE FEATURES \n",
    "# WITH EACH RUN LIKE CHI-SQUARED DOES\n",
    "print(\"BEST FEATURES WITH MUTUAL INFORMATION:\")\n",
    "feature_names"
   ]
  },
  {
   "cell_type": "code",
   "execution_count": 34,
   "metadata": {},
   "outputs": [
    {
     "data": {
      "text/html": [
       "<div>\n",
       "<style scoped>\n",
       "    .dataframe tbody tr th:only-of-type {\n",
       "        vertical-align: middle;\n",
       "    }\n",
       "\n",
       "    .dataframe tbody tr th {\n",
       "        vertical-align: top;\n",
       "    }\n",
       "\n",
       "    .dataframe thead th {\n",
       "        text-align: right;\n",
       "    }\n",
       "</style>\n",
       "<table border=\"1\" class=\"dataframe\">\n",
       "  <thead>\n",
       "    <tr style=\"text-align: right;\">\n",
       "      <th></th>\n",
       "      <th>groupRef</th>\n",
       "      <th>influxDB_units</th>\n",
       "      <th>isGas</th>\n",
       "      <th>kind</th>\n",
       "      <th>energy</th>\n",
       "      <th>power</th>\n",
       "      <th>sensor</th>\n",
       "      <th>water</th>\n",
       "      <th>equipNew</th>\n",
       "      <th>navNew</th>\n",
       "      <th>ALEX-NRCanLabelGuess</th>\n",
       "    </tr>\n",
       "  </thead>\n",
       "  <tbody>\n",
       "    <tr>\n",
       "      <th>364</th>\n",
       "      <td>Air Systems</td>\n",
       "      <td>kWh</td>\n",
       "      <td>no_gas</td>\n",
       "      <td>NaN</td>\n",
       "      <td>NaN</td>\n",
       "      <td>NaN</td>\n",
       "      <td>NaN</td>\n",
       "      <td>NaN</td>\n",
       "      <td>Air_Equip</td>\n",
       "      <td>Energy</td>\n",
       "      <td>4_Auxillary_Motors</td>\n",
       "    </tr>\n",
       "    <tr>\n",
       "      <th>365</th>\n",
       "      <td>Hydronic Systems</td>\n",
       "      <td>kWh</td>\n",
       "      <td>no_gas</td>\n",
       "      <td>Number</td>\n",
       "      <td>yes_energy</td>\n",
       "      <td>no_power</td>\n",
       "      <td>yes_sensor</td>\n",
       "      <td>no_water</td>\n",
       "      <td>Cooling</td>\n",
       "      <td>Energy</td>\n",
       "      <td>6_Space_Cooling</td>\n",
       "    </tr>\n",
       "    <tr>\n",
       "      <th>366</th>\n",
       "      <td>Hydronic Systems</td>\n",
       "      <td>kWh</td>\n",
       "      <td>no_gas</td>\n",
       "      <td>Number</td>\n",
       "      <td>yes_energy</td>\n",
       "      <td>no_power</td>\n",
       "      <td>yes_sensor</td>\n",
       "      <td>no_water</td>\n",
       "      <td>Cooling</td>\n",
       "      <td>Energy</td>\n",
       "      <td>6_Space_Cooling</td>\n",
       "    </tr>\n",
       "    <tr>\n",
       "      <th>367</th>\n",
       "      <td>Hydronic Systems</td>\n",
       "      <td>kWh</td>\n",
       "      <td>no_gas</td>\n",
       "      <td>Number</td>\n",
       "      <td>yes_energy</td>\n",
       "      <td>no_power</td>\n",
       "      <td>yes_sensor</td>\n",
       "      <td>no_water</td>\n",
       "      <td>Cooling</td>\n",
       "      <td>Energy</td>\n",
       "      <td>6_Space_Cooling</td>\n",
       "    </tr>\n",
       "  </tbody>\n",
       "</table>\n",
       "</div>"
      ],
      "text/plain": [
       "             groupRef influxDB_units   isGas    kind      energy     power  \\\n",
       "364       Air Systems            kWh  no_gas     NaN         NaN       NaN   \n",
       "365  Hydronic Systems            kWh  no_gas  Number  yes_energy  no_power   \n",
       "366  Hydronic Systems            kWh  no_gas  Number  yes_energy  no_power   \n",
       "367  Hydronic Systems            kWh  no_gas  Number  yes_energy  no_power   \n",
       "\n",
       "         sensor     water   equipNew  navNew ALEX-NRCanLabelGuess  \n",
       "364         NaN       NaN  Air_Equip  Energy   4_Auxillary_Motors  \n",
       "365  yes_sensor  no_water    Cooling  Energy      6_Space_Cooling  \n",
       "366  yes_sensor  no_water    Cooling  Energy      6_Space_Cooling  \n",
       "367  yes_sensor  no_water    Cooling  Energy      6_Space_Cooling  "
      ]
     },
     "execution_count": 34,
     "metadata": {},
     "output_type": "execute_result"
    }
   ],
   "source": [
    "merged_left.head(4)\n",
    "# x0 = groupRef, x1 = influxDB_units, x2 = isGas\n",
    "# x4 = energy, x6 = sensor, x8 = equipNew, x9 = navNew"
   ]
  },
  {
   "cell_type": "code",
   "execution_count": 127,
   "metadata": {},
   "outputs": [
    {
     "name": "stdout",
     "output_type": "stream",
     "text": [
      "Accuracy: 95.31\n"
     ]
    }
   ],
   "source": [
    "# evaluation of a model fit using mutual information input features\n",
    "from pandas import read_csv\n",
    "from sklearn.preprocessing import LabelEncoder\n",
    "from sklearn.preprocessing import OneHotEncoder\n",
    "from sklearn.feature_selection import SelectKBest\n",
    "from sklearn.feature_selection import mutual_info_classif\n",
    "from sklearn.model_selection import train_test_split\n",
    "from sklearn.linear_model import LogisticRegression\n",
    "from sklearn.metrics import accuracy_score\n",
    "\n",
    "# prepare input data\n",
    "def prepare_inputs(X_train, X_test):\n",
    "    oe = OneHotEncoder(handle_unknown='ignore')\n",
    "    oe.fit(X_train)\n",
    "    X_train_enc = oe.transform(X_train)\n",
    "    X_test_enc = oe.transform(X_test)\n",
    "    return X_train_enc, X_test_enc\n",
    " \n",
    "# prepare target\n",
    "def prepare_targets(y_train, y_test):\n",
    "    le = LabelEncoder()\n",
    "    le.fit(y_train)\n",
    "    y_train_enc = le.transform(y_train)\n",
    "    y_test_enc = le.transform(y_test)\n",
    "    return y_train_enc, y_test_enc\n",
    " \n",
    "# feature selection\n",
    "def select_features(X_train, y_train, X_test):\n",
    "    fs = SelectKBest(score_func=mutual_info_classif, k=14)\n",
    "    fs.fit(X_train, y_train)\n",
    "    X_train_fs = fs.transform(X_train)\n",
    "    X_test_fs = fs.transform(X_test)\n",
    "    return X_train_fs, X_test_fs\n",
    " \n",
    "# prepare input data\n",
    "X_train_enc, X_test_enc = prepare_inputs(X_train, X_test)\n",
    "# prepare output data\n",
    "y_train_enc, y_test_enc = prepare_targets(y_train, y_test)\n",
    "# feature selection\n",
    "X_train_fs, X_test_fs = select_features(X_train_enc, y_train_enc, X_test_enc)\n",
    "# fit the model\n",
    "model = LogisticRegression(solver='lbfgs')\n",
    "model.fit(X_train_fs, y_train_enc)\n",
    "# evaluate the model\n",
    "yhat = model.predict(X_test_fs)\n",
    "# evaluate predictions\n",
    "accuracy = accuracy_score(y_test_enc, yhat)\n",
    "print('Accuracy: %.2f' % (accuracy*100))"
   ]
  },
  {
   "cell_type": "code",
   "execution_count": null,
   "metadata": {},
   "outputs": [],
   "source": []
  }
 ],
 "metadata": {
  "kernelspec": {
   "display_name": "Python 3",
   "language": "python",
   "name": "python3"
  },
  "language_info": {
   "codemirror_mode": {
    "name": "ipython",
    "version": 3
   },
   "file_extension": ".py",
   "mimetype": "text/x-python",
   "name": "python",
   "nbconvert_exporter": "python",
   "pygments_lexer": "ipython3",
   "version": "3.7.7"
  }
 },
 "nbformat": 4,
 "nbformat_minor": 4
}
