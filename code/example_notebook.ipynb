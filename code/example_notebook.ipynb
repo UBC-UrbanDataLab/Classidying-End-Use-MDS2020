{
 "cells": [
  {
   "cell_type": "markdown",
   "metadata": {
    "colab_type": "text",
    "id": "iHFWUa_uZO9o"
   },
   "source": [
    "# Main.py\n",
    "*   Step 1 - Cluster NC data\n",
    "*   Step 2 - Model EC/NC relationship\n",
    "*   Step 3 - Prep EC data for classification model\n",
    "*   Step 4 - Classification model for EC data\n",
    "*   Step 5 - Output results to InfluxDB\n",
    "\n",
    "# Modules \n",
    "* data_preparation\n",
    "  * scale_continuous\n",
    "  * encode_units\n",
    "  * correct_df_units\n",
    "  * equip_label\n",
    "  * nav_label\n",
    "  * connect_to_db\n",
    "  * query_db_ec\n",
    "  * query_db_nc\n",
    "  * query_csv\n",
    "  * query_weather_csv\n",
    "* aggregation\n",
    "  * split_datetime\n",
    "  * agg_numberic_by_col\n",
    "  * agg_bool_by_col\n",
    "  * agg_cat_by_col\n",
    "  * combined_mixed_agg\n",
    "  * agg_all\n",
    "  * append_agg\n",
    "* clustering\n",
    "  * make_categorical_list\n",
    "  * calc_gowers\n",
    "  * multidim_scale\n",
    "  * cluster\n",
    "\n",
    "\n",
    "\n",
    "\n"
   ]
  },
  {
   "cell_type": "markdown",
   "metadata": {
    "colab_type": "text",
    "id": "vfhOoCOpbmdy"
   },
   "source": [
    "# Main.py"
   ]
  },
  {
   "cell_type": "markdown",
   "metadata": {
    "colab_type": "text",
    "id": "7jsBfE-Hwg0N"
   },
   "source": [
    "## Library Imports"
   ]
  },
  {
   "cell_type": "code",
   "execution_count": 10,
   "metadata": {
    "colab": {},
    "colab_type": "code",
    "id": "ZaQ2Fk_6v6MG"
   },
   "outputs": [],
   "source": [
    "### ~ Library Imports ~ ###\n",
    "# General Imports\n",
    "from os import listdir\n",
    "from os.path import isfile, join\n",
    "from datetime import datetime, timedelta\n",
    "# Data Formatting and Manipulation Imports\n",
    "import pandas as pd\n",
    "# Clustering Step Imports\n",
    "from sklearn.cluster import AgglomerativeClustering\n",
    "# Regression Step Imports\n",
    "from sklearn.linear_model import Ridge, RidgeCV\n",
    "from sklearn.metrics import mean_squared_error\n",
    "# Supervised Classification Step Imports\n",
    "from sklearn.model_selection import train_test_split\n",
    "from sklearn.metrics import confusion_matrix, accuracy_score, precision_score, recall_score, f1_score, log_loss\n",
    "from sklearn.ensemble import BaggingClassifier # Selected for Pharmacy (others listed below are alternatives integrated in the last step to test which is optimal for the current data)\n",
    "from sklearn.tree import DecisionTreeClassifier\n",
    "from sklearn.neighbors import KNeighborsClassifier\n",
    "from sklearn.svm import SVC\n",
    "from sklearn.linear_model import LogisticRegression\n",
    "from sklearn.naive_bayes import GaussianNB\n",
    "from sklearn.ensemble import RandomForestClassifier\n",
    "from sklearn.ensemble import ExtraTreesClassifier\n",
    "from sklearn.ensemble import AdaBoostClassifier\n",
    "from sklearn.ensemble import GradientBoostingClassifier\n",
    "# Modules Developed for this Project Imports\n",
    "import data_preparation\n",
    "import aggregation\n",
    "import clustering"
   ]
  },
  {
   "cell_type": "markdown",
   "metadata": {
    "colab_type": "text",
    "id": "cAEEC6Bwwjw1"
   },
   "source": [
    "## Constant Definitions\n",
    "Throughout the code there are several user defined constants that can be used to change how the code acts. The following things can be changed:\n",
    "* The site from which to query sensor data\n",
    "* The measurement within the InfluxDB to query from\n",
    "* The path to the metadata csv\n",
    "* The path to the training data\n",
    "* The numerical index for which column(s) make up the uniqe sensor ids\n",
    "* Whether or not to display the prediction metrics of the current model\n",
    "* Whether or not to save the outputs for each step\n",
    "* The path to save the outputs for each step (if saving step outputs)\n",
    "* The path to save the final end use labels\n",
    "* Whether to query form the database or pull data from previously queried csv's\n",
    "* The start and end date of the date range to query (if querying from database)\n",
    "* The path to the csv's to pull sensor data from (if pulling data from csv's)\n",
    "\n",
    "The easiest way to change any of the items listed above is to update them in the following code chunk. This includes running the code for different buildings or pulling data from different measurements.\n",
    "\n",
    "The comments preceeding each variable in the following chunk of code identify which variables modify each of the above listed options."
   ]
  },
  {
   "cell_type": "code",
   "execution_count": 11,
   "metadata": {
    "colab": {},
    "colab_type": "code",
    "id": "9nFRXbO0v8OF"
   },
   "outputs": [],
   "source": [
    "#0) Set Constants\n",
    "### ~ Required for base functionality ~ ###\n",
    "# String defining which site to run the model for\n",
    "QUERY_SITE = 'Pharmacy'\n",
    "# String defining which measurement from the database to query\n",
    "MEASUREMENT='UBC_EWS'\n",
    "# String defining the path to the metadata csv for the given building\n",
    "METADATA_CSV_PATH = '../data/PharmacyQuery.csv'\n",
    "# String defining the path to the training dataset\n",
    "TRAINING_SET_PATH = '../data/FinalPharmacyECSensorList-WithLabels - PharmacyECSensorsWithLabels.csv'\n",
    "# List of indices that can be combined to uniquely identify a sensor (used to group on each sensors)\n",
    "SENSOR_ID_TAGS = [1,2,3,4,5,6] # order is [\"groupRef\",\"equipRef\",\"navName\",\"siteRef\",\"typeRef\",\"unit\"]\n",
    "                                # The planned update to the InfluxDB may change SENSOR_ID_TAGS to only [1] as in [\"uniqueID\"]\n",
    "### ~ Alows customization of outputs ~ ###\n",
    "# Boolean defining if the prediction metrics should be shown (show if True, else False)\n",
    "DISPLAY_PREDICTION_METRICS = True\n",
    "# Boolean defining if the output dataframes from each step should be saved (save if True, else False)\n",
    "SAVE_STEP_OUTPUTS = True\n",
    "# Strings defining the location to save the dataframe csv's\n",
    "STEP1_SAVE_PATH = '../data/csv_outputs/step1_clustering_phase_output.csv'\n",
    "STEP2_SAVE_PATH_FINAL_DF = '../data/csv_outputs/step2_ridge_regression_output.csv'\n",
    "STEP2_SAVE_PATH_EC_DATA2 = '../data/csv_outputs/step2_aggregated_ec_data_output.csv'\n",
    "STEP3_SAVE_PATH = '../data/csv_outputs/step3_data_prep_for_classification_output.csv'\n",
    "PREDICTED_SAVE_PATH = '../data/csv_outputs/predicted_end_use_labels.csv'\n",
    "# Boolean defining if the model should query from the database or pull from csv's (from database if True, else False)\n",
    "QUERY_FROM_DB = False\n",
    "# Strings defining the start and end date fo the date range to query (if QUERY_FROM_DB==True)\n",
    "START_DATE = '2020-03-16'\n",
    "END_DATE = '2020-03-17'\n",
    "# Strings containing the paths to the folders that contains the csv's to pull data from if QUERY_FROM_DB==False\n",
    "# All file names within the folders must be formatted as \"YYYY-MM-DD.csv\"\n",
    "QUERY_CSV_PATH = '../data/sensor_data/'\n",
    "QUERY_WEATHER_CSV_PATH = '../data/weather_data/'"
   ]
  },
  {
   "cell_type": "markdown",
   "metadata": {
    "colab_type": "text",
    "id": "egTFsf0RDdDS"
   },
   "source": [
    "## Generating DATELIST and client\n",
    "In this section the following are generated\n",
    "* The `DATELIST` for the desired date range to collect data from corresponding with either:\n",
    "  * The `START_DATE` and `END_DATE` defined above (if `QUERY_FROM_DB`==True)\n",
    "  * The dates of the csv's available in `QUERY_CSV_PATH` (if `QUERY_FROM_DB`==False)\n",
    "* The `client` of the InfluxDB to query from (if `QUERY_FROM_DB`==True)\n",
    "\n",
    "If there is a need to update which days are queried, for example randomly sampling days between a date range rather than collecting every date, updating how `DATELIST` is generated in this chunk would be the easiest method. "
   ]
  },
  {
   "cell_type": "code",
   "execution_count": 12,
   "metadata": {
    "colab": {},
    "colab_type": "code",
    "id": "AB9_PJb-Dbwk"
   },
   "outputs": [],
   "source": [
    "if QUERY_FROM_DB:\n",
    "    # Generating a list of the dates within the daterange to query (if QUERY_FROM_DB==True)\n",
    "    DELTA = (datetime.strptime(END_DATE, \"%Y-%m-%d\")-datetime.strptime(START_DATE, \"%Y-%m-%d\")).days\n",
    "    DATELIST =  [(datetime.strptime(END_DATE, \"%Y-%m-%d\") - timedelta(days=x)).strftime('%Y-%m-%d') for x in range(0,delta+1)]\n",
    "    DATELIST.sort(key=lambda date: datetime.strptime(date, \"%Y-%m-%d\"))\n",
    "else:\n",
    "    # Getting the list of files stored in the path provided in QUERY_CSV_PATH (if QUERY_FROM_DB==False)\n",
    "    # All files names must be formatted as \"YYYY-MM-DD.csv\"\n",
    "    DATELIST = [f.split(\".\")[0] for f in listdir(QUERY_CSV_PATH) if isfile(join(QUERY_CSV_PATH, f))]\n",
    "\n",
    "# Connecting to influxDB if QUERY_FROM_DB==True\n",
    "if QUERY_FROM_DB:\n",
    "    client = data_preparation.connect_to_db()"
   ]
  },
  {
   "cell_type": "markdown",
   "metadata": {
    "colab_type": "text",
    "id": "EDMHVJmvbsr9"
   },
   "source": [
    "### Step 1 - Cluster NC data\n",
    "The purpose of step 1 is to cluster the non-energy consumption (NC) sensors into groups of sensors that have similar responses, and then aggregate the sensor values for each cluster for each hour of each day in the desired date range. The following aggregations were calculated on the values measured by the sensors within each cluster:\n",
    "* Mean\n",
    "* Minimum\n",
    "* Maximum\n",
    "* Standard Deviation\n",
    "* Average Sensor Update Rate\n",
    "\n",
    "The activities required to attain the goal of Step 1 are the following:\n",
    "1. For each day in the desired date range:\n",
    "\n",
    "    1. Collect the non-energy consumption sensor data for the desired building and store in `temp_df`\n",
    "\n",
    "    2. Aggregate the data for each non-energy consumption sensor to get the previously listed aggregations over the entire time range (meaning only 5 measurements per sensor) and store in `temp_df`\n",
    "\n",
    "    3. Combine the current day's aggregations with the aggregations of all the previous days using weighted averages and store in `nc_data`\n",
    "2. Encode the unit of measure and scale the aggregated values for the sensors and store outputs in `nc_data`\n",
    "3. Calculate the Gower's distance between sensors and store the results in `gow_dist`\n",
    "4. Cluster the sensors using the Gower's distance and store the results in `clusters`\n",
    "5. For each day in the desired date range:\n",
    "    1. Collect the non-energy consumption sensor data for the desired building and store the results in `temp_df`\n",
    "    2. Assign each sensor it's appropriate cluster number as identified in activity 4 by joining the clusters to `temp_df`\n",
    "    3. Aggregate the data for each cluster by hour of the day and date to get the previously listed aggregations (so 1 row per hour per day, and 5 columns per cluster) and store the results in `temp_df_aggs`\n",
    "    4. Combine the current day's aggregations with the aggregations of all the previous days using weighted averages and store the results in `nc_data`"
   ]
  },
  {
   "cell_type": "code",
   "execution_count": 13,
   "metadata": {
    "colab": {},
    "colab_type": "code",
    "id": "csE_cCjyZDkO"
   },
   "outputs": [
    {
     "name": "stdout",
     "output_type": "stream",
     "text": [
      "####### ~~~~~ Started - Step 1: Clustering Phase ~~~~~ #######\n",
      "\t##### ~~~ Started - Step 1 a): Aggregation Phase 1 ~~~ #####\n",
      "\t\t1: 2020-03-16\n",
      "\t\t2: 2020-05-01\n",
      "\t\t### ~ Started - Step 1 a): Agg Phase 1: Calculating Update Rates ~ ###\n",
      "\t##### ~~~ Step 1 b): Started - Clustering Phase ~~~ #####\n",
      "\t\t### ~ Started - Step 1 c): Clust Phase 1: Calculating Gower's Distance ~ ###\n",
      "\t\t### ~ Started - Step 1 c): Clust Phase 2: Calculating Clusters ~ ###\n",
      "\t##### ~~~ Started - Step 1 d): Aggregation Phase 2 ~~~ #####\n",
      "\t\t1: 2020-03-16\n",
      "\t\t2: 2020-05-01\n",
      "\t\t### ~ Started - Step 1 d): Agg Phase 2: Calculating Update Rates ~ ###\n",
      "####### ~~~~~ Complete - Step 1: NC Aggregation and Clustering Phase ~~~~~ #######\n"
     ]
    }
   ],
   "source": [
    "##### 1) Cluster NC data\n",
    "###########################################################################\n",
    "print(\"####### ~~~~~ Started - Step 1: Clustering Phase ~~~~~ #######\") # For tracking program progress\n",
    "###   a) load+aggregate NC data including weather, grouping by sensor ID fields\n",
    "print(\"\\t##### ~~~ Started - Step 1 a): Aggregation Phase 1 ~~~ #####\") # For tracking program progress\n",
    "last_idx_as_cols = False\n",
    "is_first_iter = True\n",
    "cnt=1\n",
    "for day in DATELIST:\n",
    "    print(\"\\t\\t\"+str(cnt)+\": \"+str(day)) # For tracking program progress\n",
    "    # Querying and preping data for aggregations\n",
    "    if QUERY_FROM_DB:\n",
    "        temp_df = data_preparation.query_db_nc(client, day, measurement=MEASUREMENT, num_days=1, site=QUERY_SITE)\n",
    "        if temp_df is not None:\n",
    "            # Making the datetime index into a column so that date and hour can be extracted later\n",
    "            temp_df.reset_index(level=0, inplace=True)\n",
    "    else:\n",
    "        temp_df = data_preparation.query_csv(client=QUERY_CSV_PATH, date=day, site=None)\n",
    "        weather_df = data_preparation.query_weather_csv(client=QUERY_WEATHER_CSV_PATH, date=day, site=None)\n",
    "        if weather_df is None:\n",
    "            pass\n",
    "        else:\n",
    "            temp_df = pd.concat([temp_df, weather_df])\n",
    "            temp_df = temp_df.fillna('empty') # Aggregation doesn't work with nan's, using empty as an obvious flag for value being nan\n",
    "    if temp_df is None:\n",
    "        continue\n",
    "    # Formatting the dataframe columns for date, month, and hour extraction\n",
    "    col_names = ['datetime']\n",
    "    col_names.extend(temp_df.columns[1:])\n",
    "    temp_df.columns = col_names\n",
    "    # Getting date, month, and hour\n",
    "    temp_df = aggregation.split_datetime(temp_df)\n",
    "    if is_first_iter:\n",
    "        # Creating a low memory dataframe for the append_agg function before the structure is changed by agg_all\n",
    "        struct_df = temp_df.head(1)\n",
    "        # Aggregating the first date's data\n",
    "        nc_data = aggregation.agg_all(temp_df, how=\"all\", col_idx=SENSOR_ID_TAGS, last_idx_to_col=last_idx_as_cols)\n",
    "        is_first_iter = False\n",
    "    else:\n",
    "        # Aggregating the current date's data and aggregate it with the current running total\n",
    "        temp_df = aggregation.agg_all(temp_df, how=\"all\", col_idx=SENSOR_ID_TAGS, last_idx_to_col=last_idx_as_cols)\n",
    "        nc_data = aggregation.append_agg(df1=temp_df, df2=nc_data, struct_df=struct_df, col_idx=SENSOR_ID_TAGS, last_idx_to_col=last_idx_as_cols)\n",
    "    cnt += 1\n",
    "    \n",
    "print(\"\\t\\t### ~ Started - Step 1 a): Agg Phase 1: Calculating Update Rates ~ ###\") # For tracking program progress\n",
    "# Freeing up some memory\n",
    "temp_df = None\n",
    "weather_df = None\n",
    "struct_df = None\n",
    "# Calculating the update rate\n",
    "nc_data[\"update_rate\"] = nc_data[\"count\"] / cnt\n",
    "nc_data.drop(\"count\", inplace=True, axis=1)\n",
    "\n",
    "###   b) Encode and scale NC data\n",
    "print(\"\\t##### ~~~ Step 1 b): Started - Clustering Phase ~~~ #####\") # For tracking program progress\n",
    "\n",
    "# Getting Indexes of the continuous columns\n",
    "cont_cols = [i for i in range(len(SENSOR_ID_TAGS),len(nc_data.columns))]\n",
    "\n",
    "# Scale Continuous\n",
    "scaled_data = data_preparation.scale_continuous(nc_data, cont_cols)\n",
    "nc_data = pd.concat([nc_data.iloc[:, 0:len(SENSOR_ID_TAGS)], pd.DataFrame(scaled_data, index=nc_data.index, columns=nc_data.columns[cont_cols].tolist())], axis=1)\n",
    "scaled_data = None\n",
    "\n",
    "# Encoding units\n",
    "nc_data = data_preparation.encode_units(nc_data)\n",
    "\n",
    "###   c) cluster NC data to get df of sensor id fields + cluster group number\n",
    "# Calculating Gower's Distance, and clusters\n",
    "print(\"\\t\\t### ~ Started - Step 1 c): Clust Phase 1: Calculating Gower's Distance ~ ###\") # For tracking program progress\n",
    "gow_dist = clustering.calc_gowers(nc_data, cont_cols)\n",
    "print(\"\\t\\t### ~ Started - Step 1 c): Clust Phase 2: Calculating Clusters ~ ###\") # For tracking program progress\n",
    "clusters = AgglomerativeClustering(linkage = 'single', affinity='precomputed', n_clusters=20).fit_predict(gow_dist)\n",
    "\n",
    "# Generating a list of the columns to keep when making the dataframe relating sensors to clusters(the unique identifiers for an NC sensor and cluster)\n",
    "unique_cols_idx = [i for i in range(len(SENSOR_ID_TAGS))]\n",
    "unique_cols = nc_data.columns[unique_cols_idx].values.tolist()\n",
    "unique_cols.append(\"cluster\")\n",
    "# Creating a dataframe that identifies which unique sensors belong to which cluster\n",
    "drop_cols = list(set(nc_data.columns.tolist())-set(unique_cols))\n",
    "cluster_groups = pd.concat([nc_data, pd.DataFrame(clusters, columns=[\"cluster\"])], axis=1)\n",
    "cluster_groups = cluster_groups.drop(drop_cols, axis=1)\n",
    "\n",
    "###   d) Reload NC data + join cluster group num + aggregate, this time grouping by date, time, and clust_group_num\n",
    "print(\"\\t##### ~~~ Started - Step 1 d): Aggregation Phase 2 ~~~ #####\") # For tracking program progress\n",
    "last_idx_as_cols = True\n",
    "is_first_iter = True\n",
    "cnt=1\n",
    "for day in DATELIST:\n",
    "    print(\"\\t\\t\"+str(cnt)+\": \"+str(day)) # For tracking program progress\n",
    "    # Querying and preping data for aggregations\n",
    "    if QUERY_FROM_DB:\n",
    "        temp_df = data_preparation.query_db_nc(client, day, measurement=MEASUREMENT, num_days=1, site=QUERY_SITE)\n",
    "        if temp_df is not None:\n",
    "            # Making the datetime index into a column so that date and hour can be extracted later\n",
    "            temp_df.reset_index(level=0, inplace=True)\n",
    "    else:\n",
    "        temp_df = data_preparation.query_csv(client=QUERY_CSV_PATH, date=day, site=None)\n",
    "        weather_df = data_preparation.query_weather_csv(client=QUERY_WEATHER_CSV_PATH, date=day, site=None)\n",
    "        if weather_df is None:\n",
    "            pass\n",
    "        else:\n",
    "            temp_df = pd.concat([temp_df, weather_df])\n",
    "            temp_df = temp_df.fillna('empty') # Aggregation doesn't work with nan's, using empty as an obvious flag for value being nan\n",
    "    if temp_df is None:\n",
    "        continue\n",
    "      # Formatting the dataframe columns for date, month, and hour extraction\n",
    "    col_names = ['datetime']\n",
    "    col_names.extend(temp_df.columns[1:])\n",
    "    temp_df.columns = col_names\n",
    "    # Getting date, month, and hour (must have at least hour for aggregations)\n",
    "    temp_df = aggregation.split_datetime(temp_df)\n",
    "    # Adding cluster groupings to the data for aggregation purposes\n",
    "    temp_df = temp_df.merge(cluster_groups, how='left', on=cluster_groups.columns[:-1].tolist())\n",
    "    if is_first_iter:\n",
    "        # Calculating the count of sensor updates per hour per day per cluster for the first date\n",
    "        update_rates = temp_df.groupby(['hour','date','cluster']).agg({'value':'count'},axis=1)\n",
    "        # Creating a low memory dataframe for the append_agg function before the structure is changed by agg_all (different structure required than previous)\n",
    "        struct_df = temp_df.head(1)\n",
    "        # Identifying the indexes of the items being aggregated on (hour, date, and cluster)\n",
    "        cluster_id_tags = [temp_df.columns.tolist().index(\"hour\"), temp_df.columns.tolist().index(\"date\"), temp_df.columns.tolist().index(\"cluster\")]\n",
    "        # Aggregating the first date's data (Aggregations must be seperate b/c data gets too big during calculations otherwise)\n",
    "        temp_df_aggs = aggregation.agg_all(temp_df, how=\"mean\", col_idx=cluster_id_tags, last_idx_to_col=last_idx_as_cols)\n",
    "        if 'count_x' in temp_df_aggs.columns.tolist():\n",
    "            # Each aggregation type outputs a count, ensuring joins only result in 1 count (applies for all similar if statements)\n",
    "            temp_df_aggs = temp_df_aggs.drop('count_y', axis=1)\n",
    "            temp_df_aggs = temp_df_aggs.rename(columns={'count_x':'count'})\n",
    "        temp_df_aggs = temp_df_aggs.merge(aggregation.agg_all(temp_df, how=\"std\", col_idx=cluster_id_tags, last_idx_to_col=last_idx_as_cols), how='left', on=temp_df_aggs.columns.tolist()[:2])\n",
    "        if 'count_x' in temp_df_aggs.columns.tolist():\n",
    "            temp_df_aggs = temp_df_aggs.drop('count_y', axis=1)\n",
    "            temp_df_aggs = temp_df_aggs.rename(columns={'count_x':'count'})\n",
    "        temp_df_aggs = temp_df_aggs.merge(aggregation.agg_all(temp_df, how=\"max\", col_idx=cluster_id_tags, last_idx_to_col=last_idx_as_cols), how='left', on=temp_df_aggs.columns.tolist()[:2])\n",
    "        if 'count_x' in temp_df_aggs.columns.tolist():\n",
    "            temp_df_aggs = temp_df_aggs.drop('count_y', axis=1)\n",
    "            temp_df_aggs = temp_df_aggs.rename(columns={'count_x':'count'})\n",
    "        nc_data = temp_df_aggs.merge(aggregation.agg_all(temp_df, how=\"min\", col_idx=cluster_id_tags, last_idx_to_col=last_idx_as_cols), how='left', on=temp_df_aggs.columns.tolist()[:2])\n",
    "        if 'count_x' in nc_data.columns.tolist():\n",
    "            nc_data = nc_data.drop('count_y', axis=1)\n",
    "            nc_data = nc_data.rename(columns={'count_x':'count'})\n",
    "        is_first_iter = False\n",
    "    else:\n",
    "        # Calculating the count of sensor updates per hour per day per cluster for the current date\n",
    "        update_rates = pd.concat([update_rates, temp_df.groupby(['hour','date','cluster']).agg({'value':'count'},axis=1)])\n",
    "        # Aggregating the current date's data and aggregate it with the current running total\n",
    "        temp_df_aggs = aggregation.agg_all(temp_df, how=\"mean\", col_idx=cluster_id_tags, last_idx_to_col=last_idx_as_cols)\n",
    "        if 'count_x' in temp_df_aggs.columns.tolist():\n",
    "            temp_df_aggs = temp_df_aggs.drop('count_y', axis=1)\n",
    "            temp_df_aggs = temp_df_aggs.rename(columns={'count_x':'count'})\n",
    "        temp_df_aggs = temp_df_aggs.merge(aggregation.agg_all(temp_df, how=\"std\", col_idx=cluster_id_tags, last_idx_to_col=last_idx_as_cols), how='left', on=temp_df_aggs.columns.tolist()[:2])\n",
    "        if 'count_x' in temp_df_aggs.columns.tolist():\n",
    "            temp_df_aggs = temp_df_aggs.drop('count_y', axis=1)\n",
    "            temp_df_aggs = temp_df_aggs.rename(columns={'count_x':'count'})\n",
    "        temp_df_aggs = temp_df_aggs.merge(aggregation.agg_all(temp_df, how=\"max\", col_idx=cluster_id_tags, last_idx_to_col=last_idx_as_cols), how='left', on=temp_df_aggs.columns.tolist()[:2])\n",
    "        if 'count_x' in temp_df_aggs.columns.tolist():\n",
    "            temp_df_aggs = temp_df_aggs.drop('count_y', axis=1)\n",
    "            temp_df_aggs = temp_df_aggs.rename(columns={'count_x':'count'})\n",
    "        temp_df_aggs = temp_df_aggs.merge(aggregation.agg_all(temp_df, how=\"min\", col_idx=cluster_id_tags, last_idx_to_col=last_idx_as_cols), how='left', on=temp_df_aggs.columns.tolist()[:2])\n",
    "        if 'count_x' in temp_df_aggs.columns.tolist():\n",
    "            temp_df_aggs = temp_df_aggs.drop('count_y', axis=1)\n",
    "            temp_df_aggs = temp_df_aggs.rename(columns={'count_x':'count'})\n",
    "        nc_data = aggregation.append_agg(df1=temp_df_aggs, df2=nc_data, struct_df=struct_df, col_idx=cluster_id_tags, last_idx_to_col=last_idx_as_cols)\n",
    "    cnt += 1\n",
    "    \n",
    "print(\"\\t\\t### ~ Started - Step 1 d): Agg Phase 2: Calculating Update Rates ~ ###\") # For tracking program progress\n",
    "# Re-format update rates so that clusters are columns\n",
    "update_rates = update_rates.unstack()\n",
    "update_rates.columns = update_rates.columns.droplevel(level=0)\n",
    "update_rates = update_rates.fillna(0)\n",
    "\n",
    "# Calculate the number of sensors per cluster\n",
    "sensor_count_per_cluster = cluster_groups.groupby('cluster').agg({cluster_groups.columns.tolist()[0]:'count'})\n",
    "sensor_count_per_cluster.columns = ['count']\n",
    "\n",
    "# Calculate the average sensor update rate per hour per cluster\n",
    "for cluster in cluster_groups['cluster'].unique():\n",
    "    update_rates.loc[:,cluster] = update_rates.loc[:,cluster]/sensor_count_per_cluster.loc[cluster][0]\n",
    "\n",
    "# Rename the update rate columns and join them to the nc_data\n",
    "update_rates = update_rates.add_prefix('urate_')\n",
    "nc_data = nc_data.join(update_rates, how='left', on=['hour', 'date'])\n",
    "nc_data = nc_data.drop('count', axis=1)\n",
    "if SAVE_STEP_OUTPUTS:\n",
    "    nc_data.to_csv(STEP1_SAVE_PATH)\n",
    "\n",
    "# Freeing up some space\n",
    "temp_df_aggs = None\n",
    "struct_df = None\n",
    "temp_df = None\n",
    "update_rates = None\n",
    "\n",
    "print(\"####### ~~~~~ Complete - Step 1: NC Aggregation and Clustering Phase ~~~~~ #######\") # For tracking program progress"
   ]
  },
  {
   "cell_type": "markdown",
   "metadata": {
    "colab_type": "text",
    "id": "3-scFXIzkMpQ"
   },
   "source": [
    "### Ploting Clusters\n",
    "**WARNING:** The code chunk for plotting of the clusters requires multidimensional scaling to be calculated on the Gower's distance. This calculation can take a long time, so only run this chunk if you want to plot the clusters."
   ]
  },
  {
   "cell_type": "code",
   "execution_count": 14,
   "metadata": {
    "colab": {},
    "colab_type": "code",
    "id": "bzC2JRB9kLCv"
   },
   "outputs": [
    {
     "data": {
      "image/png": "[encoded data removed]",
      "text/plain": [
       "<Figure size 432x288 with 1 Axes>"
      ]
     },
     "metadata": {
      "needs_background": "light"
     },
     "output_type": "display_data"
    }
   ],
   "source": [
    "# MDS calculation\n",
    "mds = clustering.multidim_scale(gow_dist, num_dim=2)\n",
    "\n",
    "# Preping the dataframe for plotting\n",
    "data_2d_df = pd.DataFrame(data=mds, columns = ['x','y'])\n",
    "data_2d_df['cluster'] = cluster_groups['cluster']\n",
    "\n",
    "# Plotting the clusters\n",
    "plt.scatter(data_2d_df['x']*1000,data_2d_df['y']*1000, c=data_2d_df['cluster'])\n",
    "plt.show()"
   ]
  },
  {
   "cell_type": "markdown",
   "metadata": {
    "colab_type": "text",
    "id": "27tUxrulPukY"
   },
   "source": [
    "***\n",
    "***\n",
    "# Add Chunk for Customizability of Clustering methods\n",
    "* Add code to plot current cluster (minimum)\n",
    "  * Make this a seperate chunk and add a warning that it takes a long time b/c need to calculate MDS\n",
    "* Also see if can get a good way of calculating all/various clusters and comparing plots/sihlouette scores (if have time)\n",
    "  * Also time consuming so probably need's to be a seperate chunk \n",
    "    * Maybe at the end after everything? (in that case just mention here and state that it is at the end)\n",
    "***\n",
    "***"
   ]
  },
  {
   "cell_type": "markdown",
   "metadata": {
    "colab_type": "text",
    "id": "0f5x5-PEgYTC"
   },
   "source": [
    "### Step 2 - Model EC/NC relationship"
   ]
  },
  {
   "cell_type": "markdown",
   "metadata": {
    "colab_type": "text",
    "id": "7Wnf83w-zh8-"
   },
   "source": [
    "1. Query EC data using `data_preparation.query_db_ec`\n",
    "2. The data is stored in a temp dataframe. Next, `aggregation.split_datetime` is used to split datetime to date and hour. Two dataframes (**ec_data1**, **ec_data2**) are incrementally created from temp dataframe\n",
    "3. Both **ec_data1** and **ec_data2** dataframes are aggregated using `aggregation.agg_numeric_by_col`. **ec_data1** is aggregated by date and hour whereas **ec_data2** is aggregated by unique sensor ID\n",
    "4. Scale continuous data in **ec_data1** and **nc_data** using `data_preparation.scale_continuous`\n",
    "5. For each unique sensor ID\n",
    "  * Merge **ec_data1** with **nc_data** into a new dataframe \n",
    "  * Set X to **nc_data** values and Y to **ec_data1** mean value\n",
    "  * Use cross validation `RidgeCV()` to find optimal alpha value. Feed X and Y arrays into ridge regression model using `Ridge()` with optimal alpha value as a parameter\n",
    "  * Store each unique sensor ID's model coeffcients into a list named coefficients_list\n",
    "5. Append model coefficients for every unique sensor ID into a single dataframe named **final_df**"
   ]
  },
  {
   "cell_type": "code",
   "execution_count": 15,
   "metadata": {
    "colab": {},
    "colab_type": "code",
    "id": "l9lTG3vcgV3L"
   },
   "outputs": [
    {
     "name": "stdout",
     "output_type": "stream",
     "text": [
      "####### ~~~~~ Starting - Step 2: Model EC/NC Relationship ~~~~~ #######\n",
      "\t##### ~~~ Started - Step 2 a): Aggregation ~~~ #####\n",
      "\t\t1: 2020-03-16\n",
      "\t\t2: 2020-05-01\n",
      "\t##### ~~~ Started - Step 2 b): Regression ~~~ #####\n",
      "avg_mse: 0.0002771344309097581\n",
      "####### ~~~~~ Complete - Step 2: Model EC/NC Relationship ~~~~~ #######\n"
     ]
    }
   ],
   "source": [
    "##### 2) Model EC/NC relationship\n",
    "###########################################################################\n",
    "# Freeing up some memory (done here b/c Gower's distance is required to calculate MDS for plotting)\n",
    "gow_dist = None\n",
    "\n",
    "print(\"####### ~~~~~ Starting - Step 2: Model EC/NC Relationship ~~~~~ #######\") # For tracking program progress\n",
    "###   a) Aggregate EC sensors to be response variables for the regression model\n",
    "print(\"\\t##### ~~~ Started - Step 2 a): Aggregation ~~~ #####\") # For tracking program progress\n",
    "last_idx_as_cols = False\n",
    "is_first_iter = True\n",
    "cnt=1\n",
    "for day in DATELIST:\n",
    "    print(\"\\t\\t\"+str(cnt)+\": \"+str(day)) # For tracking program progress\n",
    "    # Querying and preping data for aggregations\n",
    "    if QUERY_FROM_DB:\n",
    "        temp_df2 = data_preparation.query_db_ec(client, day, measurement=MEASUREMENT, num_days=1, site=QUERY_SITE)\n",
    "        if temp_df2 is not None:\n",
    "            # Making the datetime index into a column so that date and hour can be extracted later\n",
    "            temp_df2.reset_index(level=0, inplace=True)\n",
    "    else:\n",
    "        temp_df2 = data_preparation.query_csv(client=QUERY_CSV_PATH, date=day, site=None)\n",
    "        # Filter for EC data, this step will be done in the query\n",
    "        if temp_df2 is not None:\n",
    "            temp_df2=temp_df2[(temp_df2['unit']=='kWh') | (temp_df2['unit']=='m³')]\n",
    "    if temp_df2 is None:\n",
    "        continue\n",
    "    col_names = ['datetime']\n",
    "    col_names.extend(temp_df2.columns[1:])\n",
    "    temp_df2.columns = col_names\n",
    "    temp_df2 = aggregation.split_datetime(temp_df2)\n",
    "    # Creating uniqueId\n",
    "    temp_df2=data_preparation.create_unique_id(temp_df2)\n",
    "    # Filtering dataframe for only relevant fields\n",
    "    temp_df2=temp_df2[['uniqueId', 'date', 'hour', 'unit', 'value']]\n",
    "    if is_first_iter:\n",
    "        # Creating a low memory dataframe for the append_agg function before the structure is changed by agg_all\n",
    "        struct_df2 = temp_df2.head(1)\n",
    "        # Aggregating the first date's data\n",
    "        ec_data1=aggregation.agg_numeric_by_col(temp_df2, col_idx=[0,1,2,3], how='mean')\n",
    "        # Also create second DF by aggregating further just using sensor ID fields (end result=1row per sensor)\n",
    "        ec_data2=aggregation.agg_numeric_by_col(temp_df2, col_idx=[0,3], how='all')\n",
    "        is_first_iter = False\n",
    "    else:\n",
    "        # Aggregating the current date's data and aggregate it with the current running total\n",
    "        temp_df2a=aggregation.agg_numeric_by_col(temp_df2, col_idx=[0,1,2,3], how='mean')\n",
    "        temp_df2b=aggregation.agg_numeric_by_col(temp_df2, col_idx=[0,3], how='all')\n",
    "        ec_data1=aggregation.append_agg(df1=temp_df2a, df2=ec_data1, struct_df=struct_df2, col_idx=[0,1,2,3])\n",
    "        ec_data2=aggregation.append_agg(df1=temp_df2b, df2=ec_data2, struct_df=struct_df2, col_idx=[0,3])\n",
    "    cnt += 1\n",
    "# Freeing up some memory\n",
    "temp_df2 = None\n",
    "temp_df2a = None\n",
    "temp_df2b = None\n",
    "# Calculating the update rate\n",
    "ec_data2[\"update_rate\"] = ec_data2[\"count\"] / (cnt*24)\n",
    "ec_data2.drop(\"count\", inplace=True, axis=1)\n",
    "\n",
    "# Resetting index columns\n",
    "ec_data1=ec_data1.reset_index()\n",
    "ec_data2=ec_data2.reset_index()\n",
    "\n",
    "# Renaming column\n",
    "ec_data1=ec_data1.rename(columns={\"mean\":\"EC_mean_value\"})\n",
    "\n",
    "# Dataframe with unique sensor ids\n",
    "uniqueSensors=ec_data2['uniqueId'].unique()\n",
    "\n",
    "# Scaling EC data\n",
    "ec_data1['EC_mean_value']=data_preparation.scale_continuous(ec_data1, indexes=[4])\n",
    "\n",
    "\n",
    "# Scaling Cluster data\n",
    "for i in range(6,len(nc_data.columns)):\n",
    "    nc_data.iloc[:,i]=data_preparation.scale_continuous(nc_data, indexes=[i])\n",
    "\n",
    "###   b) For each unique EC sensorID (i.e. row in 2b_EC_data_df), create Ridge Regression model using\n",
    "#       2a_EC_data_df and step1_output_NC_data_df. Model is basically: Y=EC response and Xn=NC data\n",
    "print(\"\\t##### ~~~ Started - Step 2 b): Regression ~~~ #####\") # For tracking program progress\n",
    "\n",
    "# Will store each ridge output into a list and append all the dataframes\n",
    "coefficients_list=[]\n",
    "\n",
    "# total sum of mse from each ridge regression model (accumulative)\n",
    "score=0\n",
    "\n",
    "# Creating individual data frames for each sensor and implementing Ridge Regression\n",
    "for sensor in uniqueSensors:\n",
    "    # Create data frame for only that relevant sensor\n",
    "    new_df=ec_data1[ec_data1['uniqueId']==sensor]\n",
    "    # Changing EC data types for merging later\n",
    "    nc_data = nc_data.astype({\"date\": str})\n",
    "    new_df = new_df.astype({\"date\": object, \"hour\": object})\n",
    "    new_df.loc[:,'date']=new_df['date'].apply(lambda x: str(x)[0:10])\n",
    "\n",
    "    # Merge specific sensor to cluster data\n",
    "    new_merged=pd.merge(nc_data, new_df, how='inner', left_on=['date','hour'], right_on=['date','hour'])\n",
    "    # Replacing NaN's with 0 (Ridge Regression doesn't allow NANs)\n",
    "    new_merged=new_merged.fillna(0)\n",
    "\n",
    "    # All NC predictor variables\n",
    "    X=new_merged.iloc[:,2:(len(new_merged.columns)-3)]\n",
    "\n",
    "    # Mean value of EC data\n",
    "    Y=new_merged['EC_mean_value']\n",
    "    Y=Y.to_numpy().reshape(len(Y),1)\n",
    "\n",
    "    # Ridge CV to find optimal alpha value\n",
    "    alphas=[0.000001, 0.00001, 0.0001, 0.001, 0.01, 0.1, 1, 10, 100, 1e3, 1e4, 1e5, 1e6, 1e7, 1e8]\n",
    "    reg=RidgeCV(alphas=alphas, store_cv_values=True)\n",
    "    reg.fit(X, Y)\n",
    "    alpha_best=reg.alpha_\n",
    "\n",
    "    # Ridge model using optimal alpha value found in step above\n",
    "    ridge_test=Ridge(alpha=alpha_best, tol=.01, max_iter=10e7,normalize=True)\n",
    "    ridge_test.fit(X,Y)\n",
    "    coef=ridge_test.coef_\n",
    "    mse=mean_squared_error(y_true=Y, y_pred=ridge_test.predict(X))\n",
    "    score=score+mse\n",
    "\n",
    "    # Store coefficients into a dataframe\n",
    "    new=pd.DataFrame(data=coef.reshape(1,((len(new_merged.columns)-3)-2)))\n",
    "\n",
    "    # Add uniqueId to the dataframe\n",
    "    new['uniqueId']=sensor\n",
    "\n",
    "    # Store each sensorID's ridge coefficients into a list\n",
    "    coefficients_list.append(new)\n",
    "\n",
    "# Append all ridge coefficients for all sensors into a single dataframe\n",
    "for df in uniqueSensors:\n",
    "    final_df = pd.concat(coefficients_list)\n",
    "\n",
    "# calculate the avarge mse across all ridge regression models\n",
    "avg_mse=score/len(uniqueSensors)\n",
    "print(\"avg_mse:\",avg_mse)\n",
    "\n",
    "if SAVE_STEP_OUTPUTS:\n",
    "    final_df.to_csv(STEP2_SAVE_PATH_FINAL_DF)\n",
    "    ec_data2.to_csv(STEP2_SAVE_PATH_EC_DATA2)\n",
    "print(\"####### ~~~~~ Complete - Step 2: Model EC/NC Relationship ~~~~~ #######\") # For tracking program progress\n"
   ]
  },
  {
   "cell_type": "markdown",
   "metadata": {
    "colab_type": "text",
    "id": "7LsEiE2kgiIS"
   },
   "source": [
    "### Step 3 - Prep EC data for classification model\n"
   ]
  },
  {
   "cell_type": "code",
   "execution_count": 16,
   "metadata": {
    "colab": {},
    "colab_type": "code",
    "id": "IN7oNIgxgg6_"
   },
   "outputs": [
    {
     "name": "stdout",
     "output_type": "stream",
     "text": [
      "####### ~~~~~ Starting - Step 3: Prep EC Data for Classification Model ~~~~~ #######\n",
      "####### ~~~~~ Complete - Step 3: Prep EC Data for Classification Model ~~~~~ #######\n"
     ]
    }
   ],
   "source": [
    "##### 3) Prep EC data for classification model\n",
    "###########################################################################\n",
    "print(\"####### ~~~~~ Starting - Step 3: Prep EC Data for Classification Model ~~~~~ #######\") # For tracking program progress\n",
    "###   a) Load metadata and join with 2b_EC_data_df\n",
    "metadata=pd.read_csv(METADATA_CSV_PATH, dtype=object)\n",
    "# Make uniqueIDs\n",
    "metadata=data_preparation.create_unique_id(metadata, metadata=True)\n",
    "# Drop duplicates\n",
    "metadata=metadata.sort_values('lastSynced').drop_duplicates('uniqueId',keep='last')\n",
    "# Choose relevant fields\n",
    "metadata=metadata[['uniqueId','kind', 'energy','power', 'sensor', 'unit', 'water']] \n",
    "# Changing boolean to easily identify during encoding process\n",
    "metadata['energy']=metadata['energy'].apply(lambda x: 'yes_energy' if x=='✓' else 'no_energy')\n",
    "metadata['power']=metadata['power'].apply(lambda x: 'yes_power' if x=='✓' else 'no_power')\n",
    "metadata['sensor']=metadata['sensor'].apply(lambda x: 'yes_sensor' if x=='✓' else 'no_sensor')\n",
    "metadata['water']=metadata['water'].apply(lambda x: 'yes_water' if x=='✓' else 'no_water')\n",
    "metadata['unit']=metadata['unit'].apply(lambda x: 'omit' if x=='_' else x)\n",
    "# left join metadata and 2b_EC_data_df\n",
    "merged_left=pd.merge(ec_data2, metadata, how='left', left_on='uniqueId', right_on='uniqueId')\n",
    "\n",
    "###   b) Apply feature selection function(s) to the joined EC+metadata\n",
    "# load end_use classifications training data\n",
    "end_use_labels=pd.read_csv(TRAINING_SET_PATH)\n",
    "# make uniqueId\n",
    "end_use_labels['siteRef']=QUERY_SITE\n",
    "end_use_labels=data_preparation.create_unique_id(end_use_labels)\n",
    "\n",
    "# rename columns to fix unit of measurements\n",
    "end_use_labels.rename(columns={'UBC_EWS.firstValue':'value'}, inplace=True)\n",
    "# run correct_df_units function\n",
    "end_use_labels=data_preparation.correct_df_units(end_use_labels)\n",
    "\n",
    "# TRAINING DATA CLEANING\n",
    "# Change ? to 0 since uom fixed\n",
    "end_use_labels=end_use_labels.assign(isGas=end_use_labels.isGas.apply(lambda x: '0' if x=='?' else x))\n",
    "# changing boolean for more descriptive encoding\n",
    "end_use_labels=end_use_labels.assign(isGas=end_use_labels.isGas.apply(lambda x: 'no_gas' if x=='0' else 'yes_gas'))\n",
    "\n",
    "# selecting relevant training data fields\n",
    "end_use_labels=end_use_labels[['uniqueId', 'isGas', 'equipRef', 'groupRef', 'navName', 'endUseLabel']]\n",
    "end_use_labels=end_use_labels.drop_duplicates()\n",
    "merged_outer=pd.merge(left=merged_left, right=end_use_labels, how='left', left_on='uniqueId', right_on='uniqueId')\n",
    "# make equipRef and navName into smaller categories for feature engineering\n",
    "merged_outer=merged_outer.assign(equipRef=merged_outer.equipRef.apply(lambda x: data_preparation.equip_label(str(x))))\n",
    "merged_outer=merged_outer.assign(navName=merged_outer.navName.apply(lambda x: data_preparation.nav_label(str(x))))\n",
    "\n",
    "###   c) Encode and scale the EC+metadata\n",
    "# encoding after feature selection\n",
    "merged_outer=merged_outer.assign(energy_no_energy=merged_outer.energy.apply(lambda x: 1 if x=='no_energy' else 0))\n",
    "merged_outer=merged_outer.assign(energy_yes_energy=merged_outer.energy.apply(lambda x: 1 if x=='yes_energy' else 0))\n",
    "merged_outer=merged_outer.assign(sensor_no_sensor=merged_outer.sensor.apply(lambda x: 1 if x=='no_sensor' else 0))\n",
    "merged_outer=merged_outer.assign(sensor_yes_sensor=merged_outer.sensor.apply(lambda x: 1 if x=='yes_sensor' else 0))\n",
    "merged_outer=merged_outer.assign(equipRef_Air_Equip=merged_outer.equipRef.apply(lambda x: 1 if x=='Air_Equip' else 0))\n",
    "merged_outer=merged_outer.assign(equipRef_Cooling=merged_outer.equipRef.apply(lambda x: 1 if x=='Cooling' else 0))\n",
    "merged_outer=merged_outer.assign(equipRef_Heating=merged_outer.equipRef.apply(lambda x: 1 if x=='Heating' else 0))\n",
    "merged_outer=merged_outer.assign(equipRef_LEED=merged_outer.equipRef.apply(lambda x: 1 if x=='LEED' else 0))\n",
    "# scaling after feature selection\n",
    "for i in range(1,6):\n",
    "    merged_outer.iloc[:,i]=data_preparation.scale_continuous(merged_outer, indexes=[i])\n",
    "\n",
    "###   d) Join the model coeffecients from step2 output to the EC+metadata\n",
    "step3_data = pd.merge(merged_outer, final_df, left_on='uniqueId', right_on='uniqueId', how='outer')\n",
    "# dropping unnessary columns to feed into classification\n",
    "step3_data = step3_data.drop(['kind', 'energy', 'power', 'sensor', 'water', 'isGas', 'equipRef', 'groupRef', 'navName', 'unit'], axis=1)\n",
    "# Populating endUseLabel that are null with 99_UNKNOWN so that they can be predicted\n",
    "step3_data.loc[:, 'endUseLabel'] = step3_data.loc[:, 'endUseLabel'].fillna('99_UNKNOWN')\n",
    "if SAVE_STEP_OUTPUTS:\n",
    "    step3_data.to_csv(STEP3_SAVE_PATH)\n",
    "print(\"####### ~~~~~ Complete - Step 3: Prep EC Data for Classification Model ~~~~~ #######\") # For tracking program progress\n"
   ]
  },
  {
   "cell_type": "markdown",
   "metadata": {
    "colab_type": "text",
    "id": "2y7Sozlogqtd"
   },
   "source": [
    "### Step 4 - Classification model for EC data\n",
    "The purpose of Step 4 is to take the data from the previous steps and predict the end uses of each of the unknown energy consumption sensors. The final output of step is a dataframe of sensor unique ID's and the corresponding sensor end uses. This dataframe is saved to a csv which can then be fed into Step 5.\n",
    "\n",
    "The activities required to accomplish the goals of this step are the following:\n",
    "1. Manipulate the dataset such that the known end use labels from the training set are the last column in the dataframe and store updates back in `training_data`\n",
    "  * NOTE: This allows for any number of predictor variables to be used, this flexibility is required to maintain flexibility in the number of clusters generated in Step 1\n",
    "2. Extract just the numbers from the end use labels since the classifier works with integers not strings and store updates back in `training_data['endUseLabel']`\n",
    "3. Prep the data for prediction and classification by creating seperate datasets for training and predicting and store them in `training_data` and `predicting_data` respectively\n",
    "4. Create and train the `classifier`\n",
    "5. Predict the end uses of the unlabled sensors and store the results in `y_pred`\n",
    "6. Create and populate the output dataframe, `sensor_labels`, and save it as a csv\n",
    "7. If `DISPLAY_PREDICTION_METRICS`==True\n",
    "  1. Split the training data into a training and testing set\n",
    "  2. Re-create and train the classifier\n",
    "  3. Calculate and print the prediction metrics listed below for the currently selected supervised model:\n",
    "    * Confusion Matrix\n",
    "    * Accuracy\n",
    "    * Precision\n",
    "    * Recall\n",
    "    * F1 Score\n",
    "    * Log Loss\n",
    "  4. Calculate the above metrics for Supervised Classification models imported in the **Library Imports** Section and print the top performing model(s) with its/their performance metrics\n",
    "    * NOTE: Current functionality just prints the top performing model(s), it doesn't currently implement it/them\n",
    "\n",
    "The following code chunk is where any changes to the supervised model must be done, this would include modifying the code to automatically select which supervised model to use based on performance on the training dataset."
   ]
  },
  {
   "cell_type": "code",
   "execution_count": 17,
   "metadata": {
    "colab": {},
    "colab_type": "code",
    "id": "5_NLifCmgpS4"
   },
   "outputs": [
    {
     "name": "stdout",
     "output_type": "stream",
     "text": [
      "####### ~~~~~ Starting - Step 4: Supervised Modeling and Predicting End-Use Labels ~~~~~ #######\n",
      "\t##### ~~~ Step 4: Displaying Prediction Metrics For the Current Model ~~~ #####\n",
      "[[5 0 0 0 0 1]\n",
      " [0 3 0 0 0 0]\n",
      " [0 0 9 0 0 1]\n",
      " [0 0 0 2 0 0]\n",
      " [0 0 0 0 3 0]\n",
      " [0 0 0 0 0 5]]\n",
      "accuracy: 0.9310344827586207\n",
      "precision: 0.9507389162561577\n",
      "recall: 0.9310344827586207\n",
      "f1: 0.934306770059946\n",
      "logloss: 0.21560360066287912\n",
      "\t##### ~~~ Step 4: Identifying the Best Supervised Model for the Current Data ~~~ #####\n"
     ]
    },
    {
     "name": "stderr",
     "output_type": "stream",
     "text": [
      "/home/connor/anaconda3/lib/python3.7/site-packages/sklearn/metrics/_classification.py:1272: UndefinedMetricWarning: Precision is ill-defined and being set to 0.0 in labels with no predicted samples. Use `zero_division` parameter to control this behavior.\n",
      "  _warn_prf(average, modifier, msg_start, len(result))\n",
      "/home/connor/anaconda3/lib/python3.7/site-packages/sklearn/metrics/_classification.py:1272: UndefinedMetricWarning: Precision is ill-defined and being set to 0.0 in labels with no predicted samples. Use `zero_division` parameter to control this behavior.\n",
      "  _warn_prf(average, modifier, msg_start, len(result))\n",
      "/home/connor/anaconda3/lib/python3.7/site-packages/sklearn/metrics/_classification.py:1272: UndefinedMetricWarning: Precision is ill-defined and being set to 0.0 in labels with no predicted samples. Use `zero_division` parameter to control this behavior.\n",
      "  _warn_prf(average, modifier, msg_start, len(result))\n"
     ]
    },
    {
     "name": "stdout",
     "output_type": "stream",
     "text": [
      "0.9655172413793104\n",
      "0.971264367816092\n",
      "0.9655172413793104\n",
      "0.9661771984820987\n",
      "0.08775578294010603\n",
      "                        accuracy precision    recall  f1_score    logloss  \\\n",
      "random_forest           0.965517  0.971264  0.965517  0.966177   0.220271   \n",
      "extremely_random_trees  0.965517  0.971264  0.965517  0.966177  0.0915465   \n",
      "\n",
      "                        num_best  \n",
      "random_forest                  4  \n",
      "extremely_random_trees         4  \n",
      "####### ~~~~~ Complete - Step 4: Supervised Modeling and Predicting End-Use Labels ~~~~~ #######\n"
     ]
    }
   ],
   "source": [
    "##### 4) Classification model\n",
    "###########################################################################\n",
    "print(\"####### ~~~~~ Starting - Step 4: Supervised Modeling and Predicting End-Use Labels ~~~~~ #######\") # For tracking program progress\n",
    "###   a) Dataprep to get the step 3 data into an appropriate format for prediction\n",
    "training_data=step3_data\n",
    "# Manipulating dataset to be in the appropriate format for creating seperate predictor and response datasets\n",
    "cols = training_data.columns.tolist()\n",
    "cols.remove('endUseLabel')\n",
    "cols.append('endUseLabel')\n",
    "training_data = training_data[cols]\n",
    "# Creating End Use Label Dictionary\n",
    "end_use_labels = {}\n",
    "for label in training_data['endUseLabel'].unique():\n",
    "    end_use_labels[int(str(label)[0:2])] = label\n",
    "# Extracting just the number from the label\n",
    "training_data['endUseLabel'] = training_data['endUseLabel'].apply(lambda x: int(str(x)[0:2]))\n",
    "predicting_data = training_data[(training_data['endUseLabel']==99)]\n",
    "training_data=training_data[(training_data['endUseLabel']!=99)]\n",
    "# Storing Training and Prediction labels\n",
    "predicting_labels = predicting_data['uniqueId']\n",
    "predicting_labels = pd.concat([predicting_labels, predicting_data['endUseLabel']], axis=1)\n",
    "training_labels = training_data['uniqueId']\n",
    "training_labels = pd.concat([training_labels, training_data['endUseLabel']], axis=1)\n",
    "# Dropping uniqueid and filling na's with 0\n",
    "training_data = training_data.drop('uniqueId', axis=1)\n",
    "training_data = training_data.fillna(0)\n",
    "predicting_data = predicting_data.drop('uniqueId', axis=1)\n",
    "predicting_data = predicting_data.fillna(0)\n",
    "# Creating seperate predictor variable and response variable numpy arrays\n",
    "x_train = training_data.iloc[:, :-1].values\n",
    "y_train = training_data.iloc[:, -1].values\n",
    "x_pred = predicting_data.iloc[:, :-1].values\n",
    "\n",
    "###   b) Create and train the selected model\n",
    "# Creating and fitting the classifier\n",
    "classifier = BaggingClassifier(n_estimators = 100)\n",
    "classifier.fit(x_train, y_train)\n",
    "\n",
    "###   c) Predict the outputs for the new data\n",
    "# Predicting the outputs\n",
    "y_pred = classifier.predict(x_pred)\n",
    "\n",
    "###   d) Create dataframe of sensors and labels to be input for step 5\n",
    "predicting_labels['endUseLabel'] = y_pred\n",
    "sensor_labels = pd.concat([training_labels, predicting_labels])\n",
    "sensor_labels['endUseLabel'] = sensor_labels['endUseLabel'].apply(lambda x: end_use_labels[x])\n",
    "sensor_labels.to_csv(PREDICTED_SAVE_PATH, index=False)\n",
    "\n",
    "###   e) Display prediction metrics on a train-test split of the testing data if desired\n",
    "if DISPLAY_PREDICTION_METRICS:\n",
    "    print(\"\\t##### ~~~ Step 4: Displaying Prediction Metrics For the Current Model ~~~ #####\") # For tracking program progress\n",
    "    # Creating training and testing sets\n",
    "    x_train, x_test, y_train, y_test = train_test_split(x_train, y_train, test_size = 0.2)\n",
    "    # Creating the classifier and predicting the output for the test set\n",
    "    classifier = BaggingClassifier(n_estimators = 100)\n",
    "    classifier.fit(x_train, y_train)\n",
    "    y_pred = classifier.predict(x_test)\n",
    "    \n",
    "    # Calculating and displaying the comparison metrics\n",
    "    cm = confusion_matrix(y_test, y_pred)\n",
    "    print(cm)\n",
    "    accuracy = accuracy_score(y_test, y_pred)\n",
    "    precision = precision_score(y_test, y_pred, average='weighted')\n",
    "    recall = recall_score(y_test, y_pred, average='weighted')\n",
    "    f1 = f1_score(y_test, y_pred, average='weighted')\n",
    "    try:\n",
    "        logloss = log_loss(y_true=y_test, y_pred=classifier.predict_proba(x_test))\n",
    "    except:\n",
    "        logloss = \"Unable to calculate logloss: Random train/test split did not provide at least 1 item from each class in both the trianing and testing set\"\n",
    "    print(\"accuracy: \"+str(accuracy))\n",
    "    print(\"precision: \"+str(precision))\n",
    "    print(\"recall: \"+str(recall))\n",
    "    print(\"f1: \"+str(f1))\n",
    "    print(\"logloss: \"+str(logloss))\n",
    "    \n",
    "    print(\"\\t##### ~~~ Step 4: Identifying the Best Supervised Model for the Current Data ~~~ #####\")      \n",
    "    # Initializing the dataframe displaying the results\n",
    "    models = ['decision_tree', 'knn', 'kernel_svm', 'logistic_regression', 'naive_bayse', 'random_forest', 'extremely_random_trees', 'bagging', 'adaboost', 'gradientboost']\n",
    "    metrics = ['accuracy', 'precision', 'recall', 'f1_score', 'logloss']\n",
    "    results = pd.DataFrame(index=models, columns=metrics)\n",
    "    \n",
    "    # Creating a list of the classifier options\n",
    "    classifier_list = []\n",
    "    classifier_list.append(DecisionTreeClassifier(criterion = 'entropy', random_state = 0))\n",
    "    classifier_list.append(KNeighborsClassifier(n_neighbors = 5, metric = 'minkowski', p = 2))\n",
    "    classifier_list.append(SVC(kernel = 'rbf', random_state = 0, probability=True))\n",
    "    classifier_list.append(LogisticRegression(random_state = 0))\n",
    "    classifier_list.append(GaussianNB())\n",
    "    classifier_list.append(RandomForestClassifier(n_estimators = 100, criterion = 'gini', random_state = 0))\n",
    "    classifier_list.append(ExtraTreesClassifier(n_estimators = 100, criterion = 'gini', random_state = 0))\n",
    "    classifier_list.append(BaggingClassifier(n_estimators = 100, random_state = 0))\n",
    "    classifier_list.append(AdaBoostClassifier(n_estimators = 100, random_state = 0))\n",
    "    classifier_list.append(GradientBoostingClassifier(n_estimators = 100, loss='deviance', criterion='friedman_mse', random_state = 0))\n",
    "    \n",
    "    # For loop to go through each of the classifiers and calculate their comparison metrics on the training and testing data\n",
    "    i=0\n",
    "    for classifier in classifier_list:\n",
    "        classifier.fit(x_train, y_train)\n",
    "        y_pred = classifier.predict(x_test)\n",
    "        accuracy = accuracy_score(y_test, y_pred)\n",
    "        precision = precision_score(y_test, y_pred, average='weighted')\n",
    "        recall = recall_score(y_test, y_pred, average='weighted')\n",
    "        f1 = f1_score(y_test, y_pred, average='weighted')\n",
    "        logloss = log_loss(y_true=y_test, y_pred=classifier.predict_proba(x_test))\n",
    "        # Storing comparison metrics in dataframe\n",
    "        results.loc[models[i], 'accuracy'] = accuracy\n",
    "        results.loc[models[i], 'precision'] = precision\n",
    "        results.loc[models[i], 'recall'] = recall\n",
    "        results.loc[models[i], 'f1_score'] = f1\n",
    "        results.loc[models[i], 'logloss'] = logloss\n",
    "        i+=1\n",
    "    \n",
    "    # Identifying which classifier(s) performed best overall   \n",
    "    results['num_best'] = 0\n",
    "    for metric in metrics:\n",
    "        if metric != 'logloss':\n",
    "            cur_best = max(results.loc[:,metric])\n",
    "        else:\n",
    "            cur_best = min(results.loc[:,metric])\n",
    "        for model in models:\n",
    "            if results.loc[model, metric]==cur_best:\n",
    "                results.loc[model,'num_best'] += 1\n",
    "    # Printing the best classifier(s) and their associated comparison metrics\n",
    "    print(results[results['num_best']==results['num_best'].max()])\n",
    "\n",
    "print(\"####### ~~~~~ Complete - Step 4: Supervised Modeling and Predicting End-Use Labels ~~~~~ #######\") # For tracking program progress"
   ]
  },
  {
   "cell_type": "markdown",
   "metadata": {
    "colab_type": "text",
    "id": "OxvxlMOQgwaL"
   },
   "source": [
    "### Step 5 - Output results to InfluxDB"
   ]
  },
  {
   "cell_type": "markdown",
   "metadata": {
    "colab_type": "text",
    "id": "7rJHQqGKlCnp"
   },
   "source": [
    "### Running main() function from main.py"
   ]
  },
  {
   "cell_type": "code",
   "execution_count": 18,
   "metadata": {
    "colab": {},
    "colab_type": "code",
    "id": "NGgnZkqRlB77"
   },
   "outputs": [
    {
     "ename": "NameError",
     "evalue": "name 'main' is not defined",
     "output_type": "error",
     "traceback": [
      "\u001b[0;31m---------------------------------------------------------------------------\u001b[0m",
      "\u001b[0;31mNameError\u001b[0m                                 Traceback (most recent call last)",
      "\u001b[0;32m<ipython-input-18-263240bbee7e>\u001b[0m in \u001b[0;36m<module>\u001b[0;34m\u001b[0m\n\u001b[0;32m----> 1\u001b[0;31m \u001b[0mmain\u001b[0m\u001b[0;34m(\u001b[0m\u001b[0;34m)\u001b[0m\u001b[0;34m\u001b[0m\u001b[0;34m\u001b[0m\u001b[0m\n\u001b[0m",
      "\u001b[0;31mNameError\u001b[0m: name 'main' is not defined"
     ]
    }
   ],
   "source": [
    "main()"
   ]
  },
  {
   "cell_type": "markdown",
   "metadata": {
    "colab_type": "text",
    "id": "ZWuMAHpgg7oz"
   },
   "source": [
    "# Modules"
   ]
  },
  {
   "cell_type": "markdown",
   "metadata": {
    "colab_type": "text",
    "id": "tmFXTmNShMw8"
   },
   "source": [
    "### data_preparation.scale_continuous(df, indexes=[0])\n",
    "Function to scale continuous data, the user must define which columns have continuous data\n",
    "\n",
    "Args:\n",
    "* df (pandas.DataFrame): dataframe to containing at least one column of continuous data \n",
    "* indexes (list): list of indexes with continuous data to scale. \n",
    "\n",
    "Returns:\n",
    "* np_arr (numpy.array): numpy array of scaled continuous values\n",
    "\n",
    "  "
   ]
  },
  {
   "cell_type": "code",
   "execution_count": null,
   "metadata": {
    "colab": {},
    "colab_type": "code",
    "id": "6R3183Scl--C"
   },
   "outputs": [],
   "source": [
    "data_preparation.scale_continuous(ec_data2, indexes[1,2,3,4,5])"
   ]
  },
  {
   "cell_type": "markdown",
   "metadata": {
    "colab_type": "text",
    "id": "MYlRS2afhcec"
   },
   "source": [
    "### data_preparation.encode_units(df)\n",
    "Function to encode units\n",
    "\n",
    "Args:\n",
    "* df (pandas.DataFrame): dataframe to containing a \"unit\" column. \n",
    "\n",
    "Returns:\n",
    "* encoded_units_df (pandas.DataFrame): dataframe containing encoded units"
   ]
  },
  {
   "cell_type": "code",
   "execution_count": null,
   "metadata": {
    "colab": {},
    "colab_type": "code",
    "id": "KhwRYcT7mZVk"
   },
   "outputs": [],
   "source": [
    "data_preparation.encode_units(ec_data1)"
   ]
  },
  {
   "cell_type": "markdown",
   "metadata": {
    "colab_type": "text",
    "id": "MZhs2Wfkhybz"
   },
   "source": [
    "### data_preparation.correct_df_units(df)\n",
    "Function to correct units of measurement column in dataframe\n",
    "\n",
    "Args:\n",
    "* df (pandas Dataframe): dataframe containing the columns uniqueId, navName, equipRef, value, and unit\n",
    "\n",
    "Returns:\n",
    "* final_df (pandas Dataframe): inputted dataframe with values in units column corrected"
   ]
  },
  {
   "cell_type": "code",
   "execution_count": null,
   "metadata": {
    "colab": {},
    "colab_type": "code",
    "id": "QiLJwCbrn2b2"
   },
   "outputs": [],
   "source": [
    "data_preparation.correct_df_units()"
   ]
  },
  {
   "cell_type": "markdown",
   "metadata": {
    "colab_type": "text",
    "id": "ocn5EQ54h98p"
   },
   "source": [
    "### data_preparation.equip_label()"
   ]
  },
  {
   "cell_type": "code",
   "execution_count": null,
   "metadata": {
    "colab": {},
    "colab_type": "code",
    "id": "HhrZ6oSin3OA"
   },
   "outputs": [],
   "source": []
  },
  {
   "cell_type": "markdown",
   "metadata": {
    "colab_type": "text",
    "id": "-dfTXyXZh4rk"
   },
   "source": [
    "### data_preparation.nav_label()\n"
   ]
  },
  {
   "cell_type": "code",
   "execution_count": null,
   "metadata": {
    "colab": {},
    "colab_type": "code",
    "id": "4JYocyDwn39n"
   },
   "outputs": [],
   "source": []
  },
  {
   "cell_type": "markdown",
   "metadata": {
    "colab_type": "text",
    "id": "S1acr71yiKVl"
   },
   "source": [
    "### data_preparation.connect_to_db()\n"
   ]
  },
  {
   "cell_type": "code",
   "execution_count": null,
   "metadata": {
    "colab": {},
    "colab_type": "code",
    "id": "JnHmrAMRn5cS"
   },
   "outputs": [],
   "source": []
  },
  {
   "cell_type": "markdown",
   "metadata": {
    "colab_type": "text",
    "id": "OrprG9QIiUuv"
   },
   "source": [
    "### data_preparation.query_db_ec()\n"
   ]
  },
  {
   "cell_type": "code",
   "execution_count": null,
   "metadata": {
    "colab": {},
    "colab_type": "code",
    "id": "JoUUE8_rn6ac"
   },
   "outputs": [],
   "source": []
  },
  {
   "cell_type": "markdown",
   "metadata": {
    "colab_type": "text",
    "id": "_19XdW-liWRi"
   },
   "source": [
    "### data_preparation.query_db_nc()\n"
   ]
  },
  {
   "cell_type": "code",
   "execution_count": null,
   "metadata": {
    "colab": {},
    "colab_type": "code",
    "id": "wKQcYf1en7Nv"
   },
   "outputs": [],
   "source": []
  },
  {
   "cell_type": "markdown",
   "metadata": {
    "colab_type": "text",
    "id": "ygBLA3EfiXhd"
   },
   "source": [
    "### data_preparation.query_csv()\n"
   ]
  },
  {
   "cell_type": "code",
   "execution_count": null,
   "metadata": {
    "colab": {},
    "colab_type": "code",
    "id": "yFiBJiwPn8GA"
   },
   "outputs": [],
   "source": []
  },
  {
   "cell_type": "markdown",
   "metadata": {
    "colab_type": "text",
    "id": "5jUffN3ViZNL"
   },
   "source": [
    "### data_preparation.query_weather_csv()"
   ]
  },
  {
   "cell_type": "code",
   "execution_count": null,
   "metadata": {
    "colab": {},
    "colab_type": "code",
    "id": "XWXhd-qAn8yP"
   },
   "outputs": [],
   "source": []
  }
 ],
 "metadata": {
  "colab": {
   "collapsed_sections": [],
   "name": "example_notebook.ipynb",
   "provenance": []
  },
  "kernelspec": {
   "display_name": "Python 3",
   "language": "python",
   "name": "python3"
  },
  "language_info": {
   "codemirror_mode": {
    "name": "ipython",
    "version": 3
   },
   "file_extension": ".py",
   "mimetype": "text/x-python",
   "name": "python",
   "nbconvert_exporter": "python",
   "pygments_lexer": "ipython3",
   "version": "3.7.6"
  }
 },
 "nbformat": 4,
 "nbformat_minor": 4
}
